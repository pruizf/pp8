{
 "cells": [
  {
   "cell_type": "code",
   "id": "39fe33c2-aafc-46f2-91ee-655a59a4d22f",
   "metadata": {
    "ExecuteTime": {
     "end_time": "2025-06-10T21:32:55.402201Z",
     "start_time": "2025-06-10T21:32:54.783292Z"
    }
   },
   "source": [
    "from collections import Counter\n",
    "from copy import copy\n",
    "from importlib import reload\n",
    "import json\n",
    "import os\n",
    "from pathlib import Path\n",
    "import re\n",
    "\n",
    "import matplotlib.pyplot as plt\n",
    "import numpy as np\n",
    "import pandas as pd\n",
    "from scipy.stats import pearsonr, spearmanr\n",
    "from sklearn.metrics import accuracy_score, f1_score\n",
    "from sklearn.metrics import classification_report, ConfusionMatrixDisplay, confusion_matrix\n",
    "\n",
    "import config as cf\n",
    "import utils as ut"
   ],
   "outputs": [],
   "execution_count": 4
  },
  {
   "cell_type": "code",
   "id": "fadacde859a7f171",
   "metadata": {
    "ExecuteTime": {
     "end_time": "2025-06-10T21:32:55.416895Z",
     "start_time": "2025-06-10T21:32:55.414616Z"
    }
   },
   "source": [
    "#TODO Label rewriting could be simplified"
   ],
   "outputs": [],
   "execution_count": 5
  },
  {
   "cell_type": "code",
   "id": "c5f34cfa6a15aa0a",
   "metadata": {
    "ExecuteTime": {
     "end_time": "2025-06-10T21:32:55.468113Z",
     "start_time": "2025-06-10T21:32:55.463571Z"
    }
   },
   "source": [
    "for mod in cf, ut:\n",
    "  reload(mod)"
   ],
   "outputs": [],
   "execution_count": 6
  },
  {
   "cell_type": "code",
   "id": "6b48abf9dc64ac07",
   "metadata": {
    "ExecuteTime": {
     "end_time": "2025-06-10T21:32:55.515879Z",
     "start_time": "2025-06-10T21:32:55.511585Z"
    }
   },
   "source": [
    "# IO\n",
    "res_main_dir = Path(\"..\") / \"outputs\" / \"model_responses\" / \"mistral\"\n",
    "md_file = cf.metadata_file\n",
    "md_df = pd.read_csv(md_file, sep=\"\\t\")\n",
    "ana_dir = cf.error_analysis_dir\n",
    "\n",
    "# color scheme for confusion matrices based on model name \n",
    "clrmap_dict = {\"gpt-4o\": \"Greens\", \"gpt-35-turbo\": \"Blues\", \"gpt-4o-mini\": \"Purples\",\n",
    "               \"mistral-small\": \"Blues\", \"mistral-large-latest\": \"Greens\"}"
   ],
   "outputs": [],
   "execution_count": 7
  },
  {
   "cell_type": "code",
   "id": "7542b171be221454",
   "metadata": {
    "ExecuteTime": {
     "end_time": "2025-06-10T21:32:55.572663Z",
     "start_time": "2025-06-10T21:32:55.566219Z"
    }
   },
   "source": [
    "def plot_confusion_matrix(y_preds, y_true, labels, color_key, normalize=None):\n",
    "  cm = confusion_matrix(y_true, y_preds, normalize=normalize)\n",
    "  fig, ax = plt.subplots(figsize=(6, 6))\n",
    "  plt.grid(False)\n",
    "  font = {'family' : 'Arial',\n",
    "    'weight' : 'bold',\n",
    "    'size'   : 16}\n",
    "  plt.rc('font', **font)\n",
    "  #labels_for_fig = [l[0:4]+'.' for l in labels]\n",
    "  labels_for_fig = labels\n",
    "  disp = ConfusionMatrixDisplay(confusion_matrix=cm,\n",
    "                                display_labels=labels_for_fig)\n",
    "  #disp.plot(cmap=\"Purples\", values_format=\".2f\", ax=ax, colorbar=False)\n",
    "  if normalize:\n",
    "    disp.plot(cmap=clrmap_dict[color_key], values_format=\".2f\", ax=ax, colorbar=False)\n",
    "    norm_prefix = \"Normalized \"\n",
    "    title_text = \"confusion matrix\"\n",
    "  else:\n",
    "    disp.plot(cmap=clrmap_dict[color_key], ax=ax, colorbar=False)\n",
    "    norm_prefix = \"\"\n",
    "    title_text = \"\"\n",
    "  #disp.plot(cmap=clrmap_dict[color_key], values_format=\".2f\", ax=ax, colorbar=False)\n",
    "  plt.title(f\"{norm_prefix}{title_text}\")\n",
    "  plt.show()\n"
   ],
   "outputs": [],
   "execution_count": 8
  },
  {
   "cell_type": "markdown",
   "id": "f137d0514e440181",
   "metadata": {},
   "source": [
    "## Binary classification"
   ]
  },
  {
   "cell_type": "code",
   "id": "48f575e7c7fa7881",
   "metadata": {
    "ExecuteTime": {
     "end_time": "2025-06-10T21:32:55.657314Z",
     "start_time": "2025-06-10T21:32:55.651063Z"
    }
   },
   "source": [
    "def eval_res(res_dir, color_mode):\n",
    "  \"\"\"\n",
    "  Evaluate humor judgement results for a directory.\n",
    "\n",
    "  Return:\n",
    "      dict\n",
    "      With keys as follows:\n",
    "          \"sys_orig\": original system results before label postprocessing\n",
    "          \"sys_res\": system results after preprocessing\n",
    "          \"ref_res\": reference results\n",
    "          \"cm\": plain text confusion matrix\n",
    "  \"\"\"\n",
    "  assert color_mode in clrmap_dict\n",
    "  sys_jmt, sys_jmt_no_postpro = ut.get_judgement_info_for_dir(res_dir)\n",
    "  sys_jmt_orig = copy(sys_jmt)\n",
    "  sys_jmt = [\"other\" if kv[1] == 'no' else \"comic\" for kv in sorted(sys_jmt.items())]\n",
    "  ref_jmt = [\"other\" if va == 0 else \"comic\" for va in md_df['comic'].tolist()]\n",
    "  print(\"lensys\", len(sys_jmt), \"lenref\", len(ref_jmt))\n",
    "  labels = [\"comic\", \"other\"]\n",
    "  classif_report = classification_report(ref_jmt, sys_jmt, target_names=labels)\n",
    "  plot_confusion_matrix(sys_jmt, ref_jmt, labels, color_mode)\n",
    "  # note: 0, 1 in the plain text cm are class indices,\n",
    "  # NOT 0 no humor and 1 humor\n",
    "  plain_cm = confusion_matrix(ref_jmt, sys_jmt, normalize=\"true\")\n",
    "  return {\"sys_orig\": sys_jmt_orig, \"sys_res_no_postpro\": sys_jmt_no_postpro,\n",
    "          \"sys_res\": sys_jmt, \"ref_res\": ref_jmt, \"cm\": plain_cm, \"cr\": classif_report}"
   ],
   "outputs": [],
   "execution_count": 9
  },
  {
   "cell_type": "code",
   "id": "cda73f9b5124d0e8",
   "metadata": {
    "ExecuteTime": {
     "end_time": "2025-06-10T21:32:55.706098Z",
     "start_time": "2025-06-10T21:32:55.702321Z"
    }
   },
   "source": [
    "%pdb"
   ],
   "outputs": [
    {
     "name": "stdout",
     "output_type": "stream",
     "text": [
      "Automatic pdb calling has been turned ON\n"
     ]
    }
   ],
   "execution_count": 10
  },
  {
   "cell_type": "markdown",
   "id": "afa716df3729cd15",
   "metadata": {},
   "source": [
    "Note that the **paths do point to Mistral responses** even if I didn't change variable names (copied over the notebooks from the GPT ones)."
   ]
  },
  {
   "cell_type": "code",
   "id": "28d129361fe2aabe",
   "metadata": {
    "ExecuteTime": {
     "end_time": "2025-06-10T21:32:55.822314Z",
     "start_time": "2025-06-10T21:32:55.756488Z"
    }
   },
   "source": [
    "model_4o = \"mistral-large-latest\"\n",
    "model_4o_res_dir = os.path.join(cf.response_dir, f\"mistral/{model_4o}\")\n",
    "res_4o = eval_res(model_4o_res_dir, model_4o)\n",
    "print(res_4o[\"cr\"])"
   ],
   "outputs": [
    {
     "name": "stdout",
     "output_type": "stream",
     "text": [
      "lensys 100 lenref 100\n"
     ]
    },
    {
     "data": {
      "text/plain": [
       "<Figure size 600x600 with 1 Axes>"
      ],
      "image/png": "[encoded data removed]"
     },
     "metadata": {},
     "output_type": "display_data"
    },
    {
     "name": "stdout",
     "output_type": "stream",
     "text": [
      "              precision    recall  f1-score   support\n",
      "\n",
      "       comic       1.00      0.64      0.78        50\n",
      "       other       0.74      1.00      0.85        50\n",
      "\n",
      "    accuracy                           0.82       100\n",
      "   macro avg       0.87      0.82      0.81       100\n",
      "weighted avg       0.87      0.82      0.81       100\n",
      "\n"
     ]
    }
   ],
   "execution_count": 11
  },
  {
   "cell_type": "code",
   "id": "121eb8cdd411b4c2",
   "metadata": {
    "ExecuteTime": {
     "end_time": "2025-06-10T21:32:55.894248Z",
     "start_time": "2025-06-10T21:32:55.888447Z"
    }
   },
   "source": [
    "len(res_4o[\"sys_res\"])"
   ],
   "outputs": [
    {
     "data": {
      "text/plain": [
       "100"
      ]
     },
     "execution_count": 12,
     "metadata": {},
     "output_type": "execute_result"
    }
   ],
   "execution_count": 12
  },
  {
   "cell_type": "markdown",
   "id": "9ddb9310fbdcfde2",
   "metadata": {},
   "source": []
  },
  {
   "cell_type": "markdown",
   "id": "26bd2bb5ae6f0e9f",
   "metadata": {},
   "source": [
    "Note that **the paths do point to Mistral responses** even if I didn't change variable names (copied over the notebooks from the GPT ones). "
   ]
  },
  {
   "cell_type": "code",
   "id": "8c54d6c4aa6d1202",
   "metadata": {
    "ExecuteTime": {
     "end_time": "2025-06-10T21:32:56.005158Z",
     "start_time": "2025-06-10T21:32:55.948613Z"
    }
   },
   "source": [
    "model_35 = \"mistral-small\"\n",
    "model_35_res_dir = os.path.join(cf.response_dir, f\"mistral/{model_35}\")\n",
    "res_35 = eval_res(model_35_res_dir, model_35)\n",
    "print(res_35[\"cr\"])"
   ],
   "outputs": [
    {
     "name": "stdout",
     "output_type": "stream",
     "text": [
      "lensys 100 lenref 100\n"
     ]
    },
    {
     "data": {
      "text/plain": [
       "<Figure size 600x600 with 1 Axes>"
      ],
      "image/png": "[encoded data removed]"
     },
     "metadata": {},
     "output_type": "display_data"
    },
    {
     "name": "stdout",
     "output_type": "stream",
     "text": [
      "              precision    recall  f1-score   support\n",
      "\n",
      "       comic       1.00      0.16      0.28        50\n",
      "       other       0.54      1.00      0.70        50\n",
      "\n",
      "    accuracy                           0.58       100\n",
      "   macro avg       0.77      0.58      0.49       100\n",
      "weighted avg       0.77      0.58      0.49       100\n",
      "\n"
     ]
    }
   ],
   "execution_count": 13
  },
  {
   "cell_type": "markdown",
   "id": "eb01bb8fda0c4736",
   "metadata": {},
   "source": "### Look at errors"
  },
  {
   "cell_type": "code",
   "id": "946137e58d3785b5",
   "metadata": {
    "ExecuteTime": {
     "end_time": "2025-06-10T21:32:56.068279Z",
     "start_time": "2025-06-10T21:32:56.061858Z"
    }
   },
   "source": [
    "def get_error_case_idx_and_metadata(res, md_df):\n",
    "  \"\"\"\n",
    "  Get the indices of the bad results and metadata like author or century.\n",
    "  Args:\n",
    "    res (dict): The results to get error cases for; `dict` format produced by `eval_res()`.\n",
    "    md_df (DataFrame): Dataframe with metadata.\n",
    "\n",
    "  Returns:\n",
    "    tuple: Lists with the indices of the bad results, the centuries of the bad results, and the authors of the bad results.\n",
    "  \"\"\"\n",
    "  bad_centuries = []\n",
    "  bad_authors = []\n",
    "  bad_idx = []\n",
    "  print(\"\\t\".join(str(x) for x in (\"idx\", \"rr\", \"sr\", \"century\", \"author\", \"title\"))) \n",
    "  for idx, (sr, rr) in enumerate(zip(res[\"sys_res\"], res[\"ref_res\"])):\n",
    "    if rr != sr:\n",
    "      century = md_df.loc[md_df['id'] == idx + 1, 'centuryBirth'].iat[0]\n",
    "      author = md_df.loc[md_df['id'] == idx + 1, 'author'].iat[0]\n",
    "      title = md_df.loc[md_df['id'] == idx + 1, 'title'].iat[0]\n",
    "      bad_centuries.append(century)\n",
    "      bad_authors.append(author)\n",
    "      bad_idx.append(idx + 1)\n",
    "      print(\"\\t\".join(str(x) for x in (idx+1, rr, sr, century, author, title)))\n",
    "  return bad_idx, bad_centuries, bad_authors"
   ],
   "outputs": [],
   "execution_count": 14
  },
  {
   "cell_type": "code",
   "id": "b81c4b7263b7de7c",
   "metadata": {
    "ExecuteTime": {
     "end_time": "2025-06-10T21:32:56.154114Z",
     "start_time": "2025-06-10T21:32:56.123461Z"
    }
   },
   "source": [
    "bad_idx, bad_centuries, bad_authors = get_error_case_idx_and_metadata(res_35, md_df)"
   ],
   "outputs": [
    {
     "name": "stdout",
     "output_type": "stream",
     "text": [
      "idx\trr\tsr\tcentury\tauthor\ttitle\n",
      "1\tcomic\tother\t19\tAugusto E. Madan\tSoneto chino\n",
      "2\tcomic\tother\t19\tJuan de Arguijo\tA la toma de Larache\n",
      "3\tcomic\tother\t20\tJon Juaristi\tPatria mía\n",
      "4\tcomic\tother\t19\tMiguel de Cervantes\tA un valentón\n",
      "5\tcomic\tother\t19\tAugusto E. Madan\tRipios ratoniles\n",
      "7\tcomic\tother\t16\tMiguel de Cervantes\tMaestro era de esgrima Campuzano\n",
      "9\tcomic\tother\t19\tManuel Bernabé\tLASTICO-SEXUAL\n",
      "10\tcomic\tother\t19\tMelchor Jufré del Águila\tSONETO\n",
      "11\tcomic\tother\t20\tJon Juaristi\tA Vinogrado, avinagrado\n",
      "13\tcomic\tother\t19\tBlas Sirvent\tSoneto\n",
      "14\tcomic\tother\t19\tBlas Sirvent\tSoneto\n",
      "15\tcomic\tother\t19\tMariano Álvarez Robles\tSoneto\n",
      "16\tcomic\tother\t19\tManuel Bretón de los Herreros\tA varios amigos tronados\n",
      "17\tcomic\tother\t19\tWenceslao Ayguals de Izco\tAl señor MAS - Soneto MASónico.\n",
      "18\tcomic\tother\t19\tMiguel Agustín Príncipe\tUna mañana fresca, paseando\n",
      "19\tcomic\tother\t19\tAnónimo\t¿Quieres ser liberal? Ten entendido\n",
      "20\tcomic\tother\t19\tJuan Martínez Villergas\tBrindó Brabo, no el padre, sino el hijo\n",
      "23\tcomic\tother\t19\tMiguel Ramos Carrión\tEl botijo\n",
      "51\tcomic\tother\t19\tManuel del Palacio\tLa erupción\n",
      "52\tcomic\tother\t19\tManuel del Palacio\tNo hay regla sin excepción\n",
      "53\tcomic\tother\t19\tManuel del Palacio\tEl amor ideal\n",
      "54\tcomic\tother\t19\tManuel del Palacio\tEl mayor dolor\n",
      "55\tcomic\tother\t19\tManuel del Palacio\tIdilio\n",
      "57\tcomic\tother\t19\tManuel del Palacio\tMal de muchos...\n",
      "58\tcomic\tother\t19\tManuel del Palacio\tOración fúnebre\n",
      "59\tcomic\tother\t19\tManuel del Palacio\tLa doctrina de Epicuro\n",
      "60\tcomic\tother\t19\tManuel del Palacio\tTrabajo perdido\n",
      "61\tcomic\tother\t19\tManuel del Palacio\tEl néctar de los dioses\n",
      "62\tcomic\tother\t19\tManuel del Palacio\tA un crítico\n",
      "64\tcomic\tother\t19\tManuel del Palacio\tUn amigo residente en Roma\n",
      "65\tcomic\tother\t19\tManuel del Palacio\tInforme - A un amigo que, pensando en casarse, me pidió mi opinión respecto de las mujeres\n",
      "66\tcomic\tother\t19\tManuel del Palacio\tLeda... Rodríguez\n",
      "67\tcomic\tother\t19\tManuel del Palacio\tA un pobre rico\n",
      "68\tcomic\tother\t19\tManuel del Palacio\tLos placeres del campo\n",
      "69\tcomic\tother\t16\tJuan de Tassis y Peralta, Conde de Villamediana\tA Josefa Vaca, reprendiéndola su marido\n",
      "70\tcomic\tother\t16\tJuan de Tassis y Peralta, Conde de Villamediana\tJosefa Vaca, comedianta\n",
      "71\tcomic\tother\t16\tJuan de Tassis y Peralta, Conde de Villamediana\tA una academia que se hizo en casa de Antonio de Vega, confeso\n",
      "72\tcomic\tother\t16\tJuan de Tassis y Peralta, Conde de Villamediana\tA vanas esperanzas de la Corte\n",
      "73\tcomic\tother\t16\tJuan de Tassis y Peralta, Conde de Villamediana\tA doña Justa Sánchez y don Diego de Tovar\n",
      "74\tcomic\tother\t16\tJuan de Tassis y Peralta, Conde de Villamediana\tA Jorge de Tovar\n",
      "75\tcomic\tother\t16\tJuan de Tassis y Peralta, Conde de Villamediana\tA la casa de una cortesana donde entró a vivir un pretendiente\n",
      "76\tcomic\tother\t16\tJuan de Tassis y Peralta, Conde de Villamediana\tAl aguacil de corte Pedro Vergel\n"
     ]
    }
   ],
   "execution_count": 15
  },
  {
   "cell_type": "code",
   "id": "b75a2bffb026b6c9",
   "metadata": {
    "ExecuteTime": {
     "end_time": "2025-06-10T21:32:56.208902Z",
     "start_time": "2025-06-10T21:32:56.203989Z"
    }
   },
   "source": [
    "Counter(bad_centuries)"
   ],
   "outputs": [
    {
     "data": {
      "text/plain": [
       "Counter({19: 31, 16: 9, 20: 2})"
      ]
     },
     "execution_count": 16,
     "metadata": {},
     "output_type": "execute_result"
    }
   ],
   "execution_count": 16
  },
  {
   "cell_type": "code",
   "id": "15dc4ffcf505736e",
   "metadata": {
    "ExecuteTime": {
     "end_time": "2025-06-10T21:32:56.269957Z",
     "start_time": "2025-06-10T21:32:56.265804Z"
    }
   },
   "source": [
    "Counter(bad_authors)"
   ],
   "outputs": [
    {
     "data": {
      "text/plain": [
       "Counter({'Manuel del Palacio': 16,\n",
       "         'Juan de Tassis y Peralta, Conde de Villamediana': 8,\n",
       "         'Augusto E. Madan': 2,\n",
       "         'Jon Juaristi': 2,\n",
       "         'Miguel de Cervantes': 2,\n",
       "         'Blas Sirvent': 2,\n",
       "         'Juan de Arguijo': 1,\n",
       "         'Manuel Bernabé': 1,\n",
       "         'Melchor Jufré del Águila': 1,\n",
       "         'Mariano Álvarez Robles': 1,\n",
       "         'Manuel Bretón de los Herreros': 1,\n",
       "         'Wenceslao Ayguals de Izco': 1,\n",
       "         'Miguel Agustín Príncipe': 1,\n",
       "         'Anónimo': 1,\n",
       "         'Juan Martínez Villergas': 1,\n",
       "         'Miguel Ramos Carrión': 1})"
      ]
     },
     "execution_count": 17,
     "metadata": {},
     "output_type": "execute_result"
    }
   ],
   "execution_count": 17
  },
  {
   "cell_type": "code",
   "id": "f2e3dc64fd04ce4b",
   "metadata": {
    "ExecuteTime": {
     "end_time": "2025-06-10T21:32:56.328528Z",
     "start_time": "2025-06-10T21:32:56.324806Z"
    }
   },
   "source": [
    "def label_rewriter(label):\n",
    "  \"\"\"\n",
    "  Should help only for labels in output directory;\n",
    "  labels from evaluation function are already\n",
    "  restricted to those allowed in `cf.orig_labels`\n",
    "  \"\"\"\n",
    "  if label.lower() == \"no\":\n",
    "    return \"other\"\n",
    "  elif label.lower() in (\"incierto\", \"incierta\"):\n",
    "    return \"other-incierto\"\n",
    "  elif label.lower() == \"sí\":\n",
    "    return \"comic\"\n",
    "  else:\n",
    "    return label.lower()"
   ],
   "outputs": [],
   "execution_count": 18
  },
  {
   "cell_type": "code",
   "id": "fba087a8d57babe0",
   "metadata": {
    "ExecuteTime": {
     "end_time": "2025-06-10T21:32:56.382280Z",
     "start_time": "2025-06-10T21:32:56.376210Z"
    }
   },
   "source": [
    "def analyze_results(res, model_res_dir, ana_dir, bad_idx, md_df, model_name):\n",
    "  \"\"\"\n",
    "  Analyzes the results of a model.\n",
    "  \n",
    "  Args:\n",
    "      res (dict): The results assigned to the variable (e.g., `res_35` or `res_4o`).\n",
    "      model_res_dir (str): The directory where the model results are stored (e.g., `model_35_res_dir` or `model_4o_res_dir`).\n",
    "      ana_dir (str): The directory where the analysis results will be stored.\n",
    "      bad_idx (list): The indices of the bad results.\n",
    "      md_df (DataFrame): The metadata DataFrame.\n",
    "      model_name (str): The name of the model (e.g., `gpt-35-turbo` or `gpt-4o`).\n",
    "  Returns:\n",
    "    None\n",
    "  \"\"\"\n",
    "  fname_for_bad_jmts = os.path.join(ana_dir, f\"{model_name}bads_all\")\n",
    "  fname_for_bad_jmts_fp = os.path.join(ana_dir, f\"{model_name}bads_fp\")\n",
    "  fname_for_bad_jmts_fn = os.path.join(ana_dir, f\"{model_name}bads_fn\")\n",
    "  bad_model_resps = [] #TODO why needed (if)?\n",
    "  dones_for_pfx = {}\n",
    "  poem_text = \"\"\n",
    "  # open output files\n",
    "  with open(fname_for_bad_jmts, mode=\"w\") as oufi_all, \\\n",
    "      open(fname_for_bad_jmts_fp, mode=\"w\") as oufi_fp, \\\n",
    "      open(fname_for_bad_jmts_fn, mode=\"w\") as oufi_fn:\n",
    "    for example_idx, bidx in enumerate(bad_idx):\n",
    "      # get model responses for error cases\n",
    "      model_resps_for_idx = sorted([fname for fname in sorted(os.listdir(model_res_dir))\n",
    "                                    if fname.startswith(\"humor\") and str.zfill(str(bidx), 4)\n",
    "                                    in fname])\n",
    "      #TODO This looks useless, why still here?\n",
    "      bad_model_resps.extend(model_resps_for_idx[0:cf.max_choices_for_textometry])\n",
    "      # iterate over error cases\n",
    "      for mrfi in model_resps_for_idx[0:cf.max_choices_for_textometry]:\n",
    "        mrfi_pfx = re.sub(r\"_\\d\\..*$\", \"\", mrfi)\n",
    "        if mrfi_pfx not in dones_for_pfx:\n",
    "          poem_text = ut.get_poem_text_by_id(bidx)\n",
    "        # write out error info for analysis\n",
    "        with open(os.path.join(model_res_dir, mrfi), mode=\"r\") as respfi:\n",
    "          author = md_df.loc[md_df['id'] == bidx, 'author'].iat[0]\n",
    "          title = md_df.loc[md_df['id'] == bidx, 'title'].iat[0]\n",
    "          century = md_df.loc[md_df['id'] == bidx, 'centuryBirth'].iat[0]\n",
    "          txt = respfi.read()\n",
    "          jso = json.loads(txt)\n",
    "          # jmt_from_outdir (directly from output dir) is to compare with eval result\n",
    "          jmt_from_outdir, reason = jso[\"judgement\"], jso[\"reason\"]\n",
    "          jmt_from_eval = res[\"sys_res\"][bidx - 1]\n",
    "          ref_res = res[\"ref_res\"][bidx - 1]\n",
    "          # keep track of how many for prefix to only output as many choices as analyzed in textometry\n",
    "          dones_for_pfx.setdefault(mrfi_pfx, 1)\n",
    "          dones_for_pfx[mrfi_pfx] += 1\n",
    "          # makes outdir labels more homogeneous with labels output by eval\n",
    "          jmt_from_outdir_rw = label_rewriter(jmt_from_outdir)\n",
    "          jmt_from_eval_rw = label_rewriter(jmt_from_eval)\n",
    "          ref_res_rw = label_rewriter(ref_res)\n",
    "          # choose output file based on error type\n",
    "          #   this is based on assumption that all results are errors\n",
    "          #   and only the two errors below are possible\n",
    "          assert jmt_from_eval_rw in (\"comic\", \"other\") and \\\n",
    "                 ref_res_rw in (\"comic\", \"other\") and \\\n",
    "                 jmt_from_eval_rw != ref_res_rw, f\" MRFI: {mrfi} jmt_from_eval_rw: [{jmt_from_eval_rw}]; ref_res_rw: [{ref_res_rw}]\"\n",
    "          if jmt_from_eval_rw == \"comic\" and ref_res_rw == \"other\":\n",
    "            oufi_partial = oufi_fp\n",
    "          elif jmt_from_eval_rw == \"other\" and ref_res_rw == \"comic\":\n",
    "            oufi_partial = oufi_fn\n",
    "          # prepare output info\n",
    "          md_for_ana = f\" {author} ~ {title} ~ {century}\"\n",
    "          # total in len(bad_idx) no good for fp and fn total, not calculated\n",
    "          logsep = \"\\n\" + f\"{'*' * 20} IDX [{bidx}] ({example_idx + 1}/{len(bad_idx)})\" + md_for_ana + \"\\n\\n\" + poem_text + \"\\n\" if \\\n",
    "          dones_for_pfx[mrfi_pfx] == cf.max_choices_for_textometry - 1 else \"\"\n",
    "          for oufi in oufi_partial, oufi_all:\n",
    "            oufi.write(\n",
    "              f\"\\n{logsep}\\nBad result for [{bidx}]\\tSysRes Choice: [{jmt_from_outdir_rw}]; *SysRes Aggregated*: [{jmt_from_eval_rw}]; REFERENCE: [{ref_res_rw}]\\n\\t{reason}\")"
   ],
   "outputs": [],
   "execution_count": 19
  },
  {
   "cell_type": "code",
   "id": "afada7506590530",
   "metadata": {
    "ExecuteTime": {
     "end_time": "2025-06-10T21:32:56.458973Z",
     "start_time": "2025-06-10T21:32:56.428727Z"
    }
   },
   "source": [
    "# analyze results for gpt-35-turbo\n",
    "analyze_results(res_35, model_35_res_dir, ana_dir, bad_idx, md_df, \"mistral-small\")"
   ],
   "outputs": [],
   "execution_count": 20
  },
  {
   "cell_type": "code",
   "id": "de60e73c13143b84",
   "metadata": {
    "ExecuteTime": {
     "end_time": "2025-06-10T21:32:56.516487Z",
     "start_time": "2025-06-10T21:32:56.487558Z"
    }
   },
   "source": [
    "# analyze results for gpt-4o\n",
    "bad_idx4, bad_centuries4, bad_authors4 = get_error_case_idx_and_metadata(res_4o, md_df)\n",
    "analyze_results(res_4o, model_4o_res_dir, ana_dir, bad_idx4, md_df, \"mistral-large-latest\")"
   ],
   "outputs": [
    {
     "name": "stdout",
     "output_type": "stream",
     "text": [
      "idx\trr\tsr\tcentury\tauthor\ttitle\n",
      "1\tcomic\tother\t19\tAugusto E. Madan\tSoneto chino\n",
      "3\tcomic\tother\t20\tJon Juaristi\tPatria mía\n",
      "5\tcomic\tother\t19\tAugusto E. Madan\tRipios ratoniles\n",
      "9\tcomic\tother\t19\tManuel Bernabé\tLASTICO-SEXUAL\n",
      "10\tcomic\tother\t19\tMelchor Jufré del Águila\tSONETO\n",
      "11\tcomic\tother\t20\tJon Juaristi\tA Vinogrado, avinagrado\n",
      "23\tcomic\tother\t19\tMiguel Ramos Carrión\tEl botijo\n",
      "51\tcomic\tother\t19\tManuel del Palacio\tLa erupción\n",
      "53\tcomic\tother\t19\tManuel del Palacio\tEl amor ideal\n",
      "56\tcomic\tother\t19\tManuel del Palacio\tLa recompensa\n",
      "60\tcomic\tother\t19\tManuel del Palacio\tTrabajo perdido\n",
      "64\tcomic\tother\t19\tManuel del Palacio\tUn amigo residente en Roma\n",
      "65\tcomic\tother\t19\tManuel del Palacio\tInforme - A un amigo que, pensando en casarse, me pidió mi opinión respecto de las mujeres\n",
      "66\tcomic\tother\t19\tManuel del Palacio\tLeda... Rodríguez\n",
      "70\tcomic\tother\t16\tJuan de Tassis y Peralta, Conde de Villamediana\tJosefa Vaca, comedianta\n",
      "71\tcomic\tother\t16\tJuan de Tassis y Peralta, Conde de Villamediana\tA una academia que se hizo en casa de Antonio de Vega, confeso\n",
      "74\tcomic\tother\t16\tJuan de Tassis y Peralta, Conde de Villamediana\tA Jorge de Tovar\n",
      "75\tcomic\tother\t16\tJuan de Tassis y Peralta, Conde de Villamediana\tA la casa de una cortesana donde entró a vivir un pretendiente\n"
     ]
    }
   ],
   "execution_count": 21
  },
  {
   "cell_type": "markdown",
   "id": "c542b96d445d9b05",
   "metadata": {},
   "source": [
    "## Author comparison"
   ]
  },
  {
   "cell_type": "code",
   "id": "66c2a98005536e50",
   "metadata": {
    "ExecuteTime": {
     "end_time": "2025-06-10T21:34:37.203838Z",
     "start_time": "2025-06-10T21:34:37.197575Z"
    }
   },
   "source": [
    "def analyze_author_info(model_res_dir, md_df):\n",
    "  \"\"\"\n",
    "  Analyzes author information for a given model results directory.\n",
    "\n",
    "  Args:\n",
    "    model_res_dir (str): The directory where the model results are stored.\n",
    "    md_df (DataFrame): The metadata DataFrame.\n",
    "\n",
    "  Returns:\n",
    "    None\n",
    "  \"\"\"\n",
    "  ainfo = ut.get_author_info_for_dir(model_res_dir)\n",
    "  au_matches = 0\n",
    "  century_matches = 0\n",
    "  century_diffs = []\n",
    "  for ke, va in ainfo.items():\n",
    "    poem_id = re.search(r\"_(\\d+)_\", ke).group(1)\n",
    "    assert poem_id is not None\n",
    "    poem_id = int(poem_id)\n",
    "    author_ref = md_df.loc[md_df['id'] == poem_id, 'author'].iat[0]\n",
    "    century_ref = md_df.loc[md_df['id'] == poem_id, 'centuryBirth'].iat[0]\n",
    "    au_match = 1 if va[0] == author_ref else 0\n",
    "    century_match = 1 if va[1] == century_ref else 0\n",
    "    au_matches += au_match\n",
    "    century_matches += century_match\n",
    "    century_diff = abs(va[1] - century_ref)\n",
    "    century_diffs.append(century_diff)\n",
    "    print(f\"{ke.replace(\"author_\", \"\")}\\t{va[0]}\\t{author_ref}\\t{au_match}\\t{va[1]}\\t{century_ref}\\t{century_match}\\t{century_diff}\")\n",
    "  print(f\"Total author matches: {au_matches} ({100*(au_matches/len(ainfo))}%)\")\n",
    "  print(f\"Total century matches: {century_matches} ({100*(century_matches/len(ainfo))}%)\")\n",
    "  print(f\"Mean century difference: {np.mean(century_diffs)} ({np.std(century_diffs)})\")\n",
    "\n",
    "  centuries_sys = [va[1] for va in ainfo.values()]\n",
    "  centuries_ref = [md_df.loc[md_df['id'] == int(re.search(r\"_(\\d+)_\", ke).group(1)), 'centuryBirth'].iat[0] for ke in ainfo.keys()]\n",
    "\n",
    "  print(\"Pearson r\", pearsonr(centuries_sys, centuries_ref))\n",
    "  print(\"Spearman r\", spearmanr(centuries_sys, centuries_ref))"
   ],
   "outputs": [],
   "execution_count": 25
  },
  {
   "cell_type": "code",
   "id": "9c1d1af9495d76c5",
   "metadata": {
    "ExecuteTime": {
     "end_time": "2025-06-10T21:34:39.599253Z",
     "start_time": "2025-06-10T21:34:39.550263Z"
    }
   },
   "source": [
    "from importlib import reload\n",
    "reload(ut)\n",
    "analyze_author_info(model_35_res_dir, md_df)"
   ],
   "outputs": [
    {
     "name": "stdout",
     "output_type": "stream",
     "text": [
      "0001_mistral-small.json\tRubén Darío\tAugusto E. Madan\t0\t19\t19\t1\t0\n",
      "0002_mistral-small.json\tQuevedo, Francisco de\tJuan de Arguijo\t0\t17\t19\t0\t2\n",
      "0003_mistral-small.json\tJosé de Espronceda\tJon Juaristi\t0\t19\t20\t0\t1\n",
      "0004_mistral-small.json\tFrancisco de Quevedo\tMiguel de Cervantes\t0\t17\t19\t0\t2\n",
      "0005_mistral-small.json\tGloria Fuertes\tAugusto E. Madan\t0\t20\t19\t0\t1\n",
      "0006_mistral-small.json\tFrancisco de Quevedo\tFrancisco de Quevedo\t1\t17\t16\t0\t1\n",
      "0007_mistral-small.json\tFrancisco de Quevedo\tMiguel de Cervantes\t0\t17\t16\t0\t1\n",
      "0008_mistral-small.json\tJosé María Munoz Lebrija\tJon Juaristi\t0\t20\t20\t1\t0\n",
      "0009_mistral-small.json\tGuillermo Carbrera-Súsler\tManuel Bernabé\t0\t20\t19\t0\t1\n",
      "0010_mistral-small.json\tFrancisco de Quevedo\tMelchor Jufré del Águila\t0\t17\t19\t0\t2\n",
      "0011_mistral-small.json\tRafael Alberti\tJon Juaristi\t0\t20\t20\t1\t0\n",
      "0012_mistral-small.json\tFray Luis de León\tMatías Frigola y Picón\t0\t16\t17\t0\t1\n",
      "0013_mistral-small.json\tMelchor de Palau\tBlas Sirvent\t0\t19\t19\t1\t0\n",
      "0014_mistral-small.json\tGloria Fuertes\tBlas Sirvent\t0\t20\t19\t0\t1\n",
      "0015_mistral-small.json\tGloria Fuertes\tMariano Álvarez Robles\t0\t20\t19\t0\t1\n",
      "0016_mistral-small.json\tGabriel de Yepes\tManuel Bretón de los Herreros\t0\t16\t19\t0\t3\n",
      "0017_mistral-small.json\tTomás de Iriarte\tWenceslao Ayguals de Izco\t0\t18\t19\t0\t1\n",
      "0018_mistral-small.json\tGarcía Lorca, Federico\tMiguel Agustín Príncipe\t0\t20\t19\t0\t1\n",
      "0019_mistral-small.json\tQuino (apellido real: José Hernández)\tAnónimo\t0\t20\t19\t0\t1\n",
      "0020_mistral-small.json\tRamón de Campoamor\tJuan Martínez Villergas\t0\t19\t19\t1\t0\n",
      "0021_mistral-small.json\tGustavo Adolfo Bécquer\tManuel del Palacio\t0\t19\t19\t1\t0\n",
      "0022_mistral-small.json\tVicente Antonio García de la Huerta\tEnrique Sierra Valenzuela\t0\t18\t19\t0\t1\n",
      "0023_mistral-small.json\tPedro de Escobar\tMiguel Ramos Carrión\t0\t16\t19\t0\t3\n",
      "0024_mistral-small.json\tLope de Vega\tJosé Campo Moreno\t0\t17\t19\t0\t2\n",
      "0025_mistral-small.json\tRafael Alberti\tJoaquín Sabina\t0\t20\t20\t1\t0\n",
      "0026_mistral-small.json\tFray Luis de León\tCamila Lucinda\t0\t16\t16\t1\t0\n",
      "0027_mistral-small.json\tJosé Francisco de Isla\tJosé Francisco de Isla, «Padre Isla»\t0\t18\t18\t1\t0\n",
      "0028_mistral-small.json\tJosé de Espronceda\tEmilio Mora\t0\t19\t19\t1\t0\n",
      "0029_mistral-small.json\tGustavo Adolfo Bécquer\tManuel del Palacio\t0\t19\t19\t1\t0\n",
      "0030_mistral-small.json\tGarcía Lorca, Federico\tJuan Meléndez Valdés\t0\t20\t18\t0\t2\n",
      "0031_mistral-small.json\tDiego Heredia\tJuan Meléndez Valdés\t0\t16\t18\t0\t2\n",
      "0032_mistral-small.json\tGustavo Adolfo Bécquer\tJulián del Casal\t0\t19\t19\t1\t0\n",
      "0033_mistral-small.json\tPedro Calderón de la Barca\tLuis Vélez de Guevara\t0\t17\t16\t0\t1\n",
      "0034_mistral-small.json\tLuis de Góngora\tFrancisco de Figueroa\t0\t16\t16\t1\t0\n",
      "0035_mistral-small.json\tJosé de Diego\tCarlos de la Coba Machicao\t0\t19\t16\t0\t3\n",
      "0036_mistral-small.json\tFrancisco de Quevedo\tFrancisco de Terrazas\t0\t17\t16\t0\t1\n",
      "0037_mistral-small.json\tLuis de Góngora\tArturo Reyes\t0\t17\t19\t0\t2\n",
      "0038_mistral-small.json\tGustavo Adolfo Bécquer\tNicolás Arnao\t0\t19\t19\t1\t0\n",
      "0039_mistral-small.json\tSor Juana Inés de la Cruz\tJuan Bautista de Mesa\t0\t17\t17\t1\t0\n",
      "0040_mistral-small.json\tFray Luis de León\tFrancisco Javier Ugarte y Pages\t0\t16\t19\t0\t3\n",
      "0041_mistral-small.json\tGustavo Adolfo Bécquer\tMercedes Matamoros\t0\t19\t19\t1\t0\n",
      "0042_mistral-small.json\tGabriel Celaya\tJulio Herrera y Reissig\t0\t20\t19\t0\t1\n",
      "0043_mistral-small.json\tFray Manuel de Sumaya\tSimón Villalobos Benavides y Calatayud\t0\t18\t17\t0\t1\n",
      "0044_mistral-small.json\tGustavo Adolfo Bécquer\tManuel José Othón\t0\t19\t19\t1\t0\n",
      "0045_mistral-small.json\tRosalía de Castro\tManuel José Othón\t0\t19\t19\t1\t0\n",
      "0046_mistral-small.json\tRosalía de Castro\tJosé Selgas y Carrasco\t0\t19\t19\t1\t0\n",
      "0047_mistral-small.json\tGustavo Adolfo Bécquer\tJacinto Verdaguer\t0\t19\t19\t1\t0\n",
      "0048_mistral-small.json\tGabriela Mistral\tJosé Gonzalo Roldán\t0\t20\t19\t0\t1\n",
      "0049_mistral-small.json\tManuel Gutiérrez Nájera\tRubén Darío\t0\t19\t19\t1\t0\n",
      "0050_mistral-small.json\tRubén Darío\tRubén Darío\t1\t19\t19\t1\t0\n",
      "0051_mistral-small.json\tGustavo Adolfo Bécquer\tManuel del Palacio\t0\t19\t19\t1\t0\n",
      "0052_mistral-small.json\tRamón de Campoamor\tManuel del Palacio\t0\t19\t19\t1\t0\n",
      "0053_mistral-small.json\tGabriel Márquez de la Plata\tManuel del Palacio\t0\t16\t19\t0\t3\n",
      "0054_mistral-small.json\tLuis de Góngora\tManuel del Palacio\t0\t17\t19\t0\t2\n",
      "0055_mistral-small.json\tGustavo Adolfo Bécquer\tManuel del Palacio\t0\t19\t19\t1\t0\n",
      "0056_mistral-small.json\tGustavo Adolfo Bécquer\tManuel del Palacio\t0\t19\t19\t1\t0\n",
      "0057_mistral-small.json\tGustavo Adolfo Bécquer\tManuel del Palacio\t0\t19\t19\t1\t0\n",
      "0058_mistral-small.json\tGabriel María José de Guzmán y Spínola, conde de Teba y marqués de Squilache\tManuel del Palacio\t0\t18\t19\t0\t1\n",
      "0059_mistral-small.json\tLuciano de Samosata\tManuel del Palacio\t0\t2\t19\t0\t17\n",
      "0060_mistral-small.json\tRosalía de Castro\tManuel del Palacio\t0\t19\t19\t1\t0\n",
      "0061_mistral-small.json\tGustavo Adolfo Bécquer\tManuel del Palacio\t0\t19\t19\t1\t0\n",
      "0062_mistral-small.json\tGustavo Adolfo Bécquer\tManuel del Palacio\t0\t19\t19\t1\t0\n",
      "0063_mistral-small.json\tRosalía de Castro\tManuel del Palacio\t0\t19\t19\t1\t0\n",
      "0064_mistral-small.json\tCristóbal de Castillejo\tManuel del Palacio\t0\t16\t19\t0\t3\n",
      "0065_mistral-small.json\tFray Diego de Saavedra Fajardo\tManuel del Palacio\t0\t17\t19\t0\t2\n",
      "0066_mistral-small.json\tRafael Medina Villalpando\tManuel del Palacio\t0\t20\t19\t0\t1\n",
      "0067_mistral-small.json\tRubén Darío\tManuel del Palacio\t0\t19\t19\t1\t0\n",
      "0068_mistral-small.json\tFélix María Samaniego\tManuel del Palacio\t0\t18\t19\t0\t1\n",
      "0069_mistral-small.json\tGutierre de Cetina\tJuan de Tassis y Peralta, Conde de Villamediana\t0\t16\t16\t1\t0\n",
      "0070_mistral-small.json\tFrancisco de Quevedo\tJuan de Tassis y Peralta, Conde de Villamediana\t0\t17\t16\t0\t1\n",
      "0071_mistral-small.json\tLuis de Góngora\tJuan de Tassis y Peralta, Conde de Villamediana\t0\t17\t16\t0\t1\n",
      "0072_mistral-small.json\tFrancisco de Quevedo\tJuan de Tassis y Peralta, Conde de Villamediana\t0\t17\t16\t0\t1\n",
      "0073_mistral-small.json\tFray Luis de León\tJuan de Tassis y Peralta, Conde de Villamediana\t0\t16\t16\t1\t0\n",
      "0074_mistral-small.json\tFray Luis de León\tJuan de Tassis y Peralta, Conde de Villamediana\t0\t16\t16\t1\t0\n",
      "0075_mistral-small.json\tFrancisco de Quevedo\tJuan de Tassis y Peralta, Conde de Villamediana\t0\t17\t16\t0\t1\n",
      "0076_mistral-small.json\tFrancisco de Quevedo\tJuan de Tassis y Peralta, Conde de Villamediana\t0\t17\t16\t0\t1\n",
      "0077_mistral-small.json\tFray Luis de León\tManuel Bernabé\t0\t16\t19\t0\t3\n",
      "0078_mistral-small.json\tJosé de la Cruz\tManuel Bernabé\t0\t19\t19\t1\t0\n",
      "0079_mistral-small.json\tLope de Vega\tJuan Francisco Andrés\t0\t16\t17\t0\t1\n",
      "0080_mistral-small.json\tFray Luis de León\tFrancisco de Sigüenza\t0\t16\t17\t0\t1\n",
      "0081_mistral-small.json\tLope de Vega\tJuan Francisco de Prado\t0\t16\t17\t0\t1\n",
      "0082_mistral-small.json\tGerardo Diego\tJosé Joaquín Olmedo\t0\t20\t18\t0\t2\n",
      "0083_mistral-small.json\tFray Luis de León\tAntonio Ros de Olano\t0\t16\t19\t0\t3\n",
      "0084_mistral-small.json\tRosalía de Castro\tRosario («Crisantema») Sansores\t0\t19\t19\t1\t0\n",
      "0085_mistral-small.json\tFrancisco Imperial\tMarqués de Santillana\t0\t15\t14\t0\t1\n",
      "0086_mistral-small.json\tFrancisco de Quevedo\tFrancisco de Terrazas\t0\t17\t16\t0\t1\n",
      "0087_mistral-small.json\tFray Luis de León\tPedro de Quirós\t0\t16\t16\t1\t0\n",
      "0088_mistral-small.json\tGarcía Lorca, Federico\tMelchor Palau y Català\t0\t20\t19\t0\t1\n",
      "0089_mistral-small.json\tLope de Vega\tLuis Martín de la Plaza\t0\t16\t16\t1\t0\n",
      "0090_mistral-small.json\tRosalía de Castro\tManuel Gutiérrez Nájera\t0\t19\t19\t1\t0\n",
      "0091_mistral-small.json\tGarcilaso de la Vega\tJerónimo de Lomas Cantoral\t0\t16\t16\t1\t0\n",
      "0092_mistral-small.json\tLope de Vega\tJuan de San Martín\t0\t16\t17\t0\t1\n",
      "0093_mistral-small.json\tDiego García de Paredes\tLuis Barahona de Soto\t0\t16\t16\t1\t0\n",
      "0094_mistral-small.json\tGustavo Adolfo Bécquer\tManuel Reina\t0\t19\t19\t1\t0\n",
      "0095_mistral-small.json\tGarcía Lorca, Federico\tConcepción Robles\t0\t20\t19\t0\t1\n",
      "0096_mistral-small.json\tJosé de Espronceda\tNuma Pompilio Llona\t0\t19\t19\t1\t0\n",
      "0097_mistral-small.json\tRubén Darío\tJulio Flores Roa\t0\t19\t19\t1\t0\n",
      "0098_mistral-small.json\tRafael de Campalans\tMercedes de Velilla Rodríguez\t0\t20\t19\t0\t1\n",
      "0099_mistral-small.json\tGustavo Adolfo Bécquer\tFernando Maristany\t0\t19\t19\t1\t0\n",
      "0100_mistral-small.json\tGertrudis Gómez de Avellaneda\tEsther Lucila Vázquez\t0\t19\t19\t1\t0\n",
      "Total author matches: 2 (2.0%)\n",
      "Total century matches: 47 (47.0%)\n",
      "Mean century difference: 0.95 (1.8567444627627139)\n",
      "Pearson r PearsonRResult(statistic=0.39076470932448387, pvalue=5.830849310799473e-05)\n",
      "Spearman r SignificanceResult(statistic=0.5877615597158673, pvalue=1.284974594916054e-10)\n"
     ]
    }
   ],
   "execution_count": 26
  },
  {
   "cell_type": "code",
   "id": "3e2a0faa6eb215bc",
   "metadata": {
    "ExecuteTime": {
     "end_time": "2025-06-10T21:35:06.493312Z",
     "start_time": "2025-06-10T21:35:06.430112Z"
    }
   },
   "source": [
    "analyze_author_info(model_4o_res_dir, md_df)"
   ],
   "outputs": [
    {
     "name": "stdout",
     "output_type": "stream",
     "text": [
      "0001_mistral-large-latest.json\tTomás Morales\tAugusto E. Madan\t0\t19\t19\t1\t0\n",
      "0002_mistral-large-latest.json\tLope de Vega\tJuan de Arguijo\t0\t16\t19\t0\t3\n",
      "0003_mistral-large-latest.json\tGerardo Diego\tJon Juaristi\t0\t20\t20\t1\t0\n",
      "0004_mistral-large-latest.json\tFrancisco de Quevedo\tMiguel de Cervantes\t0\t17\t19\t0\t2\n",
      "0005_mistral-large-latest.json\tGertrudis Gómez de Avellaneda\tAugusto E. Madan\t0\t19\t19\t1\t0\n",
      "0006_mistral-large-latest.json\tFrancisco de Quevedo\tFrancisco de Quevedo\t1\t17\t16\t0\t1\n",
      "0007_mistral-large-latest.json\tLope de Vega\tMiguel de Cervantes\t0\t16\t16\t1\t0\n",
      "0008_mistral-large-latest.json\tJosé Ángel Valente\tJon Juaristi\t0\t20\t20\t1\t0\n",
      "0009_mistral-large-latest.json\tJulio Herrera y Reissig\tManuel Bernabé\t0\t19\t19\t1\t0\n",
      "0010_mistral-large-latest.json\tSor Juana Inés de la Cruz\tMelchor Jufré del Águila\t0\t17\t19\t0\t2\n",
      "0011_mistral-large-latest.json\tClaudio Rodríguez\tJon Juaristi\t0\t20\t20\t1\t0\n",
      "0012_mistral-large-latest.json\tSor Juana Inés de la Cruz\tMatías Frigola y Picón\t0\t17\t17\t1\t0\n",
      "0013_mistral-large-latest.json\tJosé Zorrilla\tBlas Sirvent\t0\t19\t19\t1\t0\n",
      "0014_mistral-large-latest.json\tJosé Zorrilla\tBlas Sirvent\t0\t19\t19\t1\t0\n",
      "0015_mistral-large-latest.json\tJosé de Espronceda\tMariano Álvarez Robles\t0\t19\t19\t1\t0\n",
      "0016_mistral-large-latest.json\tJosé Hernández\tManuel Bretón de los Herreros\t0\t19\t19\t1\t0\n",
      "0017_mistral-large-latest.json\tJosé Zorrilla\tWenceslao Ayguals de Izco\t0\t19\t19\t1\t0\n",
      "0018_mistral-large-latest.json\tSor Juana Inés de la Cruz\tMiguel Agustín Príncipe\t0\t17\t19\t0\t2\n",
      "0019_mistral-large-latest.json\tTomás Villarroel\tAnónimo\t0\t18\t19\t0\t1\n",
      "0020_mistral-large-latest.json\tTomás de Iriarte\tJuan Martínez Villergas\t0\t18\t19\t0\t1\n",
      "0021_mistral-large-latest.json\tJosé Zorrilla\tManuel del Palacio\t0\t19\t19\t1\t0\n",
      "0022_mistral-large-latest.json\tJosé Zorrilla\tEnrique Sierra Valenzuela\t0\t19\t19\t1\t0\n",
      "0023_mistral-large-latest.json\tTomás Navarro Tomás\tMiguel Ramos Carrión\t0\t20\t19\t0\t1\n",
      "0024_mistral-large-latest.json\tTomás Segovia\tJosé Campo Moreno\t0\t20\t19\t0\t1\n",
      "0025_mistral-large-latest.json\tGloria Fuertes\tJoaquín Sabina\t0\t20\t20\t1\t0\n",
      "0026_mistral-large-latest.json\tLope de Vega\tCamila Lucinda\t0\t17\t16\t0\t1\n",
      "0027_mistral-large-latest.json\tJosé Francisco de Isla\tJosé Francisco de Isla, «Padre Isla»\t0\t18\t18\t1\t0\n",
      "0028_mistral-large-latest.json\tRicardo Güiraldes\tEmilio Mora\t0\t20\t19\t0\t1\n",
      "0029_mistral-large-latest.json\tGustavo Adolfo Bécquer\tManuel del Palacio\t0\t19\t19\t1\t0\n",
      "0030_mistral-large-latest.json\tSor Juana Inés de la Cruz\tJuan Meléndez Valdés\t0\t17\t18\t0\t1\n",
      "0031_mistral-large-latest.json\tGarcilaso de la Vega\tJuan Meléndez Valdés\t0\t16\t18\t0\t2\n",
      "0032_mistral-large-latest.json\tGabriela Mistral\tJulián del Casal\t0\t20\t19\t0\t1\n",
      "0033_mistral-large-latest.json\tSor Juana Inés de la Cruz\tLuis Vélez de Guevara\t0\t17\t16\t0\t1\n",
      "0034_mistral-large-latest.json\tGarcilaso de la Vega\tFrancisco de Figueroa\t0\t16\t16\t1\t0\n",
      "0035_mistral-large-latest.json\tBartolomé Cairasco de Figueroa\tCarlos de la Coba Machicao\t0\t16\t16\t1\t0\n",
      "0036_mistral-large-latest.json\tDiego Hurtado de Mendoza\tFrancisco de Terrazas\t0\t16\t16\t1\t0\n",
      "0037_mistral-large-latest.json\tGustavo Adolfo Bécquer\tArturo Reyes\t0\t19\t19\t1\t0\n",
      "0038_mistral-large-latest.json\tAmado Nervo\tNicolás Arnao\t0\t19\t19\t1\t0\n",
      "0039_mistral-large-latest.json\tSor Juana Inés de la Cruz\tJuan Bautista de Mesa\t0\t17\t17\t1\t0\n",
      "0040_mistral-large-latest.json\tSor Juana Inés de la Cruz\tFrancisco Javier Ugarte y Pages\t0\t17\t19\t0\t2\n",
      "0041_mistral-large-latest.json\tAmado Nervo\tMercedes Matamoros\t0\t19\t19\t1\t0\n",
      "0042_mistral-large-latest.json\tGabriela Mistral\tJulio Herrera y Reissig\t0\t20\t19\t0\t1\n",
      "0043_mistral-large-latest.json\tSor Juana Inés de la Cruz\tSimón Villalobos Benavides y Calatayud\t0\t17\t17\t1\t0\n",
      "0044_mistral-large-latest.json\tDelmira Agustini\tManuel José Othón\t0\t19\t19\t1\t0\n",
      "0045_mistral-large-latest.json\tAmado Nervo\tManuel José Othón\t0\t19\t19\t1\t0\n",
      "0046_mistral-large-latest.json\tGaspar Núñez de Arce\tJosé Selgas y Carrasco\t0\t19\t19\t1\t0\n",
      "0047_mistral-large-latest.json\tAmado Nervo\tJacinto Verdaguer\t0\t19\t19\t1\t0\n",
      "0048_mistral-large-latest.json\tSalvador Díaz Mirón\tJosé Gonzalo Roldán\t0\t19\t19\t1\t0\n",
      "0049_mistral-large-latest.json\tAmado Nervo\tRubén Darío\t0\t19\t19\t1\t0\n",
      "0050_mistral-large-latest.json\tRubén Darío\tRubén Darío\t1\t19\t19\t1\t0\n",
      "0051_mistral-large-latest.json\tTomás de Iriarte\tManuel del Palacio\t0\t18\t19\t0\t1\n",
      "0052_mistral-large-latest.json\tJosé de Espronceda\tManuel del Palacio\t0\t19\t19\t1\t0\n",
      "0053_mistral-large-latest.json\tSor Juana Inés de la Cruz\tManuel del Palacio\t0\t17\t19\t0\t2\n",
      "0054_mistral-large-latest.json\tAntonio de Trueba y de la Quintana\tManuel del Palacio\t0\t19\t19\t1\t0\n",
      "0055_mistral-large-latest.json\tJosé Zorrilla\tManuel del Palacio\t0\t19\t19\t1\t0\n",
      "0056_mistral-large-latest.json\tJosé Joaquín de Mora\tManuel del Palacio\t0\t19\t19\t1\t0\n",
      "0057_mistral-large-latest.json\tJosé Zorrilla\tManuel del Palacio\t0\t19\t19\t1\t0\n",
      "0058_mistral-large-latest.json\tTomás de Iriarte\tManuel del Palacio\t0\t18\t19\t0\t1\n",
      "0059_mistral-large-latest.json\tTomás de Iriarte\tManuel del Palacio\t0\t18\t19\t0\t1\n",
      "0060_mistral-large-latest.json\tTomás de Iriarte\tManuel del Palacio\t0\t18\t19\t0\t1\n",
      "0061_mistral-large-latest.json\tTomás Morales Castellano\tManuel del Palacio\t0\t20\t19\t0\t1\n",
      "0062_mistral-large-latest.json\tTomás de Iriarte\tManuel del Palacio\t0\t18\t19\t0\t1\n",
      "0063_mistral-large-latest.json\tRicardo Palma\tManuel del Palacio\t0\t19\t19\t1\t0\n",
      "0064_mistral-large-latest.json\tJosé Zorrilla\tManuel del Palacio\t0\t19\t19\t1\t0\n",
      "0065_mistral-large-latest.json\tTomás de Iriarte\tManuel del Palacio\t0\t18\t19\t0\t1\n",
      "0066_mistral-large-latest.json\tSor Juana Inés de la Cruz\tManuel del Palacio\t0\t17\t19\t0\t2\n",
      "0067_mistral-large-latest.json\tGustavo Adolfo Bécquer\tManuel del Palacio\t0\t19\t19\t1\t0\n",
      "0068_mistral-large-latest.json\tTomás de Iriarte\tManuel del Palacio\t0\t18\t19\t0\t1\n",
      "0069_mistral-large-latest.json\tSor Juana Inés de la Cruz\tJuan de Tassis y Peralta, Conde de Villamediana\t0\t17\t16\t0\t1\n",
      "0070_mistral-large-latest.json\tLope de Vega\tJuan de Tassis y Peralta, Conde de Villamediana\t0\t16\t16\t1\t0\n",
      "0071_mistral-large-latest.json\tFrancisco de Quevedo\tJuan de Tassis y Peralta, Conde de Villamediana\t0\t17\t16\t0\t1\n",
      "0072_mistral-large-latest.json\tFrancisco de Quevedo\tJuan de Tassis y Peralta, Conde de Villamediana\t0\t17\t16\t0\t1\n",
      "0073_mistral-large-latest.json\tSor Juana Inés de la Cruz\tJuan de Tassis y Peralta, Conde de Villamediana\t0\t17\t16\t0\t1\n",
      "0074_mistral-large-latest.json\tFrancisco de Quevedo\tJuan de Tassis y Peralta, Conde de Villamediana\t0\t17\t16\t0\t1\n",
      "0075_mistral-large-latest.json\tSor Juana Inés de la Cruz\tJuan de Tassis y Peralta, Conde de Villamediana\t0\t17\t16\t0\t1\n",
      "0076_mistral-large-latest.json\tLope de Vega\tJuan de Tassis y Peralta, Conde de Villamediana\t0\t16\t16\t1\t0\n",
      "0077_mistral-large-latest.json\tJosé Asunción Silva\tManuel Bernabé\t0\t19\t19\t1\t0\n",
      "0078_mistral-large-latest.json\tJosé Rizal\tManuel Bernabé\t0\t19\t19\t1\t0\n",
      "0079_mistral-large-latest.json\tSor Juana Inés de la Cruz\tJuan Francisco Andrés\t0\t17\t17\t1\t0\n",
      "0080_mistral-large-latest.json\tSor Juana Inés de la Cruz\tFrancisco de Sigüenza\t0\t17\t17\t1\t0\n",
      "0081_mistral-large-latest.json\tLope de Vega\tJuan Francisco de Prado\t0\t16\t17\t0\t1\n",
      "0082_mistral-large-latest.json\tJosé Joaquín de Olmedo\tJosé Joaquín Olmedo\t0\t19\t18\t0\t1\n",
      "0083_mistral-large-latest.json\tJosé Asunción Silva\tAntonio Ros de Olano\t0\t19\t19\t1\t0\n",
      "0084_mistral-large-latest.json\tAmado Nervo\tRosario («Crisantema») Sansores\t0\t19\t19\t1\t0\n",
      "0085_mistral-large-latest.json\tJorge Manrique\tMarqués de Santillana\t0\t15\t14\t0\t1\n",
      "0086_mistral-large-latest.json\tGarcilaso de la Vega\tFrancisco de Terrazas\t0\t16\t16\t1\t0\n",
      "0087_mistral-large-latest.json\tSor Juana Inés de la Cruz\tPedro de Quirós\t0\t17\t16\t0\t1\n",
      "0088_mistral-large-latest.json\tSor Juana Inés de la Cruz\tMelchor Palau y Català\t0\t17\t19\t0\t2\n",
      "0089_mistral-large-latest.json\tFray Luis de León\tLuis Martín de la Plaza\t0\t16\t16\t1\t0\n",
      "0090_mistral-large-latest.json\tJosé Emilio Pacheco\tManuel Gutiérrez Nájera\t0\t20\t19\t0\t1\n",
      "0091_mistral-large-latest.json\tSor Juana Inés de la Cruz\tJerónimo de Lomas Cantoral\t0\t17\t16\t0\t1\n",
      "0092_mistral-large-latest.json\tSor Juana Inés de la Cruz\tJuan de San Martín\t0\t17\t17\t1\t0\n",
      "0093_mistral-large-latest.json\tGarcilaso de la Vega\tLuis Barahona de Soto\t0\t16\t16\t1\t0\n",
      "0094_mistral-large-latest.json\tJosé Asunción Silva\tManuel Reina\t0\t19\t19\t1\t0\n",
      "0095_mistral-large-latest.json\tJuana de Ibarbourou\tConcepción Robles\t0\t20\t19\t0\t1\n",
      "0096_mistral-large-latest.json\tJosé Zorrilla\tNuma Pompilio Llona\t0\t19\t19\t1\t0\n",
      "0097_mistral-large-latest.json\tAmado Nervo\tJulio Flores Roa\t0\t19\t19\t1\t0\n",
      "0098_mistral-large-latest.json\tAmado Nervo\tMercedes de Velilla Rodríguez\t0\t19\t19\t1\t0\n",
      "0099_mistral-large-latest.json\tSor Juana Inés de la Cruz\tFernando Maristany\t0\t17\t19\t0\t2\n",
      "0100_mistral-large-latest.json\tJosé Asunción Silva\tEsther Lucila Vázquez\t0\t19\t19\t1\t0\n",
      "Total author matches: 2 (2.0%)\n",
      "Total century matches: 58 (57.99999999999999%)\n",
      "Mean century difference: 0.53 (0.6993568473962345)\n",
      "Pearson r PearsonRResult(statistic=0.7822535375083373, pvalue=7.349669726121873e-22)\n",
      "Spearman r SignificanceResult(statistic=0.7750608848007338, pvalue=2.9900311895697266e-21)\n"
     ]
    }
   ],
   "execution_count": 27
  }
 ],
 "metadata": {
  "kernelspec": {
   "display_name": "Python 3 (ipykernel)",
   "language": "python",
   "name": "python3"
  },
  "language_info": {
   "codemirror_mode": {
    "name": "ipython",
    "version": 3
   },
   "file_extension": ".py",
   "mimetype": "text/x-python",
   "name": "python",
   "nbconvert_exporter": "python",
   "pygments_lexer": "ipython3",
   "version": "3.12.3"
  }
 },
 "nbformat": 4,
 "nbformat_minor": 5
}
