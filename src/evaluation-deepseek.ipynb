{
 "cells": [
  {
   "cell_type": "markdown",
   "id": "fd3228a7a0efe5ee",
   "metadata": {},
   "source": [
    "# Evaluation"
   ]
  },
  {
   "cell_type": "code",
   "id": "39fe33c2-aafc-46f2-91ee-655a59a4d22f",
   "metadata": {
    "ExecuteTime": {
     "end_time": "2025-06-10T20:36:24.505509Z",
     "start_time": "2025-06-10T20:36:23.983033Z"
    }
   },
   "source": [
    "from collections import Counter\n",
    "from copy import copy\n",
    "from importlib import reload\n",
    "import json\n",
    "import os\n",
    "import re\n",
    "\n",
    "import matplotlib.pyplot as plt\n",
    "import numpy as np\n",
    "import pandas as pd\n",
    "from scipy.stats import pearsonr, spearmanr\n",
    "from sklearn.metrics import accuracy_score, f1_score\n",
    "from sklearn.metrics import classification_report, ConfusionMatrixDisplay, confusion_matrix\n",
    "\n",
    "import config as cf\n",
    "import utils as ut"
   ],
   "outputs": [],
   "execution_count": 1
  },
  {
   "cell_type": "code",
   "id": "fadacde859a7f171",
   "metadata": {
    "ExecuteTime": {
     "end_time": "2025-06-10T20:36:24.579812Z",
     "start_time": "2025-06-10T20:36:24.575624Z"
    }
   },
   "source": [
    "#TODO Label rewriting could be simplified"
   ],
   "outputs": [],
   "execution_count": 2
  },
  {
   "cell_type": "code",
   "id": "c5f34cfa6a15aa0a",
   "metadata": {
    "ExecuteTime": {
     "end_time": "2025-06-10T20:36:24.631905Z",
     "start_time": "2025-06-10T20:36:24.627849Z"
    }
   },
   "source": [
    "for mod in cf, ut:\n",
    "  reload(mod)"
   ],
   "outputs": [],
   "execution_count": 3
  },
  {
   "cell_type": "code",
   "id": "6b48abf9dc64ac07",
   "metadata": {
    "ExecuteTime": {
     "end_time": "2025-06-10T20:36:24.688869Z",
     "start_time": "2025-06-10T20:36:24.679735Z"
    }
   },
   "source": [
    "# IO\n",
    "res_main_dir = \"/home/ruizfabo/o/ja/23/msca/cpl_ex/06_dsm/ii_xeira_clariah_gal_poster/pp8_mine/pp8_humor_repo/outputs/model_responses/deepseek\"\n",
    "md_file = cf.metadata_file\n",
    "md_df = pd.read_csv(md_file, sep=\"\\t\")\n",
    "ana_dir = cf.error_analysis_dir\n",
    "\n",
    "# color scheme for confusion matrices based on model name \n",
    "clrmap_dict = {\"gpt-4o\": \"Greens\", \"gpt-35-turbo\": \"Blues\", \"gpt-4o-mini\": \"Purples\", \"claude-3-5-haiku-latest\": \"summer\",\n",
    "               \"deepseek-chat\": \"spring\", \"mistral-large-latest\": \"Reds\", \"mistral-small\": \"Greys\"}"
   ],
   "outputs": [],
   "execution_count": 4
  },
  {
   "cell_type": "code",
   "id": "7542b171be221454",
   "metadata": {
    "ExecuteTime": {
     "end_time": "2025-06-10T20:36:24.737044Z",
     "start_time": "2025-06-10T20:36:24.731726Z"
    }
   },
   "source": [
    "def plot_confusion_matrix(y_preds, y_true, labels, color_key, normalize=None):\n",
    "  cm = confusion_matrix(y_true, y_preds, normalize=normalize)\n",
    "  fig, ax = plt.subplots(figsize=(6, 6))\n",
    "  plt.grid(False)\n",
    "  font = {'family' : 'Arial',\n",
    "    'weight' : 'bold',\n",
    "    'size'   : 16}\n",
    "  plt.rc('font', **font)\n",
    "  #labels_for_fig = [l[0:4]+'.' for l in labels]\n",
    "  labels_for_fig = labels\n",
    "  disp = ConfusionMatrixDisplay(confusion_matrix=cm,\n",
    "                                display_labels=labels_for_fig)\n",
    "  #disp.plot(cmap=\"Purples\", values_format=\".2f\", ax=ax, colorbar=False)\n",
    "  if normalize:\n",
    "    disp.plot(cmap=clrmap_dict[color_key], values_format=\".2f\", ax=ax, colorbar=False)\n",
    "    norm_prefix = \"Normalized \"\n",
    "    title_text = \"confusion matrix\"\n",
    "  else:\n",
    "    disp.plot(cmap=clrmap_dict[color_key], ax=ax, colorbar=False)\n",
    "    norm_prefix = \"\"\n",
    "    title_text = \"\"\n",
    "  #disp.plot(cmap=clrmap_dict[color_key], values_format=\".2f\", ax=ax, colorbar=False)\n",
    "  plt.title(f\"{norm_prefix}{title_text}\")\n",
    "  plt.show()\n"
   ],
   "outputs": [],
   "execution_count": 5
  },
  {
   "cell_type": "markdown",
   "id": "f137d0514e440181",
   "metadata": {},
   "source": [
    "## Binary classification"
   ]
  },
  {
   "cell_type": "code",
   "id": "48f575e7c7fa7881",
   "metadata": {
    "ExecuteTime": {
     "end_time": "2025-06-10T20:36:24.790981Z",
     "start_time": "2025-06-10T20:36:24.784650Z"
    }
   },
   "source": [
    "def eval_res(res_dir, color_mode):\n",
    "  \"\"\"\n",
    "  Evaluate humor judgement results for a directory.\n",
    "\n",
    "  Return:\n",
    "      dict\n",
    "      With keys as follows:\n",
    "          \"sys_orig\": original system results before label postprocessing\n",
    "          \"sys_res\": system results after preprocessing\n",
    "          \"ref_res\": reference results\n",
    "          \"cm\": plain text confusion matrix\n",
    "  \"\"\"\n",
    "  assert color_mode in clrmap_dict\n",
    "  sys_jmt, sys_jmt_no_postpro = ut.get_judgement_info_for_dir(res_dir)\n",
    "  sys_jmt_orig = copy(sys_jmt)\n",
    "  sys_jmt = [\"other\" if kv[1] == 'no' else \"comic\" for kv in sorted(sys_jmt.items())]\n",
    "  ref_jmt = [\"other\" if va == 0 else \"comic\" for va in md_df['comic'].tolist()]\n",
    "  print(\"lensys\", len(sys_jmt), \"lenref\", len(ref_jmt))\n",
    "  labels = [\"comic\", \"other\"]\n",
    "  classif_report = classification_report(ref_jmt, sys_jmt, target_names=labels)\n",
    "  plot_confusion_matrix(sys_jmt, ref_jmt, labels, color_mode)\n",
    "  # note: 0, 1 in the plain text cm are class indices,\n",
    "  # NOT 0 no humor and 1 humor\n",
    "  plain_cm = confusion_matrix(ref_jmt, sys_jmt, normalize=\"true\")\n",
    "  return {\"sys_orig\": sys_jmt_orig, \"sys_res_no_postpro\": sys_jmt_no_postpro,\n",
    "          \"sys_res\": sys_jmt, \"ref_res\": ref_jmt, \"cm\": plain_cm, \"cr\": classif_report}"
   ],
   "outputs": [],
   "execution_count": 6
  },
  {
   "cell_type": "code",
   "id": "cda73f9b5124d0e8",
   "metadata": {
    "ExecuteTime": {
     "end_time": "2025-06-10T20:36:24.854585Z",
     "start_time": "2025-06-10T20:36:24.850109Z"
    }
   },
   "source": [
    "%pdb"
   ],
   "outputs": [
    {
     "name": "stdout",
     "output_type": "stream",
     "text": [
      "Automatic pdb calling has been turned ON\n"
     ]
    }
   ],
   "execution_count": 7
  },
  {
   "cell_type": "code",
   "id": "28d129361fe2aabe",
   "metadata": {
    "ExecuteTime": {
     "end_time": "2025-06-10T20:36:25.035832Z",
     "start_time": "2025-06-10T20:36:24.967045Z"
    }
   },
   "source": [
    "model_4o = \"gpt-4o-mini\"\n",
    "model_4o_res_dir = os.path.join(cf.response_dir, f\"gpt/{model_4o}\")\n",
    "res_4o = eval_res(model_4o_res_dir, model_4o)\n",
    "print(res_4o[\"cr\"])"
   ],
   "outputs": [
    {
     "name": "stdout",
     "output_type": "stream",
     "text": [
      "lensys 100 lenref 100\n"
     ]
    },
    {
     "data": {
      "text/plain": [
       "<Figure size 600x600 with 1 Axes>"
      ],
      "image/png": "[encoded data removed]"
     },
     "metadata": {},
     "output_type": "display_data"
    },
    {
     "name": "stdout",
     "output_type": "stream",
     "text": [
      "              precision    recall  f1-score   support\n",
      "\n",
      "       comic       1.00      0.82      0.90        50\n",
      "       other       0.85      1.00      0.92        50\n",
      "\n",
      "    accuracy                           0.91       100\n",
      "   macro avg       0.92      0.91      0.91       100\n",
      "weighted avg       0.92      0.91      0.91       100\n",
      "\n"
     ]
    }
   ],
   "execution_count": 8
  },
  {
   "cell_type": "code",
   "id": "121eb8cdd411b4c2",
   "metadata": {
    "ExecuteTime": {
     "end_time": "2025-06-10T20:36:25.155734Z",
     "start_time": "2025-06-10T20:36:25.149861Z"
    }
   },
   "source": [
    "len(res_4o[\"sys_res\"])"
   ],
   "outputs": [
    {
     "data": {
      "text/plain": [
       "100"
      ]
     },
     "execution_count": 9,
     "metadata": {},
     "output_type": "execute_result"
    }
   ],
   "execution_count": 9
  },
  {
   "cell_type": "code",
   "id": "8c54d6c4aa6d1202",
   "metadata": {
    "ExecuteTime": {
     "end_time": "2025-06-10T20:36:25.297369Z",
     "start_time": "2025-06-10T20:36:25.242922Z"
    }
   },
   "source": [
    "model_35 = \"deepseek-chat\"\n",
    "model_35_res_dir = os.path.join(cf.response_dir, f\"deepseek/{model_35}\")\n",
    "res_35 = eval_res(model_35_res_dir, model_35)\n",
    "print(res_35[\"cr\"])"
   ],
   "outputs": [
    {
     "name": "stdout",
     "output_type": "stream",
     "text": [
      "lensys 100 lenref 100\n"
     ]
    },
    {
     "data": {
      "text/plain": [
       "<Figure size 600x600 with 1 Axes>"
      ],
      "image/png": "[encoded data removed]"
     },
     "metadata": {},
     "output_type": "display_data"
    },
    {
     "name": "stdout",
     "output_type": "stream",
     "text": [
      "              precision    recall  f1-score   support\n",
      "\n",
      "       comic       1.00      0.78      0.88        50\n",
      "       other       0.82      1.00      0.90        50\n",
      "\n",
      "    accuracy                           0.89       100\n",
      "   macro avg       0.91      0.89      0.89       100\n",
      "weighted avg       0.91      0.89      0.89       100\n",
      "\n"
     ]
    }
   ],
   "execution_count": 10
  },
  {
   "cell_type": "code",
   "id": "ee9f19b94d18ee62",
   "metadata": {
    "ExecuteTime": {
     "end_time": "2025-06-10T20:36:25.412730Z",
     "start_time": "2025-06-10T20:36:25.409306Z"
    }
   },
   "source": [
    "%pdb"
   ],
   "outputs": [
    {
     "name": "stdout",
     "output_type": "stream",
     "text": [
      "Automatic pdb calling has been turned OFF\n"
     ]
    }
   ],
   "execution_count": 11
  },
  {
   "cell_type": "markdown",
   "id": "eb01bb8fda0c4736",
   "metadata": {},
   "source": "### Look at errors"
  },
  {
   "cell_type": "code",
   "id": "946137e58d3785b5",
   "metadata": {
    "ExecuteTime": {
     "end_time": "2025-06-10T20:36:25.536885Z",
     "start_time": "2025-06-10T20:36:25.531051Z"
    }
   },
   "source": [
    "def get_error_case_idx_and_metadata(res, md_df):\n",
    "  \"\"\"\n",
    "  Get the indices of the bad results and metadata like author or century.\n",
    "  Args:\n",
    "    res (dict): The results to get error cases for; `dict` format produced by `eval_res()`.\n",
    "    md_df (DataFrame): Dataframe with metadata.\n",
    "\n",
    "  Returns:\n",
    "    tuple: Lists with the indices of the bad results, the centuries of the bad results, and the authors of the bad results.\n",
    "  \"\"\"\n",
    "  bad_centuries = []\n",
    "  bad_authors = []\n",
    "  bad_idx = []\n",
    "  print(\"\\t\".join(str(x) for x in (\"idx\", \"rr\", \"sr\", \"century\", \"author\", \"title\"))) \n",
    "  for idx, (sr, rr) in enumerate(zip(res[\"sys_res\"], res[\"ref_res\"])):\n",
    "    if rr != sr:\n",
    "      century = md_df.loc[md_df['id'] == idx + 1, 'centuryBirth'].iat[0]\n",
    "      author = md_df.loc[md_df['id'] == idx + 1, 'author'].iat[0]\n",
    "      title = md_df.loc[md_df['id'] == idx + 1, 'title'].iat[0]\n",
    "      bad_centuries.append(century)\n",
    "      bad_authors.append(author)\n",
    "      bad_idx.append(idx + 1)\n",
    "      print(\"\\t\".join(str(x) for x in (idx+1, rr, sr, century, author, title)))\n",
    "  return bad_idx, bad_centuries, bad_authors"
   ],
   "outputs": [],
   "execution_count": 12
  },
  {
   "cell_type": "code",
   "id": "b81c4b7263b7de7c",
   "metadata": {
    "ExecuteTime": {
     "end_time": "2025-06-10T20:36:25.596495Z",
     "start_time": "2025-06-10T20:36:25.581082Z"
    }
   },
   "source": [
    "bad_idx, bad_centuries, bad_authors = get_error_case_idx_and_metadata(res_35, md_df)"
   ],
   "outputs": [
    {
     "name": "stdout",
     "output_type": "stream",
     "text": [
      "idx\trr\tsr\tcentury\tauthor\ttitle\n",
      "3\tcomic\tother\t20\tJon Juaristi\tPatria mía\n",
      "9\tcomic\tother\t19\tManuel Bernabé\tLASTICO-SEXUAL\n",
      "10\tcomic\tother\t19\tMelchor Jufré del Águila\tSONETO\n",
      "11\tcomic\tother\t20\tJon Juaristi\tA Vinogrado, avinagrado\n",
      "54\tcomic\tother\t19\tManuel del Palacio\tEl mayor dolor\n",
      "57\tcomic\tother\t19\tManuel del Palacio\tMal de muchos...\n",
      "60\tcomic\tother\t19\tManuel del Palacio\tTrabajo perdido\n",
      "64\tcomic\tother\t19\tManuel del Palacio\tUn amigo residente en Roma\n",
      "66\tcomic\tother\t19\tManuel del Palacio\tLeda... Rodríguez\n",
      "71\tcomic\tother\t16\tJuan de Tassis y Peralta, Conde de Villamediana\tA una academia que se hizo en casa de Antonio de Vega, confeso\n",
      "74\tcomic\tother\t16\tJuan de Tassis y Peralta, Conde de Villamediana\tA Jorge de Tovar\n"
     ]
    }
   ],
   "execution_count": 13
  },
  {
   "cell_type": "code",
   "id": "b75a2bffb026b6c9",
   "metadata": {
    "ExecuteTime": {
     "end_time": "2025-06-10T20:36:25.871674Z",
     "start_time": "2025-06-10T20:36:25.866629Z"
    }
   },
   "source": [
    "Counter(bad_centuries)"
   ],
   "outputs": [
    {
     "data": {
      "text/plain": [
       "Counter({19: 7, 20: 2, 16: 2})"
      ]
     },
     "execution_count": 14,
     "metadata": {},
     "output_type": "execute_result"
    }
   ],
   "execution_count": 14
  },
  {
   "cell_type": "code",
   "id": "15dc4ffcf505736e",
   "metadata": {
    "ExecuteTime": {
     "end_time": "2025-06-10T20:36:25.971139Z",
     "start_time": "2025-06-10T20:36:25.964121Z"
    }
   },
   "source": [
    "Counter(bad_authors)"
   ],
   "outputs": [
    {
     "data": {
      "text/plain": [
       "Counter({'Manuel del Palacio': 5,\n",
       "         'Jon Juaristi': 2,\n",
       "         'Juan de Tassis y Peralta, Conde de Villamediana': 2,\n",
       "         'Manuel Bernabé': 1,\n",
       "         'Melchor Jufré del Águila': 1})"
      ]
     },
     "execution_count": 15,
     "metadata": {},
     "output_type": "execute_result"
    }
   ],
   "execution_count": 15
  },
  {
   "cell_type": "code",
   "id": "f2e3dc64fd04ce4b",
   "metadata": {
    "ExecuteTime": {
     "end_time": "2025-06-10T20:36:26.116649Z",
     "start_time": "2025-06-10T20:36:26.111709Z"
    }
   },
   "source": [
    "def label_rewriter(label):\n",
    "  \"\"\"\n",
    "  Should help only for labels in output directory;\n",
    "  labels from evaluation function are already\n",
    "  restricted to those allowed in `cf.orig_labels`\n",
    "  \"\"\"\n",
    "  if label.lower() == \"no\":\n",
    "    return \"other\"\n",
    "  elif label.lower() in (\"incierto\", \"incierta\"):\n",
    "    return \"other-incierto\"\n",
    "  elif label.lower() == \"sí\":\n",
    "    return \"comic\"\n",
    "  else:\n",
    "    return label.lower()"
   ],
   "outputs": [],
   "execution_count": 16
  },
  {
   "cell_type": "code",
   "id": "fba087a8d57babe0",
   "metadata": {
    "ExecuteTime": {
     "end_time": "2025-06-10T20:36:26.225238Z",
     "start_time": "2025-06-10T20:36:26.219155Z"
    }
   },
   "source": [
    "def analyze_results(res, model_res_dir, ana_dir, bad_idx, md_df, model_name):\n",
    "  \"\"\"\n",
    "  Analyzes the results of a model.\n",
    "  \n",
    "  Args:\n",
    "      res (dict): The results assigned to the variable (e.g., `res_35` or `res_4o`).\n",
    "      model_res_dir (str): The directory where the model results are stored (e.g., `model_35_res_dir` or `model_4o_res_dir`).\n",
    "      ana_dir (str): The directory where the analysis results will be stored.\n",
    "      bad_idx (list): The indices of the bad results.\n",
    "      md_df (DataFrame): The metadata DataFrame.\n",
    "      model_name (str): The name of the model (e.g., `gpt-35-turbo` or `gpt-4o`).\n",
    "  Returns:\n",
    "    None\n",
    "  \"\"\"\n",
    "  fname_for_bad_jmts = os.path.join(ana_dir, f\"{model_name}bads_all\")\n",
    "  fname_for_bad_jmts_fp = os.path.join(ana_dir, f\"{model_name}bads_fp\")\n",
    "  fname_for_bad_jmts_fn = os.path.join(ana_dir, f\"{model_name}bads_fn\")\n",
    "  bad_model_resps = [] #TODO why needed (if)?\n",
    "  dones_for_pfx = {}\n",
    "  poem_text = \"\"\n",
    "  # open output files\n",
    "  with open(fname_for_bad_jmts, mode=\"w\") as oufi_all, \\\n",
    "      open(fname_for_bad_jmts_fp, mode=\"w\") as oufi_fp, \\\n",
    "      open(fname_for_bad_jmts_fn, mode=\"w\") as oufi_fn:\n",
    "    for example_idx, bidx in enumerate(bad_idx):\n",
    "      # get model responses for error cases\n",
    "      model_resps_for_idx = sorted([fname for fname in sorted(os.listdir(model_res_dir))\n",
    "                                    if fname.startswith(\"humor\") and str.zfill(str(bidx), 4)\n",
    "                                    in fname])\n",
    "      #TODO This looks useless, why still here?\n",
    "      bad_model_resps.extend(model_resps_for_idx[0:cf.max_choices_for_textometry])\n",
    "      # iterate over error cases\n",
    "      for mrfi in model_resps_for_idx[0:cf.max_choices_for_textometry]:\n",
    "        mrfi_pfx = re.sub(r\"_\\d\\..*$\", \"\", mrfi)\n",
    "        if mrfi_pfx not in dones_for_pfx:\n",
    "          poem_text = ut.get_poem_text_by_id(bidx)\n",
    "        # write out error info for analysis\n",
    "        with open(os.path.join(model_res_dir, mrfi), mode=\"r\") as respfi:\n",
    "          author = md_df.loc[md_df['id'] == bidx, 'author'].iat[0]\n",
    "          title = md_df.loc[md_df['id'] == bidx, 'title'].iat[0]\n",
    "          century = md_df.loc[md_df['id'] == bidx, 'centuryBirth'].iat[0]\n",
    "          txt = respfi.read()\n",
    "          jso = json.loads(txt)\n",
    "          # jmt_from_outdir (directly from output dir) is to compare with eval result\n",
    "          jmt_from_outdir, reason = jso[\"judgement\"], jso[\"reason\"]\n",
    "          jmt_from_eval = res[\"sys_res\"][bidx - 1]\n",
    "          ref_res = res[\"ref_res\"][bidx - 1]\n",
    "          # keep track of how many for prefix to only output as many choices as analyzed in textometry\n",
    "          dones_for_pfx.setdefault(mrfi_pfx, 1)\n",
    "          dones_for_pfx[mrfi_pfx] += 1\n",
    "          # makes outdir labels more homogeneous with labels output by eval\n",
    "          jmt_from_outdir_rw = label_rewriter(jmt_from_outdir)\n",
    "          jmt_from_eval_rw = label_rewriter(jmt_from_eval)\n",
    "          ref_res_rw = label_rewriter(ref_res)\n",
    "          # choose output file based on error type\n",
    "          #   this is based on assumption that all results are errors\n",
    "          #   and only the two errors below are possible\n",
    "          assert jmt_from_eval_rw in (\"comic\", \"other\") and \\\n",
    "                 ref_res_rw in (\"comic\", \"other\") and \\\n",
    "                 jmt_from_eval_rw != ref_res_rw, f\" MRFI: {mrfi} jmt_from_eval_rw: [{jmt_from_eval_rw}]; ref_res_rw: [{ref_res_rw}]\"\n",
    "          if jmt_from_eval_rw == \"comic\" and ref_res_rw == \"other\":\n",
    "            oufi_partial = oufi_fp\n",
    "          elif jmt_from_eval_rw == \"other\" and ref_res_rw == \"comic\":\n",
    "            oufi_partial = oufi_fn\n",
    "          # prepare output info\n",
    "          md_for_ana = f\" {author} ~ {title} ~ {century}\"\n",
    "          # total in len(bad_idx) no good for fp and fn total, not calculated\n",
    "          logsep = \"\\n\" + f\"{'*' * 20} IDX [{bidx}] ({example_idx + 1}/{len(bad_idx)})\" + md_for_ana + \"\\n\\n\" + poem_text + \"\\n\" if \\\n",
    "          dones_for_pfx[mrfi_pfx] == cf.max_choices_for_textometry - 1 else \"\"\n",
    "          for oufi in oufi_partial, oufi_all:\n",
    "            oufi.write(\n",
    "              f\"\\n{logsep}\\nBad result for [{bidx}]\\tSysRes Choice: [{jmt_from_outdir_rw}]; *SysRes Aggregated*: [{jmt_from_eval_rw}]; REFERENCE: [{ref_res_rw}]\\n\\t{reason}\")"
   ],
   "outputs": [],
   "execution_count": 17
  },
  {
   "cell_type": "code",
   "id": "afada7506590530",
   "metadata": {
    "ExecuteTime": {
     "end_time": "2025-06-10T20:36:55.766545Z",
     "start_time": "2025-06-10T20:36:55.747659Z"
    }
   },
   "source": [
    "# analyze results for gpt-35-turbo\n",
    "analyze_results(res_35, model_35_res_dir, ana_dir, bad_idx, md_df, \"deepseek-chat\")"
   ],
   "outputs": [],
   "execution_count": 20
  },
  {
   "cell_type": "code",
   "id": "de60e73c13143b84",
   "metadata": {
    "ExecuteTime": {
     "end_time": "2025-06-10T20:36:31.591190Z",
     "start_time": "2025-06-10T20:36:31.564511Z"
    }
   },
   "source": [
    "# analyze results for gpt-4o\n",
    "bad_idx4, bad_centuries4, bad_authors4 = get_error_case_idx_and_metadata(res_4o, md_df)\n",
    "analyze_results(res_4o, model_4o_res_dir, ana_dir, bad_idx4, md_df, \"gpt4\")"
   ],
   "outputs": [
    {
     "name": "stdout",
     "output_type": "stream",
     "text": [
      "idx\trr\tsr\tcentury\tauthor\ttitle\n",
      "3\tcomic\tother\t20\tJon Juaristi\tPatria mía\n",
      "10\tcomic\tother\t19\tMelchor Jufré del Águila\tSONETO\n",
      "11\tcomic\tother\t20\tJon Juaristi\tA Vinogrado, avinagrado\n",
      "23\tcomic\tother\t19\tMiguel Ramos Carrión\tEl botijo\n",
      "54\tcomic\tother\t19\tManuel del Palacio\tEl mayor dolor\n",
      "60\tcomic\tother\t19\tManuel del Palacio\tTrabajo perdido\n",
      "68\tcomic\tother\t19\tManuel del Palacio\tLos placeres del campo\n",
      "71\tcomic\tother\t16\tJuan de Tassis y Peralta, Conde de Villamediana\tA una academia que se hizo en casa de Antonio de Vega, confeso\n",
      "74\tcomic\tother\t16\tJuan de Tassis y Peralta, Conde de Villamediana\tA Jorge de Tovar\n"
     ]
    }
   ],
   "execution_count": 19
  },
  {
   "cell_type": "markdown",
   "id": "c542b96d445d9b05",
   "metadata": {},
   "source": [
    "## Author comparison"
   ]
  },
  {
   "cell_type": "code",
   "id": "66c2a98005536e50",
   "metadata": {
    "ExecuteTime": {
     "end_time": "2025-06-10T20:36:58.841596Z",
     "start_time": "2025-06-10T20:36:58.835313Z"
    }
   },
   "source": [
    "def analyze_author_info(model_res_dir, md_df):\n",
    "  \"\"\"\n",
    "  Analyzes author information for a given model results directory.\n",
    "\n",
    "  Args:\n",
    "    model_res_dir (str): The directory where the model results are stored.\n",
    "    md_df (DataFrame): The metadata DataFrame.\n",
    "\n",
    "  Returns:\n",
    "    None\n",
    "  \"\"\"\n",
    "  ainfo = ut.get_author_info_for_dir(model_res_dir)\n",
    "  au_matches = 0\n",
    "  century_matches = 0\n",
    "  century_diffs = []\n",
    "  for ke, va in ainfo.items():\n",
    "    poem_id = re.search(r\"_(\\d+)_\", ke).group(1)\n",
    "    assert poem_id is not None\n",
    "    poem_id = int(poem_id)\n",
    "    author_ref = md_df.loc[md_df['id'] == poem_id, 'author'].iat[0]\n",
    "    century_ref = md_df.loc[md_df['id'] == poem_id, 'centuryBirth'].iat[0]\n",
    "    au_match = 1 if va[0] == author_ref else 0\n",
    "    century_match = 1 if va[1] == century_ref else 0\n",
    "    au_matches += au_match\n",
    "    century_matches += century_match\n",
    "    century_diff = abs(va[1] - century_ref)\n",
    "    century_diffs.append(century_diff)\n",
    "    print(f\"{va[0]}\\t{author_ref}\\t{au_match}\\t{va[1]}\\t{century_ref}\\t{century_match}\\t{century_diff}\")\n",
    "  print(f\"Total author matches: {au_matches} ({100*(au_matches/len(ainfo))}%)\")\n",
    "  print(f\"Total century matches: {century_matches} ({100*(century_matches/len(ainfo))}%)\")\n",
    "  print(f\"Mean century difference: {np.mean(century_diffs)} ({np.std(century_diffs)})\")\n",
    "\n",
    "  centuries_sys = [va[1] for va in ainfo.values()]\n",
    "  centuries_ref = [md_df.loc[md_df['id'] == int(re.search(r\"_(\\d+)_\", ke).group(1)), 'centuryBirth'].iat[0] for ke in ainfo.keys()]\n",
    "\n",
    "  print(\"Pearson r\", pearsonr(centuries_sys, centuries_ref))\n",
    "  print(\"Spearman r\", spearmanr(centuries_sys, centuries_ref))"
   ],
   "outputs": [],
   "execution_count": 21
  },
  {
   "cell_type": "code",
   "id": "9c1d1af9495d76c5",
   "metadata": {
    "ExecuteTime": {
     "end_time": "2025-06-10T20:37:02.017203Z",
     "start_time": "2025-06-10T20:37:01.984945Z"
    }
   },
   "source": [
    "analyze_author_info(model_35_res_dir, md_df)"
   ],
   "outputs": [
    {
     "name": "stdout",
     "output_type": "stream",
     "text": [
      "José Juan Tablada\tAugusto E. Madan\t0\t19\t19\t1\t0\n",
      "Francisco de Quevedo\tJuan de Arguijo\t0\t17\t19\t0\t2\n",
      "Blas de Otero\tJon Juaristi\t0\t20\t20\t1\t0\n",
      "Francisco de Quevedo\tMiguel de Cervantes\t0\t17\t19\t0\t2\n",
      "Desconocido\tAugusto E. Madan\t0\t20\t19\t0\t1\n",
      "Francisco de Quevedo\tFrancisco de Quevedo\t1\t17\t16\t0\t1\n",
      "Francisco de Quevedo\tMiguel de Cervantes\t0\t17\t16\t0\t1\n",
      "Miguel Sánchez-Ostiz\tJon Juaristi\t0\t20\t20\t1\t0\n",
      "Ramón María del Valle-Inclán\tManuel Bernabé\t0\t19\t19\t1\t0\n",
      "Francisco de Quevedo\tMelchor Jufré del Águila\t0\t17\t19\t0\t2\n",
      "Rafael Alberti\tJon Juaristi\t0\t20\t20\t1\t0\n",
      "Sor Juana Inés de la Cruz\tMatías Frigola y Picón\t0\t17\t17\t1\t0\n",
      "Federico García Lorca\tBlas Sirvent\t0\t20\t19\t0\t1\n",
      "Francisco de Quevedo\tBlas Sirvent\t0\t17\t19\t0\t2\n",
      "Federico García Lorca\tMariano Álvarez Robles\t0\t20\t19\t0\t1\n",
      "Francisco de Quevedo\tManuel Bretón de los Herreros\t0\t17\t19\t0\t2\n",
      "Francisco de Quevedo\tWenceslao Ayguals de Izco\t0\t17\t19\t0\t2\n",
      "José Cadalso\tMiguel Agustín Príncipe\t0\t18\t19\t0\t1\n",
      "José de Espronceda\tAnónimo\t0\t19\t19\t1\t0\n",
      "Francisco de Quevedo\tJuan Martínez Villergas\t0\t17\t19\t0\t2\n",
      "Mariano José de Larra\tManuel del Palacio\t0\t19\t19\t1\t0\n",
      "Francisco de Quevedo\tEnrique Sierra Valenzuela\t0\t17\t19\t0\t2\n",
      "Federico García Lorca\tMiguel Ramos Carrión\t0\t20\t19\t0\t1\n",
      "Gloria Fuertes\tJosé Campo Moreno\t0\t20\t19\t0\t1\n",
      "Gloria Fuertes\tJoaquín Sabina\t0\t20\t20\t1\t0\n",
      "Lope de Vega\tCamila Lucinda\t0\t16\t16\t1\t0\n",
      "José Francisco de Isla\tJosé Francisco de Isla, «Padre Isla»\t0\t18\t18\t1\t0\n",
      "Gertrudis Gómez de Avellaneda\tEmilio Mora\t0\t19\t19\t1\t0\n",
      "Rosalía de Castro\tManuel del Palacio\t0\t19\t19\t1\t0\n",
      "Lope de Vega\tJuan Meléndez Valdés\t0\t16\t18\t0\t2\n",
      "Garcilaso de la Vega\tJuan Meléndez Valdés\t0\t16\t18\t0\t2\n",
      "Manuel Machado\tJulián del Casal\t0\t19\t19\t1\t0\n",
      "Pedro Calderón de la Barca\tLuis Vélez de Guevara\t0\t17\t16\t0\t1\n",
      "Lope de Vega\tFrancisco de Figueroa\t0\t16\t16\t1\t0\n",
      "Bartolomé Cairasco de Figueroa\tCarlos de la Coba Machicao\t0\t16\t16\t1\t0\n",
      "Sor Juana Inés de la Cruz\tFrancisco de Terrazas\t0\t17\t16\t0\t1\n",
      "Gustavo Adolfo Bécquer\tArturo Reyes\t0\t19\t19\t1\t0\n",
      "Julio Flórez\tNicolás Arnao\t0\t19\t19\t1\t0\n",
      "Francisco de Quevedo\tJuan Bautista de Mesa\t0\t17\t17\t1\t0\n",
      "Amado Nervo\tFrancisco Javier Ugarte y Pages\t0\t19\t19\t1\t0\n",
      "Amado Nervo\tMercedes Matamoros\t0\t19\t19\t1\t0\n",
      "Federico García Lorca\tJulio Herrera y Reissig\t0\t20\t19\t0\t1\n",
      "Lope de Vega\tSimón Villalobos Benavides y Calatayud\t0\t17\t17\t1\t0\n",
      "Juana de Ibarbourou\tManuel José Othón\t0\t20\t19\t0\t1\n",
      "Manuel del Palacio\tManuel José Othón\t0\t19\t19\t1\t0\n",
      "Rubén Darío\tJosé Selgas y Carrasco\t0\t19\t19\t1\t0\n",
      "José Zorrilla\tJacinto Verdaguer\t0\t19\t19\t1\t0\n",
      "Gertrudis Gómez de Avellaneda\tJosé Gonzalo Roldán\t0\t19\t19\t1\t0\n",
      "Gustavo Adolfo Bécquer\tRubén Darío\t0\t19\t19\t1\t0\n",
      "Ramón María del Valle-Inclán\tRubén Darío\t0\t19\t19\t1\t0\n",
      "José de Espronceda\tManuel del Palacio\t0\t19\t19\t1\t0\n",
      "Gustavo Adolfo Bécquer\tManuel del Palacio\t0\t19\t19\t1\t0\n",
      "Rubén Darío\tManuel del Palacio\t0\t19\t19\t1\t0\n",
      "José de Espronceda\tManuel del Palacio\t0\t19\t19\t1\t0\n",
      "Francisco de Quevedo\tManuel del Palacio\t0\t17\t19\t0\t2\n",
      "José de Espronceda\tManuel del Palacio\t0\t19\t19\t1\t0\n",
      "José de Espronceda\tManuel del Palacio\t0\t19\t19\t1\t0\n",
      "Ramón de Campoamor\tManuel del Palacio\t0\t19\t19\t1\t0\n",
      "Rubén Darío\tManuel del Palacio\t0\t19\t19\t1\t0\n",
      "Concha Méndez\tManuel del Palacio\t0\t20\t19\t0\t1\n",
      "Rubén Darío\tManuel del Palacio\t0\t19\t19\t1\t0\n",
      "Gustavo Adolfo Bécquer\tManuel del Palacio\t0\t19\t19\t1\t0\n",
      "Rubén Darío\tManuel del Palacio\t0\t19\t19\t1\t0\n",
      "José de Espronceda\tManuel del Palacio\t0\t19\t19\t1\t0\n",
      "Sor Juana Inés de la Cruz\tManuel del Palacio\t0\t17\t19\t0\t2\n",
      "Leda Rodríguez\tManuel del Palacio\t0\t20\t19\t0\t1\n",
      "Rubén Darío\tManuel del Palacio\t0\t19\t19\t1\t0\n",
      "Ramón de Campoamor\tManuel del Palacio\t0\t19\t19\t1\t0\n",
      "Francisco de Quevedo\tJuan de Tassis y Peralta, Conde de Villamediana\t0\t17\t16\t0\t1\n",
      "Francisco de Quevedo\tJuan de Tassis y Peralta, Conde de Villamediana\t0\t17\t16\t0\t1\n",
      "Luis de Góngora\tJuan de Tassis y Peralta, Conde de Villamediana\t0\t16\t16\t1\t0\n",
      "Francisco de Quevedo\tJuan de Tassis y Peralta, Conde de Villamediana\t0\t17\t16\t0\t1\n",
      "Francisco de Quevedo\tJuan de Tassis y Peralta, Conde de Villamediana\t0\t17\t16\t0\t1\n",
      "Francisco de Quevedo\tJuan de Tassis y Peralta, Conde de Villamediana\t0\t17\t16\t0\t1\n",
      "Francisco de Quevedo\tJuan de Tassis y Peralta, Conde de Villamediana\t0\t17\t16\t0\t1\n",
      "Lope de Vega\tJuan de Tassis y Peralta, Conde de Villamediana\t0\t16\t16\t1\t0\n",
      "Amado Nervo\tManuel Bernabé\t0\t19\t19\t1\t0\n",
      "José Rizal\tManuel Bernabé\t0\t19\t19\t1\t0\n",
      "Sor Juana Inés de la Cruz\tJuan Francisco Andrés\t0\t17\t17\t1\t0\n",
      "Javier Águila\tFrancisco de Sigüenza\t0\t19\t17\t0\t2\n",
      "Lope de Vega\tJuan Francisco de Prado\t0\t16\t17\t0\t1\n",
      "José Joaquín de Olmedo\tJosé Joaquín Olmedo\t0\t19\t18\t0\t1\n",
      "Sor Juana Inés de la Cruz\tAntonio Ros de Olano\t0\t17\t19\t0\t2\n",
      "Amado Nervo\tRosario («Crisantema») Sansores\t0\t19\t19\t1\t0\n",
      "Juan de Mena\tMarqués de Santillana\t0\t15\t14\t0\t1\n",
      "Garcilaso de la Vega\tFrancisco de Terrazas\t0\t16\t16\t1\t0\n",
      "Sor Juana Inés de la Cruz\tPedro de Quirós\t0\t17\t16\t0\t1\n",
      "Luis de Góngora\tMelchor Palau y Català\t0\t16\t19\t0\t3\n",
      "Lope de Vega\tLuis Martín de la Plaza\t0\t16\t16\t1\t0\n",
      "Federico García Lorca\tManuel Gutiérrez Nájera\t0\t20\t19\t0\t1\n",
      "Sor Juana Inés de la Cruz\tJerónimo de Lomas Cantoral\t0\t17\t16\t0\t1\n",
      "Sor Juana Inés de la Cruz\tJuan de San Martín\t0\t17\t17\t1\t0\n",
      "Garcilaso de la Vega\tLuis Barahona de Soto\t0\t16\t16\t1\t0\n",
      "Amado Nervo\tManuel Reina\t0\t19\t19\t1\t0\n",
      "Alfonsina Storni\tConcepción Robles\t0\t20\t19\t0\t1\n",
      "Sor Juana Inés de la Cruz\tNuma Pompilio Llona\t0\t17\t19\t0\t2\n",
      "Gustavo Adolfo Bécquer\tJulio Flores Roa\t0\t19\t19\t1\t0\n",
      "Manuel Gutiérrez Nájera\tMercedes de Velilla Rodríguez\t0\t19\t19\t1\t0\n",
      "Gustavo Adolfo Bécquer\tFernando Maristany\t0\t19\t19\t1\t0\n",
      "Gustavo Adolfo Bécquer\tEsther Lucila Vázquez\t0\t19\t19\t1\t0\n",
      "Total author matches: 1 (1.0%)\n",
      "Total century matches: 57 (56.99999999999999%)\n",
      "Mean century difference: 0.6 (0.7745966692414834)\n",
      "Pearson r PearsonRResult(statistic=0.7368813812369164, pvalue=2.3464100863611637e-18)\n",
      "Spearman r SignificanceResult(statistic=0.735513474388851, pvalue=2.9158320324258002e-18)\n"
     ]
    }
   ],
   "execution_count": 22
  },
  {
   "cell_type": "code",
   "execution_count": 226,
   "id": "3e2a0faa6eb215bc",
   "metadata": {
    "ExecuteTime": {
     "end_time": "2024-06-26T15:27:33.768078Z",
     "start_time": "2024-06-26T15:27:33.677453Z"
    }
   },
   "outputs": [
    {
     "name": "stdout",
     "output_type": "stream",
     "text": [
      "Ángel González Muñiz\tJon Juaristi\t0\t20\t20\t1\t0\n",
      "Cristóbal de Castillejo\tManuel del Palacio\t0\t16\t19\t0\t3\n",
      "Manuel del Palacio\tEnrique Sierra Valenzuela\t0\t19\t19\t1\t0\n",
      "Gabriela Mistral\tFrancisco Javier Ugarte y Pages\t0\t20\t19\t0\t1\n",
      "Pedro Calderón de la Barca\tManuel del Palacio\t0\t17\t19\t0\t2\n",
      "Ricardo Palma\tManuel del Palacio\t0\t19\t19\t1\t0\n",
      "Francisca Herrera Garrido\tNicolás Arnao\t0\t20\t19\t0\t1\n",
      "Ramón de Campoamor y Campoosorio\tManuel del Palacio\t0\t19\t19\t1\t0\n",
      "Gustavo Adolfo Bécquer\tJosé Gonzalo Roldán\t0\t19\t19\t1\t0\n",
      "Jorge Luis Borges\tJulio Herrera y Reissig\t0\t20\t19\t0\t1\n",
      "Bartolomé Cairasco de Figueroa\tCarlos de la Coba Machicao\t0\t16\t16\t1\t0\n",
      "Rubén Darío\tAugusto E. Madan\t0\t20\t19\t0\t1\n",
      "Manuel Bretón de los Herreros\tJosé Campo Moreno\t0\t19\t19\t1\t0\n",
      "Dulce María Loynaz\tConcepción Robles\t0\t20\t19\t0\t1\n",
      "Francisco de Quevedo y Villegas\tJuan de Tassis y Peralta, Conde de Villamediana\t0\t17\t16\t0\t1\n",
      "Ramón de Campoamor y Campoosorio\tManuel del Palacio\t0\t19\t19\t1\t0\n",
      "Francisco de Quevedo\tJuan de Tassis y Peralta, Conde de Villamediana\t0\t17\t16\t0\t1\n",
      "Lope de Vega\tJuan Francisco de Prado\t0\t17\t17\t1\t0\n",
      "Carolina Coronado\tEmilio Mora\t0\t19\t19\t1\t0\n",
      "Ángela Figuera Aymerich\tManuel Gutiérrez Nájera\t0\t20\t19\t0\t1\n",
      "Manuel del Palacio\tJacinto Verdaguer\t0\t19\t19\t1\t0\n",
      "Ramón de Campoamor y Campoosorio\tManuel Reina\t0\t19\t19\t1\t0\n",
      "Enrique Jardiel Poncela\tManuel del Palacio\t0\t20\t19\t0\t1\n",
      "Francisco de Quevedo y Villegas\tJuan de Tassis y Peralta, Conde de Villamediana\t0\t17\t16\t0\t1\n",
      "Luis de Góngora y Argote\tMiguel de Cervantes\t0\t17\t19\t0\t2\n",
      "Sor Juana Inés de la Cruz\tJuan de San Martín\t0\t17\t17\t1\t0\n",
      "Ángel Urrutia Iturbe\tJon Juaristi\t0\t20\t20\t1\t0\n",
      "Julio Flórez\tRosario («Crisantema») Sansores\t0\t20\t19\t0\t1\n",
      "Manuel del Palacio\tMiguel Agustín Príncipe\t0\t19\t19\t1\t0\n",
      "Rubén Darío\tManuel del Palacio\t0\t20\t19\t0\t1\n",
      "Gaspar Melchor de Jovellanos\tJosé Francisco de Isla, «Padre Isla»\t0\t18\t18\t1\t0\n",
      "José Martí\tFernando Maristany\t0\t19\t19\t1\t0\n",
      "Delmira Agustini\tMercedes Matamoros\t0\t20\t19\t0\t1\n",
      "Ramón de Campoamor\tManuel del Palacio\t0\t19\t19\t1\t0\n",
      "Ramón María del Valle-Inclán\tBlas Sirvent\t0\t20\t19\t0\t1\n",
      "Sor Juana Inés de la Cruz\tJuan Francisco Andrés\t0\t17\t17\t1\t0\n",
      "Salvador Díaz Mirón\tManuel Bretón de los Herreros\t0\t19\t19\t1\t0\n",
      "Rubén Darío\tManuel del Palacio\t0\t20\t19\t0\t1\n",
      "Luis de Góngora y Argote\tJerónimo de Lomas Cantoral\t0\t17\t16\t0\t1\n",
      "Íñigo López de Mendoza, Marqués de Santillana\tMarqués de Santillana\t0\t15\t14\t0\t1\n",
      "Juana Inés de la Cruz\tSimón Villalobos Benavides y Calatayud\t0\t17\t17\t1\t0\n",
      "Ramón de Campoamor y Campoosorio\tManuel del Palacio\t0\t19\t19\t1\t0\n",
      "Félix Lope de Vega y Carpio\tMiguel de Cervantes\t0\t16\t16\t1\t0\n",
      "Delmira Agustini\tManuel José Othón\t0\t20\t19\t0\t1\n",
      "Salvador Díaz Mirón\tNuma Pompilio Llona\t0\t19\t19\t1\t0\n",
      "Ramón de Campoamor y Campoosorio\tManuel del Palacio\t0\t19\t19\t1\t0\n",
      "Garcilaso de la Vega\tJuan Meléndez Valdés\t0\t16\t18\t0\t2\n",
      "Ramón de Campoamor y Campoosorio\tManuel del Palacio\t0\t19\t19\t1\t0\n",
      "Ramón de Campoamor\tJuan Martínez Villergas\t0\t19\t19\t1\t0\n",
      "Eugenio Noel\tBlas Sirvent\t0\t20\t19\t0\t1\n",
      "Luis de Góngora y Argote\tPedro de Quirós\t0\t16\t16\t1\t0\n",
      "Guillermo Valencia Castillo\tJulián del Casal\t0\t20\t19\t0\t1\n",
      "Pedro Muñoz Seca\tMariano Álvarez Robles\t0\t20\t19\t0\t1\n",
      "Luis de Góngora y Argote\tFrancisco de Figueroa\t0\t16\t16\t1\t0\n",
      "Emilia Pardo Bazán\tEsther Lucila Vázquez\t0\t19\t19\t1\t0\n",
      "Sor Juana Inés de la Cruz\tJuan de Tassis y Peralta, Conde de Villamediana\t0\t17\t16\t0\t1\n",
      "Francisco de Asís de Icaza y Beña\tAugusto E. Madan\t0\t19\t19\t1\t0\n",
      "Nicomedes Santa Cruz\tManuel del Palacio\t0\t20\t19\t0\t1\n",
      "Félix Lope de Vega y Carpio\tJuan de Tassis y Peralta, Conde de Villamediana\t0\t17\t16\t0\t1\n",
      "Rosalía de Castro\tManuel del Palacio\t0\t19\t19\t1\t0\n",
      "Juan Boscán\tCamila Lucinda\t0\t16\t16\t1\t0\n",
      "Garcilaso de la Vega\tFrancisco de Terrazas\t0\t16\t16\t1\t0\n",
      "Sor Juana Inés de la Cruz\tFrancisco de Sigüenza\t0\t17\t17\t1\t0\n",
      "Miguel de Unamuno\tJon Juaristi\t0\t20\t20\t1\t0\n",
      "Manuel Machado\tMiguel Ramos Carrión\t0\t20\t19\t0\t1\n",
      "José Cadalso y Vázquez\tManuel del Palacio\t0\t18\t19\t0\t1\n",
      "Luis de Góngora y Argote\tJuan de Tassis y Peralta, Conde de Villamediana\t0\t16\t16\t1\t0\n",
      "Gustavo Adolfo Bécquer\tManuel del Palacio\t0\t19\t19\t1\t0\n",
      "Juan de Arguijo\tJuan Meléndez Valdés\t0\t17\t18\t0\t1\n",
      "Garcilaso de la Vega\tLuis Martín de la Plaza\t0\t16\t16\t1\t0\n",
      "Francisco de Quevedo y Villegas\tFrancisco de Quevedo\t0\t17\t16\t0\t1\n",
      "Leopoldo Lugones\tRubén Darío\t0\t20\t19\t0\t1\n",
      "Rubén Darío\tManuel Bernabé\t0\t20\t19\t0\t1\n",
      "Sor Juana Inés de la Cruz\tAntonio Ros de Olano\t0\t17\t19\t0\t2\n",
      "Carolina Coronado\tManuel del Palacio\t0\t19\t19\t1\t0\n",
      "Rubén Darío\tManuel del Palacio\t0\t20\t19\t0\t1\n",
      "José Joaquín de Olmedo\tJosé Joaquín Olmedo\t0\t19\t18\t0\t1\n",
      "Garcilaso de la Vega\tFrancisco de Terrazas\t0\t16\t16\t1\t0\n",
      "Sor Juana Inés de la Cruz\tLuis Vélez de Guevara\t0\t17\t16\t0\t1\n",
      "José Martí\tJosé Selgas y Carrasco\t0\t19\t19\t1\t0\n",
      "Sor Juana Inés de la Cruz\tMatías Frigola y Picón\t0\t17\t17\t1\t0\n",
      "José Palma\tManuel Bernabé\t0\t19\t19\t1\t0\n",
      "Francisco de Quevedo y Villegas\tJuan de Arguijo\t0\t17\t19\t0\t2\n",
      "Francisco de Quevedo y Villegas\tMelchor Jufré del Águila\t0\t17\t19\t0\t2\n",
      "Ramón de Campoamor y Campoosorio\tAnónimo\t0\t19\t19\t1\t0\n",
      "Garcilaso de la Vega\tLuis Barahona de Soto\t0\t16\t16\t1\t0\n",
      "Julio Sesto\tJulio Flores Roa\t0\t20\t19\t0\t1\n",
      "Gustavo Adolfo Bécquer\tManuel del Palacio\t0\t19\t19\t1\t0\n",
      "Joan Manuel Serrat\tJoaquín Sabina\t0\t20\t20\t1\t0\n",
      "Francisco de Quevedo\tJuan de Tassis y Peralta, Conde de Villamediana\t0\t17\t16\t0\t1\n",
      "Rubén Darío\tRubén Darío\t1\t20\t19\t0\t1\n",
      "José Martí\tArturo Reyes\t0\t19\t19\t1\t0\n",
      "Sor Juana Inés de la Cruz\tJuan Bautista de Mesa\t0\t17\t17\t1\t0\n",
      "Félix Lope de Vega y Carpio\tMelchor Palau y Català\t0\t17\t19\t0\t2\n",
      "Rubén Darío\tManuel del Palacio\t0\t19\t19\t1\t0\n",
      "Delmira Agustini\tManuel José Othón\t0\t20\t19\t0\t1\n",
      "Delmira Agustini\tMercedes de Velilla Rodríguez\t0\t20\t19\t0\t1\n",
      "Luis Carlos López\tManuel Bernabé\t0\t20\t19\t0\t1\n",
      "Luis de Góngora y Argote\tJuan de Tassis y Peralta, Conde de Villamediana\t0\t17\t16\t0\t1\n",
      "Joaquín María Bartrina y de Aixemús\tWenceslao Ayguals de Izco\t0\t19\t19\t1\t0\n",
      "Total author matches: 1 (1.0%)\n",
      "Total century matches: 52 (52.0%)\n",
      "Mean century difference: 0.57 (0.6671581521648371)\n",
      "Pearson r PearsonRResult(statistic=0.8176926550984065, pvalue=3.064844034070262e-25)\n",
      "Spearman r SignificanceResult(statistic=0.7793593745832911, pvalue=1.3008453264019653e-21)\n"
     ]
    }
   ],
   "source": [
    "analyze_author_info(model_4o_res_dir, md_df)"
   ]
  }
 ],
 "metadata": {
  "kernelspec": {
   "display_name": "Python 3 (ipykernel)",
   "language": "python",
   "name": "python3"
  },
  "language_info": {
   "codemirror_mode": {
    "name": "ipython",
    "version": 3
   },
   "file_extension": ".py",
   "mimetype": "text/x-python",
   "name": "python",
   "nbconvert_exporter": "python",
   "pygments_lexer": "ipython3",
   "version": "3.12.3"
  }
 },
 "nbformat": 4,
 "nbformat_minor": 5
}
