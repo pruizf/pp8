{
 "cells": [
  {
   "cell_type": "markdown",
   "id": "fd3228a7a0efe5ee",
   "metadata": {},
   "source": [
    "# Evaluation"
   ]
  },
  {
   "cell_type": "code",
   "id": "39fe33c2-aafc-46f2-91ee-655a59a4d22f",
   "metadata": {
    "ExecuteTime": {
     "end_time": "2025-06-12T21:30:12.814776Z",
     "start_time": "2025-06-12T21:30:12.118012Z"
    }
   },
   "source": [
    "from collections import Counter\n",
    "from copy import copy\n",
    "from importlib import reload\n",
    "import json\n",
    "import os\n",
    "import re\n",
    "\n",
    "import matplotlib.pyplot as plt\n",
    "import numpy as np\n",
    "import pandas as pd\n",
    "from scipy.stats import pearsonr, spearmanr\n",
    "from sklearn.metrics import accuracy_score, f1_score\n",
    "from sklearn.metrics import classification_report, ConfusionMatrixDisplay, confusion_matrix\n",
    "\n",
    "import config as cf\n",
    "import utils as ut"
   ],
   "outputs": [],
   "execution_count": 1
  },
  {
   "cell_type": "code",
   "execution_count": 25,
   "id": "fadacde859a7f171",
   "metadata": {
    "ExecuteTime": {
     "end_time": "2025-06-10T21:38:43.315797Z",
     "start_time": "2025-06-10T21:38:43.313216Z"
    }
   },
   "outputs": [],
   "source": [
    "#TODO Label rewriting could be simplified"
   ]
  },
  {
   "cell_type": "code",
   "id": "c5f34cfa6a15aa0a",
   "metadata": {
    "ExecuteTime": {
     "end_time": "2025-06-12T21:30:12.833969Z",
     "start_time": "2025-06-12T21:30:12.828888Z"
    }
   },
   "source": [
    "for mod in cf, ut:\n",
    "  reload(mod)"
   ],
   "outputs": [],
   "execution_count": 2
  },
  {
   "cell_type": "code",
   "id": "6b48abf9dc64ac07",
   "metadata": {
    "ExecuteTime": {
     "end_time": "2025-06-12T21:55:57.575794Z",
     "start_time": "2025-06-12T21:55:57.568023Z"
    }
   },
   "source": [
    "# IO\n",
    "res_main_dir = \"/home/ruizfabo/o/ja/23/msca/cpl_ex/06_dsm/ii_xeira_clariah_gal_poster/pp8_mine/pp8_humor_repo/outputs/model_responses/claude\"\n",
    "md_file = cf.metadata_file\n",
    "md_df = pd.read_csv(md_file, sep=\"\\t\")\n",
    "ana_dir = cf.error_analysis_dir\n",
    "\n",
    "# color scheme for confusion matrices based on model name \n",
    "clrmap_dict = {\"gpt-4o\": \"Greens\", \"gpt-35-turbo\": \"Blues\", \"gpt-4o-mini\": \"Purples\", \"claude-3-5-haiku-latest\": \"summer\",\n",
    "               \"claude-3-5-sonnet-latest\": \"cool\", \"claude-sonnet-4-20250514\": \"Greens\", \"claude-3-5-sonnet-latest-run-6\": \"cool\"}"
   ],
   "outputs": [],
   "execution_count": 24
  },
  {
   "cell_type": "code",
   "id": "7542b171be221454",
   "metadata": {
    "ExecuteTime": {
     "end_time": "2025-06-12T21:30:17.907398Z",
     "start_time": "2025-06-12T21:30:17.902613Z"
    }
   },
   "source": [
    "def plot_confusion_matrix(y_preds, y_true, labels, color_key, normalize=None):\n",
    "  cm = confusion_matrix(y_true, y_preds, normalize=normalize)\n",
    "  fig, ax = plt.subplots(figsize=(6, 6))\n",
    "  plt.grid(False)\n",
    "  font = {'family' : 'Arial',\n",
    "    'weight' : 'bold',\n",
    "    'size'   : 16}\n",
    "  plt.rc('font', **font)\n",
    "  #labels_for_fig = [l[0:4]+'.' for l in labels]\n",
    "  labels_for_fig = labels\n",
    "  disp = ConfusionMatrixDisplay(confusion_matrix=cm,\n",
    "                                display_labels=labels_for_fig)\n",
    "  #disp.plot(cmap=\"Purples\", values_format=\".2f\", ax=ax, colorbar=False)\n",
    "  if normalize:\n",
    "    disp.plot(cmap=clrmap_dict[color_key], values_format=\".2f\", ax=ax, colorbar=False)\n",
    "    norm_prefix = \"Normalized \"\n",
    "    title_text = \"confusion matrix\"\n",
    "  else:\n",
    "    disp.plot(cmap=clrmap_dict[color_key], ax=ax, colorbar=False)\n",
    "    norm_prefix = \"\"\n",
    "    title_text = \"\"\n",
    "  #disp.plot(cmap=clrmap_dict[color_key], values_format=\".2f\", ax=ax, colorbar=False)\n",
    "  plt.title(f\"{norm_prefix}{title_text}\")\n",
    "  plt.show()\n"
   ],
   "outputs": [],
   "execution_count": 4
  },
  {
   "cell_type": "markdown",
   "id": "f137d0514e440181",
   "metadata": {},
   "source": [
    "## Binary classification"
   ]
  },
  {
   "cell_type": "code",
   "id": "48f575e7c7fa7881",
   "metadata": {
    "ExecuteTime": {
     "end_time": "2025-06-12T21:30:21.073893Z",
     "start_time": "2025-06-12T21:30:21.067954Z"
    }
   },
   "source": [
    "def eval_res(res_dir, color_mode):\n",
    "  \"\"\"\n",
    "  Evaluate humor judgement results for a directory.\n",
    "\n",
    "  Return:\n",
    "      dict\n",
    "      With keys as follows:\n",
    "          \"sys_orig\": original system results before label postprocessing\n",
    "          \"sys_res\": system results after preprocessing\n",
    "          \"ref_res\": reference results\n",
    "          \"cm\": plain text confusion matrix\n",
    "  \"\"\"\n",
    "  assert color_mode in clrmap_dict\n",
    "  sys_jmt, sys_jmt_no_postpro = ut.get_judgement_info_for_dir(res_dir)\n",
    "  sys_jmt_orig = copy(sys_jmt)\n",
    "  sys_jmt = [\"other\" if kv[1] == 'no' else \"comic\" for kv in sorted(sys_jmt.items())]\n",
    "  ref_jmt = [\"other\" if va == 0 else \"comic\" for va in md_df['comic'].tolist()]\n",
    "  print(\"lensys\", len(sys_jmt), \"lenref\", len(ref_jmt))\n",
    "  labels = [\"comic\", \"other\"]\n",
    "  classif_report = classification_report(ref_jmt, sys_jmt, target_names=labels)\n",
    "  plot_confusion_matrix(sys_jmt, ref_jmt, labels, color_mode)\n",
    "  # note: 0, 1 in the plain text cm are class indices,\n",
    "  # NOT 0 no humor and 1 humor\n",
    "  plain_cm = confusion_matrix(ref_jmt, sys_jmt, normalize=\"true\")\n",
    "  return {\"sys_orig\": sys_jmt_orig, \"sys_res_no_postpro\": sys_jmt_no_postpro,\n",
    "          \"sys_res\": sys_jmt, \"ref_res\": ref_jmt, \"cm\": plain_cm, \"cr\": classif_report}"
   ],
   "outputs": [],
   "execution_count": 5
  },
  {
   "cell_type": "code",
   "id": "28d129361fe2aabe",
   "metadata": {
    "ExecuteTime": {
     "end_time": "2025-06-12T21:30:23.703890Z",
     "start_time": "2025-06-12T21:30:23.619645Z"
    }
   },
   "source": [
    "model_4o = \"claude-3-5-sonnet-latest\"\n",
    "model_4o_res_dir = os.path.join(cf.response_dir, f\"claude/{model_4o}\")\n",
    "res_4o = eval_res(model_4o_res_dir, model_4o)\n",
    "print(res_4o[\"cr\"])"
   ],
   "outputs": [
    {
     "name": "stdout",
     "output_type": "stream",
     "text": [
      "lensys 100 lenref 100\n"
     ]
    },
    {
     "data": {
      "text/plain": [
       "<Figure size 600x600 with 1 Axes>"
      ],
      "image/png": "[encoded data removed]"
     },
     "metadata": {},
     "output_type": "display_data"
    },
    {
     "name": "stdout",
     "output_type": "stream",
     "text": [
      "              precision    recall  f1-score   support\n",
      "\n",
      "       comic       0.98      0.92      0.95        50\n",
      "       other       0.92      0.98      0.95        50\n",
      "\n",
      "    accuracy                           0.95       100\n",
      "   macro avg       0.95      0.95      0.95       100\n",
      "weighted avg       0.95      0.95      0.95       100\n",
      "\n"
     ]
    }
   ],
   "execution_count": 6
  },
  {
   "cell_type": "code",
   "id": "121eb8cdd411b4c2",
   "metadata": {
    "ExecuteTime": {
     "end_time": "2025-06-12T21:30:26.930595Z",
     "start_time": "2025-06-12T21:30:26.924491Z"
    }
   },
   "source": [
    "len(res_4o[\"sys_res\"])"
   ],
   "outputs": [
    {
     "data": {
      "text/plain": [
       "100"
      ]
     },
     "execution_count": 7,
     "metadata": {},
     "output_type": "execute_result"
    }
   ],
   "execution_count": 7
  },
  {
   "cell_type": "code",
   "id": "8c54d6c4aa6d1202",
   "metadata": {
    "ExecuteTime": {
     "end_time": "2025-06-12T21:30:28.491928Z",
     "start_time": "2025-06-12T21:30:28.435211Z"
    }
   },
   "source": [
    "model_35 = \"claude-3-5-haiku-latest\"\n",
    "model_35_res_dir = os.path.join(cf.response_dir, f\"claude/{model_35}\")\n",
    "res_35 = eval_res(model_35_res_dir, model_35)\n",
    "print(res_35[\"cr\"])"
   ],
   "outputs": [
    {
     "name": "stdout",
     "output_type": "stream",
     "text": [
      "lensys 100 lenref 100\n"
     ]
    },
    {
     "data": {
      "text/plain": [
       "<Figure size 600x600 with 1 Axes>"
      ],
      "image/png": "[encoded data removed]"
     },
     "metadata": {},
     "output_type": "display_data"
    },
    {
     "name": "stdout",
     "output_type": "stream",
     "text": [
      "              precision    recall  f1-score   support\n",
      "\n",
      "       comic       0.94      0.96      0.95        50\n",
      "       other       0.96      0.94      0.95        50\n",
      "\n",
      "    accuracy                           0.95       100\n",
      "   macro avg       0.95      0.95      0.95       100\n",
      "weighted avg       0.95      0.95      0.95       100\n",
      "\n"
     ]
    }
   ],
   "execution_count": 8
  },
  {
   "cell_type": "code",
   "execution_count": 33,
   "id": "ee9f19b94d18ee62",
   "metadata": {
    "ExecuteTime": {
     "end_time": "2025-06-10T21:38:43.889539Z",
     "start_time": "2025-06-10T21:38:43.882289Z"
    },
    "jupyter": {
     "source_hidden": true
    }
   },
   "outputs": [
    {
     "name": "stdout",
     "output_type": "stream",
     "text": [
      "Automatic pdb calling has been turned OFF\n"
     ]
    }
   ],
   "source": [
    "%pdb"
   ]
  },
  {
   "cell_type": "code",
   "id": "42ac0571-6122-41b4-af86-43aefd53ac23",
   "metadata": {
    "ExecuteTime": {
     "end_time": "2025-06-12T21:30:33.552213Z",
     "start_time": "2025-06-12T21:30:33.501206Z"
    }
   },
   "source": [
    "from importlib import reload\n",
    "reload(ut)\n",
    "model_new = \"claude-sonnet-4-20250514\"\n",
    "model_new_res_dir = os.path.join(cf.response_dir, f\"claude/{model_new}\")\n",
    "res_new = eval_res(model_new_res_dir, model_new)\n",
    "print(res_new[\"cr\"])"
   ],
   "outputs": [
    {
     "name": "stdout",
     "output_type": "stream",
     "text": [
      "lensys 100 lenref 100\n"
     ]
    },
    {
     "data": {
      "text/plain": [
       "<Figure size 600x600 with 1 Axes>"
      ],
      "image/png": "[encoded data removed]"
     },
     "metadata": {},
     "output_type": "display_data"
    },
    {
     "name": "stdout",
     "output_type": "stream",
     "text": [
      "              precision    recall  f1-score   support\n",
      "\n",
      "       comic       0.96      0.96      0.96        50\n",
      "       other       0.96      0.96      0.96        50\n",
      "\n",
      "    accuracy                           0.96       100\n",
      "   macro avg       0.96      0.96      0.96       100\n",
      "weighted avg       0.96      0.96      0.96       100\n",
      "\n"
     ]
    }
   ],
   "execution_count": 9
  },
  {
   "cell_type": "markdown",
   "id": "eb01bb8fda0c4736",
   "metadata": {},
   "source": [
    "### Look at errors"
   ]
  },
  {
   "cell_type": "code",
   "id": "946137e58d3785b5",
   "metadata": {
    "ExecuteTime": {
     "end_time": "2025-06-12T21:30:53.545960Z",
     "start_time": "2025-06-12T21:30:53.538359Z"
    }
   },
   "source": [
    "def get_error_case_idx_and_metadata(res, md_df):\n",
    "  \"\"\"\n",
    "  Get the indices of the bad results and metadata like author or century.\n",
    "  Args:\n",
    "    res (dict): The results to get error cases for; `dict` format produced by `eval_res()`.\n",
    "    md_df (DataFrame): Dataframe with metadata.\n",
    "\n",
    "  Returns:\n",
    "    tuple: Lists with the indices of the bad results, the centuries of the bad results, and the authors of the bad results.\n",
    "  \"\"\"\n",
    "  bad_centuries = []\n",
    "  bad_authors = []\n",
    "  bad_idx = []\n",
    "  print(\"\\t\".join(str(x) for x in (\"idx\", \"rr\", \"sr\", \"century\", \"author\", \"title\"))) \n",
    "  for idx, (sr, rr) in enumerate(zip(res[\"sys_res\"], res[\"ref_res\"])):\n",
    "    if rr != sr:\n",
    "      century = md_df.loc[md_df['id'] == idx + 1, 'centuryBirth'].iat[0]\n",
    "      author = md_df.loc[md_df['id'] == idx + 1, 'author'].iat[0]\n",
    "      title = md_df.loc[md_df['id'] == idx + 1, 'title'].iat[0]\n",
    "      bad_centuries.append(century)\n",
    "      bad_authors.append(author)\n",
    "      bad_idx.append(idx + 1)\n",
    "      print(\"\\t\".join(str(x) for x in (idx+1, rr, sr, century, author, title)))\n",
    "  return bad_idx, bad_centuries, bad_authors"
   ],
   "outputs": [],
   "execution_count": 10
  },
  {
   "cell_type": "code",
   "id": "b81c4b7263b7de7c",
   "metadata": {
    "ExecuteTime": {
     "end_time": "2025-06-12T21:30:55.780938Z",
     "start_time": "2025-06-12T21:30:55.772794Z"
    }
   },
   "source": [
    "bad_idx, bad_centuries, bad_authors = get_error_case_idx_and_metadata(res_35, md_df)"
   ],
   "outputs": [
    {
     "name": "stdout",
     "output_type": "stream",
     "text": [
      "idx\trr\tsr\tcentury\tauthor\ttitle\n",
      "3\tcomic\tother\t20\tJon Juaristi\tPatria mía\n",
      "11\tcomic\tother\t20\tJon Juaristi\tA Vinogrado, avinagrado\n",
      "83\tother\tcomic\t19\tAntonio Ros de Olano\tRegalando una botlla de vino añejo\n",
      "86\tother\tcomic\t16\tFrancisco de Terrazas\tSoñé que una piedra me arrojaba\n",
      "88\tother\tcomic\t19\tMelchor Palau y Català\tSonetos – IV\n"
     ]
    }
   ],
   "execution_count": 11
  },
  {
   "cell_type": "code",
   "id": "b75a2bffb026b6c9",
   "metadata": {
    "ExecuteTime": {
     "end_time": "2025-06-12T21:31:04.050721Z",
     "start_time": "2025-06-12T21:31:04.044589Z"
    }
   },
   "source": [
    "Counter(bad_centuries)"
   ],
   "outputs": [
    {
     "data": {
      "text/plain": [
       "Counter({20: 2, 19: 2, 16: 1})"
      ]
     },
     "execution_count": 12,
     "metadata": {},
     "output_type": "execute_result"
    }
   ],
   "execution_count": 12
  },
  {
   "cell_type": "code",
   "id": "15dc4ffcf505736e",
   "metadata": {
    "ExecuteTime": {
     "end_time": "2025-06-12T21:31:06.623367Z",
     "start_time": "2025-06-12T21:31:06.616699Z"
    }
   },
   "source": [
    "Counter(bad_authors)"
   ],
   "outputs": [
    {
     "data": {
      "text/plain": [
       "Counter({'Jon Juaristi': 2,\n",
       "         'Antonio Ros de Olano': 1,\n",
       "         'Francisco de Terrazas': 1,\n",
       "         'Melchor Palau y Català': 1})"
      ]
     },
     "execution_count": 13,
     "metadata": {},
     "output_type": "execute_result"
    }
   ],
   "execution_count": 13
  },
  {
   "cell_type": "code",
   "id": "f2e3dc64fd04ce4b",
   "metadata": {
    "ExecuteTime": {
     "end_time": "2025-06-12T21:31:11.513716Z",
     "start_time": "2025-06-12T21:31:11.510233Z"
    }
   },
   "source": [
    "def label_rewriter(label):\n",
    "  \"\"\"\n",
    "  Should help only for labels in output directory;\n",
    "  labels from evaluation function are already\n",
    "  restricted to those allowed in `cf.orig_labels`\n",
    "  \"\"\"\n",
    "  if label.lower() == \"no\":\n",
    "    return \"other\"\n",
    "  elif label.lower() in (\"incierto\", \"incierta\"):\n",
    "    return \"other-incierto\"\n",
    "  elif label.lower() == \"sí\":\n",
    "    return \"comic\"\n",
    "  else:\n",
    "    return label.lower()"
   ],
   "outputs": [],
   "execution_count": 14
  },
  {
   "cell_type": "code",
   "id": "fba087a8d57babe0",
   "metadata": {
    "ExecuteTime": {
     "end_time": "2025-06-12T21:31:13.998336Z",
     "start_time": "2025-06-12T21:31:13.975147Z"
    }
   },
   "source": [
    "def analyze_results(res, model_res_dir, ana_dir, bad_idx, md_df, model_name):\n",
    "  \"\"\"\n",
    "  Analyzes the results of a model.\n",
    "  \n",
    "  Args:\n",
    "      res (dict): The results assigned to the variable (e.g., `res_35` or `res_4o`).\n",
    "      model_res_dir (str): The directory where the model results are stored (e.g., `model_35_res_dir` or `model_4o_res_dir`).\n",
    "      ana_dir (str): The directory where the analysis results will be stored.\n",
    "      bad_idx (list): The indices of the bad results.\n",
    "      md_df (DataFrame): The metadata DataFrame.\n",
    "      model_name (str): The name of the model (e.g., `gpt-35-turbo` or `gpt-4o`).\n",
    "  Returns:\n",
    "    None\n",
    "  \"\"\"\n",
    "  fname_for_bad_jmts = os.path.join(ana_dir, f\"{model_name}_bads_all\")\n",
    "  fname_for_bad_jmts_fp = os.path.join(ana_dir, f\"{model_name}_bads_fp\")\n",
    "  fname_for_bad_jmts_fn = os.path.join(ana_dir, f\"{model_name}_bads_fn\")\n",
    "  bad_model_resps = [] #TODO why needed (if)?\n",
    "  dones_for_pfx = {}\n",
    "  poem_text = \"\"\n",
    "  # open output files\n",
    "  with open(fname_for_bad_jmts, mode=\"w\") as oufi_all, \\\n",
    "      open(fname_for_bad_jmts_fp, mode=\"w\") as oufi_fp, \\\n",
    "      open(fname_for_bad_jmts_fn, mode=\"w\") as oufi_fn:\n",
    "    for example_idx, bidx in enumerate(bad_idx):\n",
    "      # get model responses for error cases\n",
    "      model_resps_for_idx = sorted([fname for fname in sorted(os.listdir(model_res_dir))\n",
    "                                    if fname.startswith(\"humor\") and str.zfill(str(bidx), 4)\n",
    "                                    in fname])\n",
    "      #TODO This looks useless, why still here?\n",
    "      bad_model_resps.extend(model_resps_for_idx[0:cf.max_choices_for_textometry])\n",
    "      # iterate over error cases\n",
    "      for mrfi in model_resps_for_idx[0:cf.max_choices_for_textometry]:\n",
    "        mrfi_pfx = re.sub(r\"_\\d\\..*$\", \"\", mrfi)\n",
    "        if mrfi_pfx not in dones_for_pfx:\n",
    "          poem_text = ut.get_poem_text_by_id(bidx)\n",
    "        # write out error info for analysis\n",
    "        with open(os.path.join(model_res_dir, mrfi), mode=\"r\") as respfi:\n",
    "          author = md_df.loc[md_df['id'] == bidx, 'author'].iat[0]\n",
    "          title = md_df.loc[md_df['id'] == bidx, 'title'].iat[0]\n",
    "          century = md_df.loc[md_df['id'] == bidx, 'centuryBirth'].iat[0]\n",
    "          txt = respfi.read()\n",
    "          try:\n",
    "            jso = json.loads(txt)\n",
    "          except json.decoder.JSONDecodeError:\n",
    "            with open(os.path.join(model_res_dir, mrfi), mode=\"r\") as respfi:\n",
    "              clean_text = re.sub(re.compile(r\"^.*\\{\", re.DOTALL), r\"{\", respfi.read())\n",
    "              clean_text = re.sub(re.compile(r\"\\}.*$\", re.DOTALL), r\"}\", clean_text)\n",
    "              jso = json.loads(clean_text)  \n",
    "          # jmt_from_outdir (directly from output dir) is to compare with eval result\n",
    "          jmt_from_outdir, reason = jso[\"judgement\"], jso[\"reason\"]\n",
    "          jmt_from_eval = res[\"sys_res\"][bidx - 1]\n",
    "          ref_res = res[\"ref_res\"][bidx - 1]\n",
    "          # keep track of how many for prefix to only output as many choices as analyzed in textometry\n",
    "          dones_for_pfx.setdefault(mrfi_pfx, 1)\n",
    "          dones_for_pfx[mrfi_pfx] += 1\n",
    "          # makes outdir labels more homogeneous with labels output by eval\n",
    "          jmt_from_outdir_rw = label_rewriter(jmt_from_outdir)\n",
    "          jmt_from_eval_rw = label_rewriter(jmt_from_eval)\n",
    "          ref_res_rw = label_rewriter(ref_res)\n",
    "          # choose output file based on error type\n",
    "          #   this is based on assumption that all results are errors\n",
    "          #   and only the two errors below are possible\n",
    "          assert jmt_from_eval_rw in (\"comic\", \"other\") and \\\n",
    "                 ref_res_rw in (\"comic\", \"other\") and \\\n",
    "                 jmt_from_eval_rw != ref_res_rw, f\" MRFI: {mrfi} jmt_from_eval_rw: [{jmt_from_eval_rw}]; ref_res_rw: [{ref_res_rw}]\"\n",
    "          if jmt_from_eval_rw == \"comic\" and ref_res_rw == \"other\":\n",
    "            oufi_partial = oufi_fp\n",
    "          elif jmt_from_eval_rw == \"other\" and ref_res_rw == \"comic\":\n",
    "            oufi_partial = oufi_fn\n",
    "          # prepare output info\n",
    "          md_for_ana = f\" {author} ~ {title} ~ {century}\"\n",
    "          # total in len(bad_idx) no good for fp and fn total, not calculated\n",
    "          logsep = \"\\n\" + f\"{'*' * 20} IDX [{bidx}] ({example_idx + 1}/{len(bad_idx)})\" + md_for_ana + \"\\n\\n\" + poem_text + \"\\n\" if \\\n",
    "          dones_for_pfx[mrfi_pfx] == cf.max_choices_for_textometry - 1 else \"\"\n",
    "          for oufi in oufi_partial, oufi_all:\n",
    "            oufi.write(\n",
    "              f\"\\n{logsep}\\nBad result for [{bidx}]\\tSysRes Choice: [{jmt_from_outdir_rw}]; *SysRes Aggregated*: [{jmt_from_eval_rw}]; REFERENCE: [{ref_res_rw}]\\n\\t{reason}\")"
   ],
   "outputs": [],
   "execution_count": 15
  },
  {
   "cell_type": "code",
   "execution_count": 18,
   "id": "afada7506590530",
   "metadata": {
    "ExecuteTime": {
     "end_time": "2025-06-10T21:38:44.352339Z",
     "start_time": "2025-06-10T21:38:44.339607Z"
    }
   },
   "outputs": [],
   "source": [
    "# analyze results for gpt-35-turbo\n",
    "analyze_results(res_35, model_35_res_dir, ana_dir, bad_idx, md_df, \"claude-3-5-haiku-latest\")"
   ]
  },
  {
   "cell_type": "code",
   "execution_count": 15,
   "id": "de60e73c13143b84",
   "metadata": {
    "ExecuteTime": {
     "end_time": "2025-06-10T21:38:44.399970Z",
     "start_time": "2025-06-10T21:38:44.389834Z"
    }
   },
   "outputs": [
    {
     "name": "stdout",
     "output_type": "stream",
     "text": [
      "Automatic pdb calling has been turned ON\n"
     ]
    }
   ],
   "source": [
    "%pdb"
   ]
  },
  {
   "cell_type": "code",
   "id": "38b8091e-177e-490a-b4f7-f415a8d34691",
   "metadata": {
    "ExecuteTime": {
     "end_time": "2025-06-12T22:03:01.761404Z",
     "start_time": "2025-06-12T22:03:01.747213Z"
    }
   },
   "source": [
    "# analyze results for gpt-4o\n",
    "bad_idx4, bad_centuries4, bad_authors4 = get_error_case_idx_and_metadata(res_4o, md_df)\n",
    "analyze_results(res_4o, model_4o_res_dir, ana_dir, bad_idx4, md_df, \"claude-3-5-sonnet-latest\")"
   ],
   "outputs": [
    {
     "name": "stdout",
     "output_type": "stream",
     "text": [
      "idx\trr\tsr\tcentury\tauthor\ttitle\n",
      "10\tcomic\tother\t19\tMelchor Jufré del Águila\tSONETO\n",
      "11\tcomic\tother\t20\tJon Juaristi\tA Vinogrado, avinagrado\n",
      "23\tcomic\tother\t19\tMiguel Ramos Carrión\tEl botijo\n",
      "50\tother\tcomic\t19\tRubén Darío\tSONETO AUTUMNAL AL MARQUÉS DE BRADOMÍN\n",
      "67\tcomic\tother\t19\tManuel del Palacio\tA un pobre rico\n"
     ]
    }
   ],
   "execution_count": 28
  },
  {
   "cell_type": "markdown",
   "id": "c542b96d445d9b05",
   "metadata": {},
   "source": [
    "## Author comparison"
   ]
  },
  {
   "cell_type": "code",
   "id": "66c2a98005536e50",
   "metadata": {
    "ExecuteTime": {
     "end_time": "2025-06-12T21:31:25.248735Z",
     "start_time": "2025-06-12T21:31:25.242251Z"
    }
   },
   "source": [
    "def analyze_author_info(model_res_dir, md_df):\n",
    "  \"\"\"\n",
    "  Analyzes author information for a given model results directory.\n",
    "\n",
    "  Args:\n",
    "    model_res_dir (str): The directory where the model results are stored.\n",
    "    md_df (DataFrame): The metadata DataFrame.\n",
    "\n",
    "  Returns:\n",
    "    None\n",
    "  \"\"\"\n",
    "  ainfo = ut.get_author_info_for_dir(model_res_dir)\n",
    "  au_matches = 0\n",
    "  century_matches = 0\n",
    "  century_diffs = []\n",
    "  for ke, va in ainfo.items():\n",
    "    poem_id = re.search(r\"_(\\d+)_\", ke).group(1)\n",
    "    assert poem_id is not None\n",
    "    poem_id = int(poem_id)\n",
    "    author_ref = md_df.loc[md_df['id'] == poem_id, 'author'].iat[0]\n",
    "    century_ref = md_df.loc[md_df['id'] == poem_id, 'centuryBirth'].iat[0]\n",
    "    au_match = 1 if va[0] == author_ref else 0\n",
    "    century_match = 1 if va[1] == century_ref else 0\n",
    "    au_matches += au_match\n",
    "    century_matches += century_match\n",
    "    century_diff = abs(va[1] - century_ref)\n",
    "    century_diffs.append(century_diff)\n",
    "    print(f\"{ke.replace(\"author_\", \"\")}\\t{va[0]}\\t{author_ref}\\t{au_match}\\t{va[1]}\\t{century_ref}\\t{century_match}\\t{century_diff}\")\n",
    "  print(f\"Total author matches: {au_matches} ({100*(au_matches/len(ainfo))}%)\")\n",
    "  print(f\"Total century matches: {century_matches} ({100*(century_matches/len(ainfo))}%)\")\n",
    "  print(f\"Mean century difference: {np.mean(century_diffs)} ({np.std(century_diffs)})\")\n",
    "\n",
    "  centuries_sys = [va[1] for va in ainfo.values()]\n",
    "  centuries_ref = [md_df.loc[md_df['id'] == int(re.search(r\"_(\\d+)_\", ke).group(1)), 'centuryBirth'].iat[0] for ke in ainfo.keys()]\n",
    "\n",
    "  print(\"Pearson r\", pearsonr(centuries_sys, centuries_ref))\n",
    "  print(\"Spearman r\", spearmanr(centuries_sys, centuries_ref))"
   ],
   "outputs": [],
   "execution_count": 17
  },
  {
   "cell_type": "markdown",
   "id": "518eddd6443f290",
   "metadata": {},
   "source": [
    "The below for claude-3-5-haiku-latest is correct, there's two authors identified, the same as for Mistral small but the poem by Darío identified is not the same one that Mistral small got correctly, so no mistake there."
   ]
  },
  {
   "cell_type": "code",
   "id": "9c1d1af9495d76c5",
   "metadata": {
    "ExecuteTime": {
     "end_time": "2025-06-12T21:31:28.396922Z",
     "start_time": "2025-06-12T21:31:28.352390Z"
    }
   },
   "source": [
    "#reload(ut)\n",
    "analyze_author_info(model_35_res_dir, md_df)"
   ],
   "outputs": [
    {
     "name": "stdout",
     "output_type": "stream",
     "text": [
      "0001_claude-3-5-haiku-latest.json\tEnrique Banchs\tAugusto E. Madan\t0\t20\t19\t0\t1\n",
      "0002_claude-3-5-haiku-latest.json\tRodrigo de Mendoza\tJuan de Arguijo\t0\t16\t19\t0\t3\n",
      "0003_claude-3-5-haiku-latest.json\tGabriel Aresti\tJon Juaristi\t0\t20\t20\t1\t0\n",
      "0004_claude-3-5-haiku-latest.json\tFrancisco de Quevedo\tMiguel de Cervantes\t0\t17\t19\t0\t2\n",
      "0005_claude-3-5-haiku-latest.json\tRamón Gómez de la Serna\tAugusto E. Madan\t0\t20\t19\t0\t1\n",
      "0006_claude-3-5-haiku-latest.json\tFrancisco de Quevedo\tFrancisco de Quevedo\t1\t17\t16\t0\t1\n",
      "0007_claude-3-5-haiku-latest.json\tFrancisco de Quevedo\tMiguel de Cervantes\t0\t17\t16\t0\t1\n",
      "0008_claude-3-5-haiku-latest.json\tMiguel Sánchez-Ostiz\tJon Juaristi\t0\t20\t20\t1\t0\n",
      "0009_claude-3-5-haiku-latest.json\tCésar Vallejo\tManuel Bernabé\t0\t20\t19\t0\t1\n",
      "0010_claude-3-5-haiku-latest.json\tFrancisco de Quevedo\tMelchor Jufré del Águila\t0\t17\t19\t0\t2\n",
      "0011_claude-3-5-haiku-latest.json\tLuis Antonio de Villena\tJon Juaristi\t0\t20\t20\t1\t0\n",
      "0012_claude-3-5-haiku-latest.json\tFrancisco de Quevedo\tMatías Frigola y Picón\t0\t17\t17\t1\t0\n",
      "0013_claude-3-5-haiku-latest.json\tMiguel de Unamuno\tBlas Sirvent\t0\t19\t19\t1\t0\n",
      "0014_claude-3-5-haiku-latest.json\tRamón de Campoamor\tBlas Sirvent\t0\t19\t19\t1\t0\n",
      "0015_claude-3-5-haiku-latest.json\tAutor desconocido\tMariano Álvarez Robles\t0\t20\t19\t0\t1\n",
      "0016_claude-3-5-haiku-latest.json\tRamón de Campoamor\tManuel Bretón de los Herreros\t0\t19\t19\t1\t0\n",
      "0017_claude-3-5-haiku-latest.json\tJuan Pérez de Montalbán\tWenceslao Ayguals de Izco\t0\t17\t19\t0\t2\n",
      "0018_claude-3-5-haiku-latest.json\tFrancisco de Quevedo\tMiguel Agustín Príncipe\t0\t17\t19\t0\t2\n",
      "0019_claude-3-5-haiku-latest.json\tJosé Joaquín de Mora\tAnónimo\t0\t19\t19\t1\t0\n",
      "0020_claude-3-5-haiku-latest.json\tLeandro Fernández de Moratín\tJuan Martínez Villergas\t0\t18\t19\t0\t1\n",
      "0021_claude-3-5-haiku-latest.json\tGustavo Adolfo Bécquer\tManuel del Palacio\t0\t19\t19\t1\t0\n",
      "0022_claude-3-5-haiku-latest.json\tGaspar Núñez de Arce\tEnrique Sierra Valenzuela\t0\t19\t19\t1\t0\n",
      "0023_claude-3-5-haiku-latest.json\tRafael Alberti\tMiguel Ramos Carrión\t0\t20\t19\t0\t1\n",
      "0024_claude-3-5-haiku-latest.json\tLuis Cernuda\tJosé Campo Moreno\t0\t20\t19\t0\t1\n",
      "0025_claude-3-5-haiku-latest.json\tLuis García Montero\tJoaquín Sabina\t0\t20\t20\t1\t0\n",
      "0026_claude-3-5-haiku-latest.json\tLope de Vega\tCamila Lucinda\t0\t17\t16\t0\t1\n",
      "0027_claude-3-5-haiku-latest.json\tJosé Francisco de Isla\tJosé Francisco de Isla, «Padre Isla»\t0\t18\t18\t1\t0\n",
      "0028_claude-3-5-haiku-latest.json\tGustavo Adolfo Bécquer\tEmilio Mora\t0\t19\t19\t1\t0\n",
      "0029_claude-3-5-haiku-latest.json\tGustavo Adolfo Bécquer\tManuel del Palacio\t0\t19\t19\t1\t0\n",
      "0030_claude-3-5-haiku-latest.json\tLope de Vega\tJuan Meléndez Valdés\t0\t17\t18\t0\t1\n",
      "0031_claude-3-5-haiku-latest.json\tLope de Vega\tJuan Meléndez Valdés\t0\t17\t18\t0\t1\n",
      "0032_claude-3-5-haiku-latest.json\tJosé María Heredia\tJulián del Casal\t0\t19\t19\t1\t0\n",
      "0033_claude-3-5-haiku-latest.json\tJuan Pérez de Montalbán\tLuis Vélez de Guevara\t0\t17\t16\t0\t1\n",
      "0034_claude-3-5-haiku-latest.json\tGarcilaso de la Vega\tFrancisco de Figueroa\t0\t16\t16\t1\t0\n",
      "0035_claude-3-5-haiku-latest.json\tBartolomé Cairasco de Figueroa\tCarlos de la Coba Machicao\t0\t16\t16\t1\t0\n",
      "0036_claude-3-5-haiku-latest.json\tFrancisco de Quevedo\tFrancisco de Terrazas\t0\t17\t16\t0\t1\n",
      "0037_claude-3-5-haiku-latest.json\tJosé María Heredia\tArturo Reyes\t0\t19\t19\t1\t0\n",
      "0038_claude-3-5-haiku-latest.json\tJulio Herrera y Reissig\tNicolás Arnao\t0\t19\t19\t1\t0\n",
      "0039_claude-3-5-haiku-latest.json\tFrancisco de Quevedo\tJuan Bautista de Mesa\t0\t17\t17\t1\t0\n",
      "0040_claude-3-5-haiku-latest.json\tJosé María de Heredia\tFrancisco Javier Ugarte y Pages\t0\t19\t19\t1\t0\n",
      "0041_claude-3-5-haiku-latest.json\tJulián del Casal\tMercedes Matamoros\t0\t19\t19\t1\t0\n",
      "0042_claude-3-5-haiku-latest.json\tLuis Rosales\tJulio Herrera y Reissig\t0\t20\t19\t0\t1\n",
      "0043_claude-3-5-haiku-latest.json\tFrancisco de Quevedo\tSimón Villalobos Benavides y Calatayud\t0\t17\t17\t1\t0\n",
      "0044_claude-3-5-haiku-latest.json\tJosé Santos Chocano\tManuel José Othón\t0\t19\t19\t1\t0\n",
      "0045_claude-3-5-haiku-latest.json\tRubén Darío\tManuel José Othón\t0\t19\t19\t1\t0\n",
      "0046_claude-3-5-haiku-latest.json\tRubén Darío\tJosé Selgas y Carrasco\t0\t19\t19\t1\t0\n",
      "0047_claude-3-5-haiku-latest.json\tMiguel de Unamuno\tJacinto Verdaguer\t0\t19\t19\t1\t0\n",
      "0048_claude-3-5-haiku-latest.json\tGustavo Adolfo Bécquer\tJosé Gonzalo Roldán\t0\t19\t19\t1\t0\n",
      "0049_claude-3-5-haiku-latest.json\tRubén Darío\tRubén Darío\t1\t19\t19\t1\t0\n",
      "0050_claude-3-5-haiku-latest.json\tRamón María del Valle-Inclán\tRubén Darío\t0\t19\t19\t1\t0\n",
      "0051_claude-3-5-haiku-latest.json\tGustavo Adolfo Bécquer\tManuel del Palacio\t0\t19\t19\t1\t0\n",
      "0052_claude-3-5-haiku-latest.json\tMariano José de Larra\tManuel del Palacio\t0\t19\t19\t1\t0\n",
      "0053_claude-3-5-haiku-latest.json\tGustavo Adolfo Bécquer\tManuel del Palacio\t0\t19\t19\t1\t0\n",
      "0054_claude-3-5-haiku-latest.json\tLuis de Góngora y Argote\tManuel del Palacio\t0\t17\t19\t0\t2\n",
      "0055_claude-3-5-haiku-latest.json\tRamón de Campoamor\tManuel del Palacio\t0\t19\t19\t1\t0\n",
      "0056_claude-3-5-haiku-latest.json\tGustavo Adolfo Bécquer\tManuel del Palacio\t0\t19\t19\t1\t0\n",
      "0057_claude-3-5-haiku-latest.json\tGustavo Adolfo Bécquer\tManuel del Palacio\t0\t19\t19\t1\t0\n",
      "0058_claude-3-5-haiku-latest.json\tGustavo Adolfo Bécquer\tManuel del Palacio\t0\t19\t19\t1\t0\n",
      "0059_claude-3-5-haiku-latest.json\tJosé María de Heredia\tManuel del Palacio\t0\t19\t19\t1\t0\n",
      "0060_claude-3-5-haiku-latest.json\tManuel Machado\tManuel del Palacio\t0\t19\t19\t1\t0\n",
      "0061_claude-3-5-haiku-latest.json\tRubén Darío\tManuel del Palacio\t0\t19\t19\t1\t0\n",
      "0062_claude-3-5-haiku-latest.json\tRubén Darío\tManuel del Palacio\t0\t19\t19\t1\t0\n",
      "0063_claude-3-5-haiku-latest.json\tJosé Santos Chocano\tManuel del Palacio\t0\t19\t19\t1\t0\n",
      "0064_claude-3-5-haiku-latest.json\tJosé Santos Chocano\tManuel del Palacio\t0\t19\t19\t1\t0\n",
      "0065_claude-3-5-haiku-latest.json\tFrancisco de Quevedo\tManuel del Palacio\t0\t17\t19\t0\t2\n",
      "0066_claude-3-5-haiku-latest.json\tLuis Cernuda\tManuel del Palacio\t0\t20\t19\t0\t1\n",
      "0067_claude-3-5-haiku-latest.json\tManuel Acuña\tManuel del Palacio\t0\t19\t19\t1\t0\n",
      "0068_claude-3-5-haiku-latest.json\tRamón de Campoamor\tManuel del Palacio\t0\t19\t19\t1\t0\n",
      "0069_claude-3-5-haiku-latest.json\tFrancisco de Quevedo\tJuan de Tassis y Peralta, Conde de Villamediana\t0\t17\t16\t0\t1\n",
      "0070_claude-3-5-haiku-latest.json\tFrancisco de Quevedo\tJuan de Tassis y Peralta, Conde de Villamediana\t0\t17\t16\t0\t1\n",
      "0071_claude-3-5-haiku-latest.json\tFrancisco de Quevedo\tJuan de Tassis y Peralta, Conde de Villamediana\t0\t17\t16\t0\t1\n",
      "0072_claude-3-5-haiku-latest.json\tFrancisco de Quevedo\tJuan de Tassis y Peralta, Conde de Villamediana\t0\t17\t16\t0\t1\n",
      "0073_claude-3-5-haiku-latest.json\tFrancisco de Quevedo\tJuan de Tassis y Peralta, Conde de Villamediana\t0\t17\t16\t0\t1\n",
      "0074_claude-3-5-haiku-latest.json\tFrancisco de Quevedo\tJuan de Tassis y Peralta, Conde de Villamediana\t0\t17\t16\t0\t1\n",
      "0075_claude-3-5-haiku-latest.json\tFrancisco de Quevedo\tJuan de Tassis y Peralta, Conde de Villamediana\t0\t17\t16\t0\t1\n",
      "0076_claude-3-5-haiku-latest.json\tLope de Vega\tJuan de Tassis y Peralta, Conde de Villamediana\t0\t17\t16\t0\t1\n",
      "0077_claude-3-5-haiku-latest.json\tManuel Machado\tManuel Bernabé\t0\t19\t19\t1\t0\n",
      "0078_claude-3-5-haiku-latest.json\tJosé Rizal\tManuel Bernabé\t0\t19\t19\t1\t0\n",
      "0079_claude-3-5-haiku-latest.json\tFrancisco de Quevedo\tJuan Francisco Andrés\t0\t17\t17\t1\t0\n",
      "0080_claude-3-5-haiku-latest.json\tSor Juana Inés de la Cruz\tFrancisco de Sigüenza\t0\t17\t17\t1\t0\n",
      "0081_claude-3-5-haiku-latest.json\tLope de Vega\tJuan Francisco de Prado\t0\t17\t17\t1\t0\n",
      "0082_claude-3-5-haiku-latest.json\tJosé Santos Chocano\tJosé Joaquín Olmedo\t0\t19\t18\t0\t1\n",
      "0083_claude-3-5-haiku-latest.json\tFrancisco de Quevedo\tAntonio Ros de Olano\t0\t17\t19\t0\t2\n",
      "0084_claude-3-5-haiku-latest.json\tAmado Nervo\tRosario («Crisantema») Sansores\t0\t19\t19\t1\t0\n",
      "0085_claude-3-5-haiku-latest.json\tJorge Manrique\tMarqués de Santillana\t0\t15\t14\t0\t1\n",
      "0086_claude-3-5-haiku-latest.json\tGarcilaso de la Vega\tFrancisco de Terrazas\t0\t16\t16\t1\t0\n",
      "0087_claude-3-5-haiku-latest.json\tSor Juana Inés de la Cruz\tPedro de Quirós\t0\t17\t16\t0\t1\n",
      "0088_claude-3-5-haiku-latest.json\tLuis de Góngora y Argote\tMelchor Palau y Català\t0\t17\t19\t0\t2\n",
      "0089_claude-3-5-haiku-latest.json\tFrancisco de Quevedo\tLuis Martín de la Plaza\t0\t17\t16\t0\t1\n",
      "0090_claude-3-5-haiku-latest.json\tJuana de Ibarbourou\tManuel Gutiérrez Nájera\t0\t20\t19\t0\t1\n",
      "0091_claude-3-5-haiku-latest.json\tLuis de Góngora y Argote\tJerónimo de Lomas Cantoral\t0\t17\t16\t0\t1\n",
      "0092_claude-3-5-haiku-latest.json\tSor Juana Inés de la Cruz\tJuan de San Martín\t0\t17\t17\t1\t0\n",
      "0093_claude-3-5-haiku-latest.json\tLope de Vega\tLuis Barahona de Soto\t0\t16\t16\t1\t0\n",
      "0094_claude-3-5-haiku-latest.json\tJosé Martí\tManuel Reina\t0\t19\t19\t1\t0\n",
      "0095_claude-3-5-haiku-latest.json\tDelmira Agustini\tConcepción Robles\t0\t20\t19\t0\t1\n",
      "0096_claude-3-5-haiku-latest.json\tAmado Nervo\tNuma Pompilio Llona\t0\t19\t19\t1\t0\n",
      "0097_claude-3-5-haiku-latest.json\tJosé Santos Chocano\tJulio Flores Roa\t0\t19\t19\t1\t0\n",
      "0098_claude-3-5-haiku-latest.json\tJosé María Heredia\tMercedes de Velilla Rodríguez\t0\t19\t19\t1\t0\n",
      "0099_claude-3-5-haiku-latest.json\tGustavo Adolfo Bécquer\tFernando Maristany\t0\t19\t19\t1\t0\n",
      "0100_claude-3-5-haiku-latest.json\tGustavo Adolfo Bécquer\tEsther Lucila Vázquez\t0\t19\t19\t1\t0\n",
      "Total author matches: 2 (2.0%)\n",
      "Total century matches: 60 (60.0%)\n",
      "Mean century difference: 0.5 (0.6855654600401044)\n",
      "Pearson r PearsonRResult(statistic=0.7875481638199361, pvalue=2.5276405065045786e-22)\n",
      "Spearman r SignificanceResult(statistic=0.7761364860185012, pvalue=2.432104446398548e-21)\n"
     ]
    }
   ],
   "execution_count": 18
  },
  {
   "cell_type": "code",
   "id": "3e2a0faa6eb215bc",
   "metadata": {
    "ExecuteTime": {
     "end_time": "2025-06-12T21:31:31.322699Z",
     "start_time": "2025-06-12T21:31:31.284059Z"
    }
   },
   "source": [
    "analyze_author_info(model_4o_res_dir, md_df)"
   ],
   "outputs": [
    {
     "name": "stdout",
     "output_type": "stream",
     "text": [
      "  - Warning: unknown century for desconocido in author_0040_claude-3-5-sonnet-latest.json, assign 19\n",
      "0001_claude-3-5-sonnet-latest.json\tLeopoldo Díaz\tAugusto E. Madan\t0\t19\t19\t1\t0\n",
      "0002_claude-3-5-sonnet-latest.json\tFrancisco de Quevedo\tJuan de Arguijo\t0\t17\t19\t0\t2\n",
      "0003_claude-3-5-sonnet-latest.json\tBlas de Otero\tJon Juaristi\t0\t20\t20\t1\t0\n",
      "0004_claude-3-5-sonnet-latest.json\tLuis de Góngora\tMiguel de Cervantes\t0\t17\t19\t0\t2\n",
      "0005_claude-3-5-sonnet-latest.json\tJuan José Tablada\tAugusto E. Madan\t0\t20\t19\t0\t1\n",
      "0006_claude-3-5-sonnet-latest.json\tFrancisco de Quevedo\tFrancisco de Quevedo\t1\t17\t16\t0\t1\n",
      "0007_claude-3-5-sonnet-latest.json\tFélix Lope de Vega\tMiguel de Cervantes\t0\t16\t16\t1\t0\n",
      "0008_claude-3-5-sonnet-latest.json\tFrancisco Javier Irazoki\tJon Juaristi\t0\t20\t20\t1\t0\n",
      "0009_claude-3-5-sonnet-latest.json\tJulio Herrera y Reissig\tManuel Bernabé\t0\t19\t19\t1\t0\n",
      "0010_claude-3-5-sonnet-latest.json\tFrancisco de Quevedo\tMelchor Jufré del Águila\t0\t17\t19\t0\t2\n",
      "0011_claude-3-5-sonnet-latest.json\tDionisio Ridruejo\tJon Juaristi\t0\t20\t20\t1\t0\n",
      "0012_claude-3-5-sonnet-latest.json\tJosé de Cañizares\tMatías Frigola y Picón\t0\t18\t17\t0\t1\n",
      "0013_claude-3-5-sonnet-latest.json\tAntonio Aparisi y Guijarro\tBlas Sirvent\t0\t19\t19\t1\t0\n",
      "0014_claude-3-5-sonnet-latest.json\tPedro Antonio de Alarcón\tBlas Sirvent\t0\t19\t19\t1\t0\n",
      "0015_claude-3-5-sonnet-latest.json\tJuan Martínez Villergas\tMariano Álvarez Robles\t0\t19\t19\t1\t0\n",
      "0016_claude-3-5-sonnet-latest.json\tManuel Bretón de los Herreros\tManuel Bretón de los Herreros\t1\t19\t19\t1\t0\n",
      "0017_claude-3-5-sonnet-latest.json\tManuel Bretón de los Herreros\tWenceslao Ayguals de Izco\t0\t19\t19\t1\t0\n",
      "0018_claude-3-5-sonnet-latest.json\tJosé Iglesias de la Casa\tMiguel Agustín Príncipe\t0\t18\t19\t0\t1\n",
      "0019_claude-3-5-sonnet-latest.json\tJuan Nicasio Gallego\tAnónimo\t0\t19\t19\t1\t0\n",
      "0020_claude-3-5-sonnet-latest.json\tManuel Bretón de los Herreros\tJuan Martínez Villergas\t0\t19\t19\t1\t0\n",
      "0021_claude-3-5-sonnet-latest.json\tManuel del Palacio\tManuel del Palacio\t1\t19\t19\t1\t0\n",
      "0022_claude-3-5-sonnet-latest.json\tJosé Zorrilla\tEnrique Sierra Valenzuela\t0\t19\t19\t1\t0\n",
      "0023_claude-3-5-sonnet-latest.json\tManuel Machado\tMiguel Ramos Carrión\t0\t20\t19\t0\t1\n",
      "0024_claude-3-5-sonnet-latest.json\tEduardo Benot\tJosé Campo Moreno\t0\t19\t19\t1\t0\n",
      "0025_claude-3-5-sonnet-latest.json\tCarlos Murciano\tJoaquín Sabina\t0\t20\t20\t1\t0\n",
      "0026_claude-3-5-sonnet-latest.json\tLope de Vega\tCamila Lucinda\t0\t17\t16\t0\t1\n",
      "0027_claude-3-5-sonnet-latest.json\tJosé Francisco de Isla\tJosé Francisco de Isla, «Padre Isla»\t0\t18\t18\t1\t0\n",
      "0028_claude-3-5-sonnet-latest.json\tVicente Riva Palacio\tEmilio Mora\t0\t19\t19\t1\t0\n",
      "0029_claude-3-5-sonnet-latest.json\tGertrudis Gómez de Avellaneda\tManuel del Palacio\t0\t19\t19\t1\t0\n",
      "0030_claude-3-5-sonnet-latest.json\tJuan Meléndez Valdés\tJuan Meléndez Valdés\t1\t18\t18\t1\t0\n",
      "0031_claude-3-5-sonnet-latest.json\tFray Luis de León\tJuan Meléndez Valdés\t0\t16\t18\t0\t2\n",
      "0032_claude-3-5-sonnet-latest.json\tManuel González Prada\tJulián del Casal\t0\t19\t19\t1\t0\n",
      "0033_claude-3-5-sonnet-latest.json\tLeonor de la Cueva y Silva\tLuis Vélez de Guevara\t0\t17\t16\t0\t1\n",
      "0034_claude-3-5-sonnet-latest.json\tGutierre de Cetina\tFrancisco de Figueroa\t0\t16\t16\t1\t0\n",
      "0035_claude-3-5-sonnet-latest.json\tBartolomé Cairasco de Figueroa\tCarlos de la Coba Machicao\t0\t16\t16\t1\t0\n",
      "0036_claude-3-5-sonnet-latest.json\tDiego Hurtado de Mendoza\tFrancisco de Terrazas\t0\t16\t16\t1\t0\n",
      "0037_claude-3-5-sonnet-latest.json\tManuel Acuña\tArturo Reyes\t0\t19\t19\t1\t0\n",
      "0038_claude-3-5-sonnet-latest.json\tJuana Borrero\tNicolás Arnao\t0\t19\t19\t1\t0\n",
      "0039_claude-3-5-sonnet-latest.json\tLuis de Góngora\tJuan Bautista de Mesa\t0\t17\t17\t1\t0\n",
      "0040_claude-3-5-sonnet-latest.json\tdesconocido\tFrancisco Javier Ugarte y Pages\t0\t19\t19\t1\t0\n",
      "0041_claude-3-5-sonnet-latest.json\tJosé María Rivas Groot\tMercedes Matamoros\t0\t19\t19\t1\t0\n",
      "0042_claude-3-5-sonnet-latest.json\tJosé Santos Chocano\tJulio Herrera y Reissig\t0\t20\t19\t0\t1\n",
      "0043_claude-3-5-sonnet-latest.json\tPedro Calderón de la Barca\tSimón Villalobos Benavides y Calatayud\t0\t17\t17\t1\t0\n",
      "0044_claude-3-5-sonnet-latest.json\tManuel José Othón\tManuel José Othón\t1\t19\t19\t1\t0\n",
      "0045_claude-3-5-sonnet-latest.json\tRicardo Gil y Zárate\tManuel José Othón\t0\t19\t19\t1\t0\n",
      "0046_claude-3-5-sonnet-latest.json\tAntonio Fernández Grilo\tJosé Selgas y Carrasco\t0\t19\t19\t1\t0\n",
      "0047_claude-3-5-sonnet-latest.json\tJuan de Dios Peza\tJacinto Verdaguer\t0\t19\t19\t1\t0\n",
      "0048_claude-3-5-sonnet-latest.json\tJosé María Heredia y Heredia\tJosé Gonzalo Roldán\t0\t19\t19\t1\t0\n",
      "0049_claude-3-5-sonnet-latest.json\tRubén Darío\tRubén Darío\t1\t19\t19\t1\t0\n",
      "0050_claude-3-5-sonnet-latest.json\tRubén Darío\tRubén Darío\t1\t19\t19\t1\t0\n",
      "0051_claude-3-5-sonnet-latest.json\tMiguel Agustín Príncipe\tManuel del Palacio\t0\t19\t19\t1\t0\n",
      "0052_claude-3-5-sonnet-latest.json\tManuel del Palacio\tManuel del Palacio\t1\t19\t19\t1\t0\n",
      "0053_claude-3-5-sonnet-latest.json\tManuel Acuña\tManuel del Palacio\t0\t19\t19\t1\t0\n",
      "0054_claude-3-5-sonnet-latest.json\tAntonio Ros de Olano\tManuel del Palacio\t0\t19\t19\t1\t0\n",
      "0055_claude-3-5-sonnet-latest.json\tManuel Bretón de los Herreros\tManuel del Palacio\t0\t19\t19\t1\t0\n",
      "0056_claude-3-5-sonnet-latest.json\tManuel del Palacio\tManuel del Palacio\t1\t19\t19\t1\t0\n",
      "0057_claude-3-5-sonnet-latest.json\tJosé González de Tejada\tManuel del Palacio\t0\t19\t19\t1\t0\n",
      "0058_claude-3-5-sonnet-latest.json\tManuel del Palacio\tManuel del Palacio\t1\t19\t19\t1\t0\n",
      "0059_claude-3-5-sonnet-latest.json\tManuel del Palacio\tManuel del Palacio\t1\t19\t19\t1\t0\n",
      "0060_claude-3-5-sonnet-latest.json\tRosario de Acuña\tManuel del Palacio\t0\t19\t19\t1\t0\n",
      "0061_claude-3-5-sonnet-latest.json\tManuel del Palacio\tManuel del Palacio\t1\t19\t19\t1\t0\n",
      "0062_claude-3-5-sonnet-latest.json\tManuel del Palacio\tManuel del Palacio\t1\t19\t19\t1\t0\n",
      "0063_claude-3-5-sonnet-latest.json\tFrancisco de Quevedo\tManuel del Palacio\t0\t17\t19\t0\t2\n",
      "0064_claude-3-5-sonnet-latest.json\tManuel del Palacio\tManuel del Palacio\t1\t19\t19\t1\t0\n",
      "0065_claude-3-5-sonnet-latest.json\tJuan Nicasio Gallego\tManuel del Palacio\t0\t19\t19\t1\t0\n",
      "0066_claude-3-5-sonnet-latest.json\tFrancisco de Quevedo\tManuel del Palacio\t0\t17\t19\t0\t2\n",
      "0067_claude-3-5-sonnet-latest.json\tRosalía de Castro\tManuel del Palacio\t0\t19\t19\t1\t0\n",
      "0068_claude-3-5-sonnet-latest.json\tManuel del Palacio\tManuel del Palacio\t1\t19\t19\t1\t0\n",
      "0069_claude-3-5-sonnet-latest.json\tFélix Lope de Vega y Carpio\tJuan de Tassis y Peralta, Conde de Villamediana\t0\t17\t16\t0\t1\n",
      "0070_claude-3-5-sonnet-latest.json\tFrancisco de Quevedo y Villegas\tJuan de Tassis y Peralta, Conde de Villamediana\t0\t17\t16\t0\t1\n",
      "0071_claude-3-5-sonnet-latest.json\tFrancisco de Quevedo\tJuan de Tassis y Peralta, Conde de Villamediana\t0\t17\t16\t0\t1\n",
      "0072_claude-3-5-sonnet-latest.json\tFrancisco de Quevedo\tJuan de Tassis y Peralta, Conde de Villamediana\t0\t17\t16\t0\t1\n",
      "0073_claude-3-5-sonnet-latest.json\tFrancisco de Quevedo\tJuan de Tassis y Peralta, Conde de Villamediana\t0\t17\t16\t0\t1\n",
      "0074_claude-3-5-sonnet-latest.json\tFrancisco de Quevedo\tJuan de Tassis y Peralta, Conde de Villamediana\t0\t17\t16\t0\t1\n",
      "0075_claude-3-5-sonnet-latest.json\tFrancisco de Quevedo\tJuan de Tassis y Peralta, Conde de Villamediana\t0\t17\t16\t0\t1\n",
      "0076_claude-3-5-sonnet-latest.json\tFrancisco de Quevedo\tJuan de Tassis y Peralta, Conde de Villamediana\t0\t17\t16\t0\t1\n",
      "0077_claude-3-5-sonnet-latest.json\tAlfonsina Storni\tManuel Bernabé\t0\t20\t19\t0\t1\n",
      "0078_claude-3-5-sonnet-latest.json\tFernando Maramag\tManuel Bernabé\t0\t20\t19\t0\t1\n",
      "0079_claude-3-5-sonnet-latest.json\tJuan del Valle y Caviedes\tJuan Francisco Andrés\t0\t17\t17\t1\t0\n",
      "0080_claude-3-5-sonnet-latest.json\tJuan del Valle y Caviedes\tFrancisco de Sigüenza\t0\t17\t17\t1\t0\n",
      "0081_claude-3-5-sonnet-latest.json\tLope de Vega\tJuan Francisco de Prado\t0\t16\t17\t0\t1\n",
      "0082_claude-3-5-sonnet-latest.json\tFelipe Pardo y Aliaga\tJosé Joaquín Olmedo\t0\t19\t18\t0\t1\n",
      "0083_claude-3-5-sonnet-latest.json\tManuel del Palacio\tAntonio Ros de Olano\t0\t19\t19\t1\t0\n",
      "0084_claude-3-5-sonnet-latest.json\tJosé Gautier Benítez\tRosario («Crisantema») Sansores\t0\t19\t19\t1\t0\n",
      "0085_claude-3-5-sonnet-latest.json\tÍñigo López de Mendoza, Marqués de Santillana\tMarqués de Santillana\t0\t15\t14\t0\t1\n",
      "0086_claude-3-5-sonnet-latest.json\tJuan Boscán\tFrancisco de Terrazas\t0\t16\t16\t1\t0\n",
      "0087_claude-3-5-sonnet-latest.json\tLope de Vega\tPedro de Quirós\t0\t17\t16\t0\t1\n",
      "0088_claude-3-5-sonnet-latest.json\tAlberto Lista y Aragón\tMelchor Palau y Català\t0\t19\t19\t1\t0\n",
      "0089_claude-3-5-sonnet-latest.json\tDiego Hurtado de Mendoza\tLuis Martín de la Plaza\t0\t16\t16\t1\t0\n",
      "0090_claude-3-5-sonnet-latest.json\tJosé Santos Chocano\tManuel Gutiérrez Nájera\t0\t20\t19\t0\t1\n",
      "0091_claude-3-5-sonnet-latest.json\tFrancisco de Medrano\tJerónimo de Lomas Cantoral\t0\t17\t16\t0\t1\n",
      "0092_claude-3-5-sonnet-latest.json\tSor Juana Inés de la Cruz\tJuan de San Martín\t0\t17\t17\t1\t0\n",
      "0093_claude-3-5-sonnet-latest.json\tLope de Vega\tLuis Barahona de Soto\t0\t16\t16\t1\t0\n",
      "0094_claude-3-5-sonnet-latest.json\tManuel del Palacio\tManuel Reina\t0\t19\t19\t1\t0\n",
      "0095_claude-3-5-sonnet-latest.json\tDelmira Agustini\tConcepción Robles\t0\t20\t19\t0\t1\n",
      "0096_claude-3-5-sonnet-latest.json\tMiguel Antonio Caro\tNuma Pompilio Llona\t0\t19\t19\t1\t0\n",
      "0097_claude-3-5-sonnet-latest.json\tManuel Gutiérrez Nájera\tJulio Flores Roa\t0\t19\t19\t1\t0\n",
      "0098_claude-3-5-sonnet-latest.json\tJuan de Dios Peza\tMercedes de Velilla Rodríguez\t0\t19\t19\t1\t0\n",
      "0099_claude-3-5-sonnet-latest.json\tRubén Darío\tFernando Maristany\t0\t19\t19\t1\t0\n",
      "0100_claude-3-5-sonnet-latest.json\tSalvador Díaz Mirón\tEsther Lucila Vázquez\t0\t19\t19\t1\t0\n",
      "Total author matches: 15 (15.0%)\n",
      "Total century matches: 69 (69.0%)\n",
      "Mean century difference: 0.37 (0.5942221806698231)\n",
      "Pearson r PearsonRResult(statistic=0.8576884375033375, pvalue=4.558085582542905e-30)\n",
      "Spearman r SignificanceResult(statistic=0.8469290437892343, pvalue=1.234479451355308e-28)\n"
     ]
    }
   ],
   "execution_count": 19
  },
  {
   "cell_type": "code",
   "id": "45979e06-36eb-4f6d-8261-41fabcd03c29",
   "metadata": {
    "ExecuteTime": {
     "end_time": "2025-06-12T21:31:41.958920Z",
     "start_time": "2025-06-12T21:31:41.909514Z"
    }
   },
   "source": [
    "reload(ut)\n",
    "analyze_author_info(model_new_res_dir, md_df)"
   ],
   "outputs": [
    {
     "name": "stdout",
     "output_type": "stream",
     "text": [
      "0001_claude-sonnet-4-20250514.json\tJosé Juan Tablada\tAugusto E. Madan\t0\t19\t19\t1\t0\n",
      "0002_claude-sonnet-4-20250514.json\tFrancisco de Quevedo\tJuan de Arguijo\t0\t17\t19\t0\t2\n",
      "0003_claude-sonnet-4-20250514.json\tBlas de Otero\tJon Juaristi\t0\t20\t20\t1\t0\n",
      "0004_claude-sonnet-4-20250514.json\tFrancisco de Quevedo\tMiguel de Cervantes\t0\t17\t19\t0\t2\n",
      "0005_claude-sonnet-4-20250514.json\tRubén Darío\tAugusto E. Madan\t0\t19\t19\t1\t0\n",
      "0006_claude-sonnet-4-20250514.json\tFrancisco de Quevedo\tFrancisco de Quevedo\t1\t17\t16\t0\t1\n",
      "0007_claude-sonnet-4-20250514.json\tLuis de Góngora y Argote\tMiguel de Cervantes\t0\t16\t16\t1\t0\n",
      "0008_claude-sonnet-4-20250514.json\tLuis García Montero\tJon Juaristi\t0\t20\t20\t1\t0\n",
      "0009_claude-sonnet-4-20250514.json\tJulio Herrera y Reissig\tManuel Bernabé\t0\t19\t19\t1\t0\n",
      "0010_claude-sonnet-4-20250514.json\tFrancisco de Quevedo y Villegas\tMelchor Jufré del Águila\t0\t17\t19\t0\t2\n",
      "0011_claude-sonnet-4-20250514.json\tÁngel González\tJon Juaristi\t0\t20\t20\t1\t0\n",
      "0012_claude-sonnet-4-20250514.json\tSor Juana Inés de la Cruz\tMatías Frigola y Picón\t0\t17\t17\t1\t0\n",
      "0013_claude-sonnet-4-20250514.json\tJosé Zorrilla y Moral\tBlas Sirvent\t0\t19\t19\t1\t0\n",
      "0014_claude-sonnet-4-20250514.json\tRamón de Campoamor\tBlas Sirvent\t0\t19\t19\t1\t0\n",
      "0015_claude-sonnet-4-20250514.json\tRamón de Campoamor\tMariano Álvarez Robles\t0\t19\t19\t1\t0\n",
      "0016_claude-sonnet-4-20250514.json\tJosé Joaquín Fernández de Lizardi\tManuel Bretón de los Herreros\t0\t18\t19\t0\t1\n",
      "0017_claude-sonnet-4-20250514.json\tJosé Zorrilla y Moral\tWenceslao Ayguals de Izco\t0\t19\t19\t1\t0\n",
      "0018_claude-sonnet-4-20250514.json\tFrancisco de Quevedo\tMiguel Agustín Príncipe\t0\t17\t19\t0\t2\n",
      "0019_claude-sonnet-4-20250514.json\tMariano José de Larra\tAnónimo\t0\t19\t19\t1\t0\n",
      "0020_claude-sonnet-4-20250514.json\tFrancisco de Quevedo y Villegas\tJuan Martínez Villergas\t0\t17\t19\t0\t2\n",
      "0021_claude-sonnet-4-20250514.json\tRamón de Campoamor\tManuel del Palacio\t0\t19\t19\t1\t0\n",
      "0022_claude-sonnet-4-20250514.json\tRamón de Campoamor\tEnrique Sierra Valenzuela\t0\t19\t19\t1\t0\n",
      "0023_claude-sonnet-4-20250514.json\tSalvador Rueda\tMiguel Ramos Carrión\t0\t19\t19\t1\t0\n",
      "0024_claude-sonnet-4-20250514.json\tRamón de Campoamor\tJosé Campo Moreno\t0\t19\t19\t1\t0\n",
      "0025_claude-sonnet-4-20250514.json\tGloria Fuertes\tJoaquín Sabina\t0\t20\t20\t1\t0\n",
      "0026_claude-sonnet-4-20250514.json\tLuis de Góngora y Argote\tCamila Lucinda\t0\t16\t16\t1\t0\n",
      "0027_claude-sonnet-4-20250514.json\tJosé Francisco de Isla\tJosé Francisco de Isla, «Padre Isla»\t0\t18\t18\t1\t0\n",
      "0028_claude-sonnet-4-20250514.json\tAmado Nervo\tEmilio Mora\t0\t19\t19\t1\t0\n",
      "0029_claude-sonnet-4-20250514.json\tGertrudis Gómez de Avellaneda\tManuel del Palacio\t0\t19\t19\t1\t0\n",
      "0030_claude-sonnet-4-20250514.json\tFrancisco de Quevedo\tJuan Meléndez Valdés\t0\t17\t18\t0\t1\n",
      "0031_claude-sonnet-4-20250514.json\tGutierre de Cetina\tJuan Meléndez Valdés\t0\t16\t18\t0\t2\n",
      "0032_claude-sonnet-4-20250514.json\tRubén Darío\tJulián del Casal\t0\t19\t19\t1\t0\n",
      "0033_claude-sonnet-4-20250514.json\tAgustín Moreto y Cavana\tLuis Vélez de Guevara\t0\t17\t16\t0\t1\n",
      "0034_claude-sonnet-4-20250514.json\tGarcilaso de la Vega\tFrancisco de Figueroa\t0\t16\t16\t1\t0\n",
      "0035_claude-sonnet-4-20250514.json\tBartolomé Cairasco de Figueroa\tCarlos de la Coba Machicao\t0\t16\t16\t1\t0\n",
      "0036_claude-sonnet-4-20250514.json\tGarcilaso de la Vega\tFrancisco de Terrazas\t0\t16\t16\t1\t0\n",
      "0037_claude-sonnet-4-20250514.json\tGustavo Adolfo Bécquer\tArturo Reyes\t0\t19\t19\t1\t0\n",
      "0038_claude-sonnet-4-20250514.json\tGertrudis Gómez de Avellaneda\tNicolás Arnao\t0\t19\t19\t1\t0\n",
      "0039_claude-sonnet-4-20250514.json\tLope de Vega\tJuan Bautista de Mesa\t0\t16\t17\t0\t1\n",
      "0040_claude-sonnet-4-20250514.json\tGabriel y Galán, José María\tFrancisco Javier Ugarte y Pages\t0\t19\t19\t1\t0\n",
      "0041_claude-sonnet-4-20250514.json\tJosé Asunción Silva\tMercedes Matamoros\t0\t19\t19\t1\t0\n",
      "0042_claude-sonnet-4-20250514.json\tGabriela Mistral\tJulio Herrera y Reissig\t0\t20\t19\t0\t1\n",
      "0043_claude-sonnet-4-20250514.json\tFrancisco de Quevedo\tSimón Villalobos Benavides y Calatayud\t0\t17\t17\t1\t0\n",
      "0044_claude-sonnet-4-20250514.json\tLeopoldo Lugones\tManuel José Othón\t0\t19\t19\t1\t0\n",
      "0045_claude-sonnet-4-20250514.json\tJosé Asunción Silva\tManuel José Othón\t0\t19\t19\t1\t0\n",
      "0046_claude-sonnet-4-20250514.json\tAmado Nervo\tJosé Selgas y Carrasco\t0\t19\t19\t1\t0\n",
      "0047_claude-sonnet-4-20250514.json\tManuel Acuña\tJacinto Verdaguer\t0\t19\t19\t1\t0\n",
      "0048_claude-sonnet-4-20250514.json\tGustavo Adolfo Bécquer\tJosé Gonzalo Roldán\t0\t19\t19\t1\t0\n",
      "0049_claude-sonnet-4-20250514.json\tRubén Darío\tRubén Darío\t1\t19\t19\t1\t0\n",
      "0050_claude-sonnet-4-20250514.json\tRubén Darío\tRubén Darío\t1\t19\t19\t1\t0\n",
      "0051_claude-sonnet-4-20250514.json\tRamón de Campoamor\tManuel del Palacio\t0\t19\t19\t1\t0\n",
      "0052_claude-sonnet-4-20250514.json\tRamón de Campoamor\tManuel del Palacio\t0\t19\t19\t1\t0\n",
      "0053_claude-sonnet-4-20250514.json\tRamón de Campoamor\tManuel del Palacio\t0\t19\t19\t1\t0\n",
      "0054_claude-sonnet-4-20250514.json\tLope de Vega\tManuel del Palacio\t0\t16\t19\t0\t3\n",
      "0055_claude-sonnet-4-20250514.json\tNicolás Fernández de Moratín\tManuel del Palacio\t0\t18\t19\t0\t1\n",
      "0056_claude-sonnet-4-20250514.json\tManuel Acuña\tManuel del Palacio\t0\t19\t19\t1\t0\n",
      "0057_claude-sonnet-4-20250514.json\tRamón de Campoamor\tManuel del Palacio\t0\t19\t19\t1\t0\n",
      "0058_claude-sonnet-4-20250514.json\tRamón de Campoamor\tManuel del Palacio\t0\t19\t19\t1\t0\n",
      "0059_claude-sonnet-4-20250514.json\tRamón de Campoamor\tManuel del Palacio\t0\t19\t19\t1\t0\n",
      "0060_claude-sonnet-4-20250514.json\tRamón de Campoamor\tManuel del Palacio\t0\t19\t19\t1\t0\n",
      "0061_claude-sonnet-4-20250514.json\tRamón de Campoamor\tManuel del Palacio\t0\t19\t19\t1\t0\n",
      "0062_claude-sonnet-4-20250514.json\tRamón de Campoamor\tManuel del Palacio\t0\t19\t19\t1\t0\n",
      "0063_claude-sonnet-4-20250514.json\tRamón de Campoamor\tManuel del Palacio\t0\t19\t19\t1\t0\n",
      "0064_claude-sonnet-4-20250514.json\tRamón de Campoamor\tManuel del Palacio\t0\t19\t19\t1\t0\n",
      "0065_claude-sonnet-4-20250514.json\tBaltasar del Alcázar\tManuel del Palacio\t0\t16\t19\t0\t3\n",
      "0066_claude-sonnet-4-20250514.json\tRubén Darío\tManuel del Palacio\t0\t19\t19\t1\t0\n",
      "0067_claude-sonnet-4-20250514.json\tManuel Acuña\tManuel del Palacio\t0\t19\t19\t1\t0\n",
      "0068_claude-sonnet-4-20250514.json\tRamón de Campoamor\tManuel del Palacio\t0\t19\t19\t1\t0\n",
      "0069_claude-sonnet-4-20250514.json\tFrancisco de Quevedo y Villegas\tJuan de Tassis y Peralta, Conde de Villamediana\t0\t17\t16\t0\t1\n",
      "0070_claude-sonnet-4-20250514.json\tFrancisco de Quevedo\tJuan de Tassis y Peralta, Conde de Villamediana\t0\t17\t16\t0\t1\n",
      "0071_claude-sonnet-4-20250514.json\tFrancisco de Quevedo\tJuan de Tassis y Peralta, Conde de Villamediana\t0\t17\t16\t0\t1\n",
      "0072_claude-sonnet-4-20250514.json\tFrancisco de Quevedo\tJuan de Tassis y Peralta, Conde de Villamediana\t0\t17\t16\t0\t1\n",
      "0073_claude-sonnet-4-20250514.json\tFrancisco de Quevedo\tJuan de Tassis y Peralta, Conde de Villamediana\t0\t17\t16\t0\t1\n",
      "0074_claude-sonnet-4-20250514.json\tFrancisco de Quevedo y Villegas\tJuan de Tassis y Peralta, Conde de Villamediana\t0\t17\t16\t0\t1\n",
      "0075_claude-sonnet-4-20250514.json\tFrancisco de Quevedo\tJuan de Tassis y Peralta, Conde de Villamediana\t0\t17\t16\t0\t1\n",
      "0076_claude-sonnet-4-20250514.json\tFrancisco de Quevedo\tJuan de Tassis y Peralta, Conde de Villamediana\t0\t17\t16\t0\t1\n",
      "0077_claude-sonnet-4-20250514.json\tAmado Nervo\tManuel Bernabé\t0\t19\t19\t1\t0\n",
      "0078_claude-sonnet-4-20250514.json\tJesús Balmori\tManuel Bernabé\t0\t20\t19\t0\t1\n",
      "0079_claude-sonnet-4-20250514.json\tLuis de Góngora y Argote\tJuan Francisco Andrés\t0\t16\t17\t0\t1\n",
      "0080_claude-sonnet-4-20250514.json\tSor Juana Inés de la Cruz\tFrancisco de Sigüenza\t0\t17\t17\t1\t0\n",
      "0081_claude-sonnet-4-20250514.json\tLope de Vega\tJuan Francisco de Prado\t0\t16\t17\t0\t1\n",
      "0082_claude-sonnet-4-20250514.json\tRicardo Palma\tJosé Joaquín Olmedo\t0\t19\t18\t0\t1\n",
      "0083_claude-sonnet-4-20250514.json\tFrancisco de Quevedo\tAntonio Ros de Olano\t0\t17\t19\t0\t2\n",
      "0084_claude-sonnet-4-20250514.json\tJulián del Casal\tRosario («Crisantema») Sansores\t0\t19\t19\t1\t0\n",
      "0085_claude-sonnet-4-20250514.json\tÍñigo López de Mendoza, Marqués de Santillana\tMarqués de Santillana\t0\t15\t14\t0\t1\n",
      "0086_claude-sonnet-4-20250514.json\tGarcilaso de la Vega\tFrancisco de Terrazas\t0\t16\t16\t1\t0\n",
      "0087_claude-sonnet-4-20250514.json\tLuis de Góngora y Argote\tPedro de Quirós\t0\t16\t16\t1\t0\n",
      "0088_claude-sonnet-4-20250514.json\tLope de Vega\tMelchor Palau y Català\t0\t16\t19\t0\t3\n",
      "0089_claude-sonnet-4-20250514.json\tFrancisco de Quevedo\tLuis Martín de la Plaza\t0\t17\t16\t0\t1\n",
      "0090_claude-sonnet-4-20250514.json\tRamón López Velarde\tManuel Gutiérrez Nájera\t0\t20\t19\t0\t1\n",
      "0091_claude-sonnet-4-20250514.json\tFrancisco de Quevedo\tJerónimo de Lomas Cantoral\t0\t17\t16\t0\t1\n",
      "0092_claude-sonnet-4-20250514.json\tSor Juana Inés de la Cruz\tJuan de San Martín\t0\t17\t17\t1\t0\n",
      "0093_claude-sonnet-4-20250514.json\tFrancisco de Quevedo\tLuis Barahona de Soto\t0\t17\t16\t0\t1\n",
      "0094_claude-sonnet-4-20250514.json\tAmado Nervo\tManuel Reina\t0\t19\t19\t1\t0\n",
      "0095_claude-sonnet-4-20250514.json\tAlfonsina Storni\tConcepción Robles\t0\t20\t19\t0\t1\n",
      "0096_claude-sonnet-4-20250514.json\tEnrique González Martínez\tNuma Pompilio Llona\t0\t20\t19\t0\t1\n",
      "0097_claude-sonnet-4-20250514.json\tAmado Nervo\tJulio Flores Roa\t0\t19\t19\t1\t0\n",
      "0098_claude-sonnet-4-20250514.json\tManuel Acuña\tMercedes de Velilla Rodríguez\t0\t19\t19\t1\t0\n",
      "0099_claude-sonnet-4-20250514.json\tJulián del Casal\tFernando Maristany\t0\t19\t19\t1\t0\n",
      "0100_claude-sonnet-4-20250514.json\tRubén Darío\tEsther Lucila Vázquez\t0\t19\t19\t1\t0\n",
      "Total author matches: 3 (3.0%)\n",
      "Total century matches: 64 (64.0%)\n",
      "Mean century difference: 0.49 (0.7549172140042906)\n",
      "Pearson r PearsonRResult(statistic=0.7717498491941099, pvalue=5.606625911699171e-21)\n",
      "Spearman r SignificanceResult(statistic=0.775660909498044, pvalue=2.6650252718494007e-21)\n"
     ]
    }
   ],
   "execution_count": 20
  },
  {
   "metadata": {},
   "cell_type": "markdown",
   "source": [
    "## Run 6 with claude-3-5-sonnet-latest\n",
    "\n",
    "This was done to reverify if it really identifies ca. 15 authors correctly (as happened in previous run where this was evaluated)"
   ],
   "id": "ca24dfee3cdcf7e1"
  },
  {
   "metadata": {
    "ExecuteTime": {
     "end_time": "2025-06-12T21:56:04.592719Z",
     "start_time": "2025-06-12T21:56:04.542770Z"
    }
   },
   "cell_type": "code",
   "source": [
    "model_run6 = \"claude-3-5-sonnet-latest-run-6\"\n",
    "model_run6_res_dir = os.path.join(cf.response_dir, f\"claude/{model_run6}\")\n",
    "res_run6 = eval_res(model_run6_res_dir, model_run6)\n",
    "print(res_run6[\"cr\"])"
   ],
   "id": "84fb22666ce5e77b",
   "outputs": [
    {
     "name": "stdout",
     "output_type": "stream",
     "text": [
      "lensys 100 lenref 100\n"
     ]
    },
    {
     "data": {
      "text/plain": [
       "<Figure size 600x600 with 1 Axes>"
      ],
      "image/png": "[encoded data removed]"
     },
     "metadata": {},
     "output_type": "display_data"
    },
    {
     "name": "stdout",
     "output_type": "stream",
     "text": [
      "              precision    recall  f1-score   support\n",
      "\n",
      "       comic       1.00      0.90      0.95        50\n",
      "       other       0.91      1.00      0.95        50\n",
      "\n",
      "    accuracy                           0.95       100\n",
      "   macro avg       0.95      0.95      0.95       100\n",
      "weighted avg       0.95      0.95      0.95       100\n",
      "\n"
     ]
    }
   ],
   "execution_count": 25
  },
  {
   "metadata": {
    "ExecuteTime": {
     "end_time": "2025-06-12T21:56:26.390961Z",
     "start_time": "2025-06-12T21:56:26.376102Z"
    }
   },
   "cell_type": "code",
   "source": [
    "bad_idx6, bad_centuries6, bad_authors6 = get_error_case_idx_and_metadata(res_run6, md_df)\n",
    "analyze_results(res_4o, model_run6_res_dir, ana_dir, bad_idx4, md_df, \"claude-3-5-sonnet-latest-run-6\")"
   ],
   "id": "ac5a23d42bebe0e8",
   "outputs": [
    {
     "name": "stdout",
     "output_type": "stream",
     "text": [
      "idx\trr\tsr\tcentury\tauthor\ttitle\n",
      "10\tcomic\tother\t19\tMelchor Jufré del Águila\tSONETO\n",
      "11\tcomic\tother\t20\tJon Juaristi\tA Vinogrado, avinagrado\n",
      "23\tcomic\tother\t19\tMiguel Ramos Carrión\tEl botijo\n",
      "54\tcomic\tother\t19\tManuel del Palacio\tEl mayor dolor\n",
      "67\tcomic\tother\t19\tManuel del Palacio\tA un pobre rico\n"
     ]
    }
   ],
   "execution_count": 26
  },
  {
   "metadata": {
    "ExecuteTime": {
     "end_time": "2025-06-12T21:56:35.105734Z",
     "start_time": "2025-06-12T21:56:35.073017Z"
    }
   },
   "cell_type": "code",
   "source": [
    "reload(ut)\n",
    "analyze_author_info(model_run6_res_dir, md_df)"
   ],
   "id": "eea95f0384d75068",
   "outputs": [
    {
     "name": "stdout",
     "output_type": "stream",
     "text": [
      "  - Warning: unknown century for Desconocido in author_0084_claude-3-5-sonnet-latest.json, assign 19\n",
      "0001_claude-3-5-sonnet-latest.json\tLeopoldo Díaz\tAugusto E. Madan\t0\t19\t19\t1\t0\n",
      "0002_claude-3-5-sonnet-latest.json\tFrancisco de Quevedo\tJuan de Arguijo\t0\t17\t19\t0\t2\n",
      "0003_claude-3-5-sonnet-latest.json\tBlas de Otero\tJon Juaristi\t0\t20\t20\t1\t0\n",
      "0004_claude-3-5-sonnet-latest.json\tLuis de Góngora\tMiguel de Cervantes\t0\t17\t19\t0\t2\n",
      "0005_claude-3-5-sonnet-latest.json\tJuan José Tablada\tAugusto E. Madan\t0\t20\t19\t0\t1\n",
      "0006_claude-3-5-sonnet-latest.json\tFrancisco de Quevedo\tFrancisco de Quevedo\t1\t17\t16\t0\t1\n",
      "0007_claude-3-5-sonnet-latest.json\tFélix Lope de Vega\tMiguel de Cervantes\t0\t16\t16\t1\t0\n",
      "0008_claude-3-5-sonnet-latest.json\tFrancisco Javier Irazoki\tJon Juaristi\t0\t20\t20\t1\t0\n",
      "0009_claude-3-5-sonnet-latest.json\tJulio Herrera y Reissig\tManuel Bernabé\t0\t19\t19\t1\t0\n",
      "0010_claude-3-5-sonnet-latest.json\tFrancisco de Quevedo\tMelchor Jufré del Águila\t0\t17\t19\t0\t2\n",
      "0011_claude-3-5-sonnet-latest.json\tDámaso Alonso\tJon Juaristi\t0\t20\t20\t1\t0\n",
      "0012_claude-3-5-sonnet-latest.json\tLuis de Góngora y Argote\tMatías Frigola y Picón\t0\t17\t17\t1\t0\n",
      "0013_claude-3-5-sonnet-latest.json\tJosé Selgas Carrasco\tBlas Sirvent\t0\t19\t19\t1\t0\n",
      "0014_claude-3-5-sonnet-latest.json\tJosé Joaquín de Mora\tBlas Sirvent\t0\t19\t19\t1\t0\n",
      "0015_claude-3-5-sonnet-latest.json\tJuan Martínez Villergas\tMariano Álvarez Robles\t0\t19\t19\t1\t0\n",
      "0016_claude-3-5-sonnet-latest.json\tManuel Bretón de los Herreros\tManuel Bretón de los Herreros\t1\t19\t19\t1\t0\n",
      "0017_claude-3-5-sonnet-latest.json\tJuan Martínez Villergas\tWenceslao Ayguals de Izco\t0\t19\t19\t1\t0\n",
      "0018_claude-3-5-sonnet-latest.json\tJosé María Blanco White\tMiguel Agustín Príncipe\t0\t19\t19\t1\t0\n",
      "0019_claude-3-5-sonnet-latest.json\tPablo de Jérica y Corta\tAnónimo\t0\t19\t19\t1\t0\n",
      "0020_claude-3-5-sonnet-latest.json\tManuel Bretón de los Herreros\tJuan Martínez Villergas\t0\t19\t19\t1\t0\n",
      "0021_claude-3-5-sonnet-latest.json\tManuel del Palacio\tManuel del Palacio\t1\t19\t19\t1\t0\n",
      "0022_claude-3-5-sonnet-latest.json\tJuan Nicasio Gallego\tEnrique Sierra Valenzuela\t0\t19\t19\t1\t0\n",
      "0023_claude-3-5-sonnet-latest.json\tManuel Machado\tMiguel Ramos Carrión\t0\t20\t19\t0\t1\n",
      "0024_claude-3-5-sonnet-latest.json\tJuan Pérez Zúñiga\tJosé Campo Moreno\t0\t19\t19\t1\t0\n",
      "0025_claude-3-5-sonnet-latest.json\tFrancisco Díaz Velázquez\tJoaquín Sabina\t0\t20\t20\t1\t0\n",
      "0026_claude-3-5-sonnet-latest.json\tFélix Lope de Vega y Carpio\tCamila Lucinda\t0\t17\t16\t0\t1\n",
      "0027_claude-3-5-sonnet-latest.json\tJosé Francisco de Isla\tJosé Francisco de Isla, «Padre Isla»\t0\t18\t18\t1\t0\n",
      "0028_claude-3-5-sonnet-latest.json\tManuel Acuña\tEmilio Mora\t0\t19\t19\t1\t0\n",
      "0029_claude-3-5-sonnet-latest.json\tCarolina Coronado\tManuel del Palacio\t0\t19\t19\t1\t0\n",
      "0030_claude-3-5-sonnet-latest.json\tJuan Nicasio Gallego\tJuan Meléndez Valdés\t0\t19\t18\t0\t1\n",
      "0031_claude-3-5-sonnet-latest.json\tLuis de Soto\tJuan Meléndez Valdés\t0\t16\t18\t0\t2\n",
      "0032_claude-3-5-sonnet-latest.json\tFrancisco Villaespesa\tJulián del Casal\t0\t19\t19\t1\t0\n",
      "0033_claude-3-5-sonnet-latest.json\tMaría Gertrudis Hore\tLuis Vélez de Guevara\t0\t18\t16\t0\t2\n",
      "0034_claude-3-5-sonnet-latest.json\tGutierre de Cetina\tFrancisco de Figueroa\t0\t16\t16\t1\t0\n",
      "0035_claude-3-5-sonnet-latest.json\tBartolomé Cairasco de Figueroa\tCarlos de la Coba Machicao\t0\t16\t16\t1\t0\n",
      "0036_claude-3-5-sonnet-latest.json\tDiego Hurtado de Mendoza\tFrancisco de Terrazas\t0\t16\t16\t1\t0\n",
      "0037_claude-3-5-sonnet-latest.json\tManuel Acuña Narro\tArturo Reyes\t0\t19\t19\t1\t0\n",
      "0038_claude-3-5-sonnet-latest.json\tTeresa de la Parra\tNicolás Arnao\t0\t20\t19\t0\t1\n",
      "0039_claude-3-5-sonnet-latest.json\tFrancisco de Quevedo\tJuan Bautista de Mesa\t0\t17\t17\t1\t0\n",
      "0040_claude-3-5-sonnet-latest.json\tFederico Balart\tFrancisco Javier Ugarte y Pages\t0\t19\t19\t1\t0\n",
      "0041_claude-3-5-sonnet-latest.json\tJosé Santos Chocano\tMercedes Matamoros\t0\t19\t19\t1\t0\n",
      "0042_claude-3-5-sonnet-latest.json\tRamón López Velarde\tJulio Herrera y Reissig\t0\t20\t19\t0\t1\n",
      "0043_claude-3-5-sonnet-latest.json\tPedro Calderón de la Barca\tSimón Villalobos Benavides y Calatayud\t0\t17\t17\t1\t0\n",
      "0044_claude-3-5-sonnet-latest.json\tManuel José Othón\tManuel José Othón\t1\t19\t19\t1\t0\n",
      "0045_claude-3-5-sonnet-latest.json\tJosé Santos Chocano\tManuel José Othón\t0\t19\t19\t1\t0\n",
      "0046_claude-3-5-sonnet-latest.json\tManuel del Palacio\tJosé Selgas y Carrasco\t0\t19\t19\t1\t0\n",
      "0047_claude-3-5-sonnet-latest.json\tJosé Santos Chocano\tJacinto Verdaguer\t0\t19\t19\t1\t0\n",
      "0048_claude-3-5-sonnet-latest.json\tJosé Joaquín de Olmedo\tJosé Gonzalo Roldán\t0\t19\t19\t1\t0\n",
      "0049_claude-3-5-sonnet-latest.json\tRubén Darío\tRubén Darío\t1\t19\t19\t1\t0\n",
      "0050_claude-3-5-sonnet-latest.json\tRubén Darío\tRubén Darío\t1\t19\t19\t1\t0\n",
      "0051_claude-3-5-sonnet-latest.json\tManuel del Palacio\tManuel del Palacio\t1\t19\t19\t1\t0\n",
      "0052_claude-3-5-sonnet-latest.json\tManuel del Palacio\tManuel del Palacio\t1\t19\t19\t1\t0\n",
      "0053_claude-3-5-sonnet-latest.json\tManuel Gutiérrez Nájera\tManuel del Palacio\t0\t19\t19\t1\t0\n",
      "0054_claude-3-5-sonnet-latest.json\tManuel Bretón de los Herreros\tManuel del Palacio\t0\t19\t19\t1\t0\n",
      "0055_claude-3-5-sonnet-latest.json\tJuan Eugenio Hartzenbusch\tManuel del Palacio\t0\t19\t19\t1\t0\n",
      "0056_claude-3-5-sonnet-latest.json\tManuel del Palacio\tManuel del Palacio\t1\t19\t19\t1\t0\n",
      "0057_claude-3-5-sonnet-latest.json\tManuel del Palacio\tManuel del Palacio\t1\t19\t19\t1\t0\n",
      "0058_claude-3-5-sonnet-latest.json\tManuel Bretón de los Herreros\tManuel del Palacio\t0\t19\t19\t1\t0\n",
      "0059_claude-3-5-sonnet-latest.json\tManuel Bretón de los Herreros\tManuel del Palacio\t0\t19\t19\t1\t0\n",
      "0060_claude-3-5-sonnet-latest.json\tManuel del Palacio\tManuel del Palacio\t1\t19\t19\t1\t0\n",
      "0061_claude-3-5-sonnet-latest.json\tManuel del Palacio\tManuel del Palacio\t1\t19\t19\t1\t0\n",
      "0062_claude-3-5-sonnet-latest.json\tManuel del Palacio\tManuel del Palacio\t1\t19\t19\t1\t0\n",
      "0063_claude-3-5-sonnet-latest.json\tJosé Joaquín Fernández de Lizardi\tManuel del Palacio\t0\t18\t19\t0\t1\n",
      "0064_claude-3-5-sonnet-latest.json\tManuel del Palacio\tManuel del Palacio\t1\t19\t19\t1\t0\n",
      "0065_claude-3-5-sonnet-latest.json\tManuel Bretón de los Herreros\tManuel del Palacio\t0\t19\t19\t1\t0\n",
      "0066_claude-3-5-sonnet-latest.json\tLuis de Góngora\tManuel del Palacio\t0\t17\t19\t0\t2\n",
      "0067_claude-3-5-sonnet-latest.json\tJosé Asunción Silva\tManuel del Palacio\t0\t19\t19\t1\t0\n",
      "0068_claude-3-5-sonnet-latest.json\tManuel del Palacio\tManuel del Palacio\t1\t19\t19\t1\t0\n",
      "0069_claude-3-5-sonnet-latest.json\tMiguel de Cervantes Saavedra\tJuan de Tassis y Peralta, Conde de Villamediana\t0\t16\t16\t1\t0\n",
      "0070_claude-3-5-sonnet-latest.json\tFrancisco de Quevedo\tJuan de Tassis y Peralta, Conde de Villamediana\t0\t17\t16\t0\t1\n",
      "0071_claude-3-5-sonnet-latest.json\tFrancisco de Quevedo\tJuan de Tassis y Peralta, Conde de Villamediana\t0\t17\t16\t0\t1\n",
      "0072_claude-3-5-sonnet-latest.json\tFrancisco de Quevedo\tJuan de Tassis y Peralta, Conde de Villamediana\t0\t17\t16\t0\t1\n",
      "0073_claude-3-5-sonnet-latest.json\tFrancisco de Quevedo\tJuan de Tassis y Peralta, Conde de Villamediana\t0\t17\t16\t0\t1\n",
      "0074_claude-3-5-sonnet-latest.json\tFrancisco de Quevedo\tJuan de Tassis y Peralta, Conde de Villamediana\t0\t17\t16\t0\t1\n",
      "0075_claude-3-5-sonnet-latest.json\tFrancisco de Quevedo\tJuan de Tassis y Peralta, Conde de Villamediana\t0\t17\t16\t0\t1\n",
      "0076_claude-3-5-sonnet-latest.json\tFrancisco de Quevedo\tJuan de Tassis y Peralta, Conde de Villamediana\t0\t17\t16\t0\t1\n",
      "0077_claude-3-5-sonnet-latest.json\tMiguel Antonio Caro\tManuel Bernabé\t0\t19\t19\t1\t0\n",
      "0078_claude-3-5-sonnet-latest.json\tManuel Bernabé\tManuel Bernabé\t1\t20\t19\t0\t1\n",
      "0079_claude-3-5-sonnet-latest.json\tSor Juana Inés de la Cruz\tJuan Francisco Andrés\t0\t17\t17\t1\t0\n",
      "0080_claude-3-5-sonnet-latest.json\tSor Juana Inés de la Cruz\tFrancisco de Sigüenza\t0\t17\t17\t1\t0\n",
      "0081_claude-3-5-sonnet-latest.json\tFrancisco de Quevedo\tJuan Francisco de Prado\t0\t17\t17\t1\t0\n",
      "0082_claude-3-5-sonnet-latest.json\tJosé Joaquín de Olmedo\tJosé Joaquín Olmedo\t0\t19\t18\t0\t1\n",
      "0083_claude-3-5-sonnet-latest.json\tFrancisco de Quevedo\tAntonio Ros de Olano\t0\t17\t19\t0\t2\n",
      "0084_claude-3-5-sonnet-latest.json\tDesconocido\tRosario («Crisantema») Sansores\t0\t19\t19\t1\t0\n",
      "0085_claude-3-5-sonnet-latest.json\tÍñigo López de Mendoza, Marqués de Santillana\tMarqués de Santillana\t0\t15\t14\t0\t1\n",
      "0086_claude-3-5-sonnet-latest.json\tGarcilaso de la Vega\tFrancisco de Terrazas\t0\t16\t16\t1\t0\n",
      "0087_claude-3-5-sonnet-latest.json\tFrancisco de Quevedo\tPedro de Quirós\t0\t17\t16\t0\t1\n",
      "0088_claude-3-5-sonnet-latest.json\tManuel José Quintana\tMelchor Palau y Català\t0\t19\t19\t1\t0\n",
      "0089_claude-3-5-sonnet-latest.json\tHernando de Acuña\tLuis Martín de la Plaza\t0\t16\t16\t1\t0\n",
      "0090_claude-3-5-sonnet-latest.json\tDulce María Loynaz\tManuel Gutiérrez Nájera\t0\t20\t19\t0\t1\n",
      "0091_claude-3-5-sonnet-latest.json\tFrancisco de Figueroa\tJerónimo de Lomas Cantoral\t0\t16\t16\t1\t0\n",
      "0092_claude-3-5-sonnet-latest.json\tSor Juana Inés de la Cruz\tJuan de San Martín\t0\t17\t17\t1\t0\n",
      "0093_claude-3-5-sonnet-latest.json\tFernando de Herrera\tLuis Barahona de Soto\t0\t16\t16\t1\t0\n",
      "0094_claude-3-5-sonnet-latest.json\tManuel del Palacio\tManuel Reina\t0\t19\t19\t1\t0\n",
      "0095_claude-3-5-sonnet-latest.json\tJuana de Ibarbourou\tConcepción Robles\t0\t20\t19\t0\t1\n",
      "0096_claude-3-5-sonnet-latest.json\tTomás de Irarrázaval y García Huidobro\tNuma Pompilio Llona\t0\t19\t19\t1\t0\n",
      "0097_claude-3-5-sonnet-latest.json\tManuel González Prada\tJulio Flores Roa\t0\t19\t19\t1\t0\n",
      "0098_claude-3-5-sonnet-latest.json\tCarolina Coronado\tMercedes de Velilla Rodríguez\t0\t19\t19\t1\t0\n",
      "0099_claude-3-5-sonnet-latest.json\tRicardo Gil\tFernando Maristany\t0\t19\t19\t1\t0\n",
      "0100_claude-3-5-sonnet-latest.json\tSalvador Rueda\tEsther Lucila Vázquez\t0\t19\t19\t1\t0\n",
      "Total author matches: 16 (16.0%)\n",
      "Total century matches: 72 (72.0%)\n",
      "Mean century difference: 0.35 (0.6062177826491071)\n",
      "Pearson r PearsonRResult(statistic=0.8586998762736321, pvalue=3.2967263924066674e-30)\n",
      "Spearman r SignificanceResult(statistic=0.840451237239619, pvalue=7.979749009680605e-28)\n"
     ]
    }
   ],
   "execution_count": 27
  }
 ],
 "metadata": {
  "kernelspec": {
   "display_name": "Python 3 (ipykernel)",
   "language": "python",
   "name": "python3"
  },
  "language_info": {
   "codemirror_mode": {
    "name": "ipython",
    "version": 3
   },
   "file_extension": ".py",
   "mimetype": "text/x-python",
   "name": "python",
   "nbconvert_exporter": "python",
   "pygments_lexer": "ipython3",
   "version": "3.12.3"
  }
 },
 "nbformat": 4,
 "nbformat_minor": 5
}
