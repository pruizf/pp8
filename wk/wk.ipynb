{
 "cells": [
  {
   "metadata": {
    "ExecuteTime": {
     "end_time": "2025-06-10T08:41:00.388993Z",
     "start_time": "2025-06-10T08:41:00.384663Z"
    }
   },
   "cell_type": "code",
   "source": [
    "from pathlib import Path\n",
    "import json\n",
    "import numpy as np\n",
    "import re"
   ],
   "id": "24965a0d6d736a7",
   "outputs": [],
   "execution_count": 19
  },
  {
   "cell_type": "code",
   "id": "initial_id",
   "metadata": {
    "collapsed": true,
    "ExecuteTime": {
     "end_time": "2025-06-10T08:41:02.340382Z",
     "start_time": "2025-06-10T08:41:02.335041Z"
    }
   },
   "source": [
    "def get_mean_length_for_dir(indir):    \n",
    "    indir = Path(indir)\n",
    "    files = list(indir.glob(\"humor_*.json\"))\n",
    "    \n",
    "    lens = []\n",
    "\n",
    "    for fname in files:\n",
    "        with open(fname, \"r\") as f:\n",
    "            data = json.load(f)\n",
    "            lens.append(len(data[\"reason\"].split(\" \")))\n",
    "    return np.mean(np.array(lens)), np.std(np.array(lens)), np.min(np.array(lens)), np.max(np.array(lens))\n"
   ],
   "outputs": [],
   "execution_count": 20
  },
  {
   "metadata": {
    "ExecuteTime": {
     "end_time": "2025-06-10T08:41:04.213140Z",
     "start_time": "2025-06-10T08:41:04.181695Z"
    }
   },
   "cell_type": "code",
   "source": [
    "model_names = [\"gpt-4o\", \"gpt-4o-mini\", \"gpt-35-turbo\", \"mistral-large-latest\", \"mistral-small\"]\n",
    "for model_name in model_names:\n",
    "    provider = re.search(\"^([^-]+)-\", model_name).group(1)\n",
    "    mean, std, min_len, max_len = get_mean_length_for_dir(f\"/mnt/storage_temp/restic_restore/C/Users/PC/bp2/__last_week/p/o/pp8_mine/pp8_humor_repo/outputs/model_responses/{provider}/{model_name}\")\n",
    "    print(f\"{model_name}: mean={mean:.2f}, std={std:.2f}, min={min_len}, max={max_len}\")\n"
   ],
   "id": "4b2462810932d07f",
   "outputs": [
    {
     "name": "stdout",
     "output_type": "stream",
     "text": [
      "gpt-4o: mean=122.11, std=22.31, min=60, max=187\n",
      "gpt-4o-mini: mean=171.04, std=10.92, min=95, max=204\n",
      "gpt-35-turbo: mean=73.58, std=17.04, min=3, max=130\n",
      "mistral-large-latest: mean=120.72, std=23.57, min=81, max=201\n",
      "mistral-small: mean=82.09, std=18.99, min=44, max=149\n"
     ]
    }
   ],
   "execution_count": 21
  }
 ],
 "metadata": {
  "kernelspec": {
   "display_name": "Python 3",
   "language": "python",
   "name": "python3"
  },
  "language_info": {
   "codemirror_mode": {
    "name": "ipython",
    "version": 2
   },
   "file_extension": ".py",
   "mimetype": "text/x-python",
   "name": "python",
   "nbconvert_exporter": "python",
   "pygments_lexer": "ipython2",
   "version": "2.7.6"
  }
 },
 "nbformat": 4,
 "nbformat_minor": 5
}
