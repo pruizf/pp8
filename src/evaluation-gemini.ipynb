{
 "cells": [
  {
   "cell_type": "markdown",
   "id": "fd3228a7a0efe5ee",
   "metadata": {},
   "source": [
    "# Evaluation"
   ]
  },
  {
   "cell_type": "code",
   "execution_count": 1,
   "id": "39fe33c2-aafc-46f2-91ee-655a59a4d22f",
   "metadata": {
    "ExecuteTime": {
     "end_time": "2025-06-11T12:26:19.541512Z",
     "start_time": "2025-06-11T12:26:18.769472Z"
    }
   },
   "outputs": [],
   "source": [
    "from collections import Counter\n",
    "from copy import copy\n",
    "from importlib import reload\n",
    "import json\n",
    "import os\n",
    "import re\n",
    "\n",
    "import matplotlib.pyplot as plt\n",
    "import numpy as np\n",
    "import pandas as pd\n",
    "from scipy.stats import pearsonr, spearmanr\n",
    "from sklearn.metrics import accuracy_score, f1_score\n",
    "from sklearn.metrics import classification_report, ConfusionMatrixDisplay, confusion_matrix\n",
    "\n",
    "import config as cf\n",
    "import utils as ut"
   ]
  },
  {
   "cell_type": "code",
   "execution_count": 2,
   "id": "fadacde859a7f171",
   "metadata": {
    "ExecuteTime": {
     "end_time": "2025-06-10T20:36:24.579812Z",
     "start_time": "2025-06-10T20:36:24.575624Z"
    }
   },
   "outputs": [],
   "source": [
    "#TODO Label rewriting could be simplified"
   ]
  },
  {
   "cell_type": "code",
   "execution_count": 2,
   "id": "c5f34cfa6a15aa0a",
   "metadata": {
    "ExecuteTime": {
     "end_time": "2025-06-11T12:26:19.786425Z",
     "start_time": "2025-06-11T12:26:19.783042Z"
    }
   },
   "outputs": [],
   "source": [
    "for mod in cf, ut:\n",
    "  reload(mod)"
   ]
  },
  {
   "cell_type": "code",
   "execution_count": 31,
   "id": "6b48abf9dc64ac07",
   "metadata": {
    "ExecuteTime": {
     "end_time": "2025-06-11T12:26:21.898095Z",
     "start_time": "2025-06-11T12:26:21.890381Z"
    }
   },
   "outputs": [],
   "source": [
    "# IO\n",
    "res_main_dir = \"/home/ruizfabo/o/ja/23/msca/cpl_ex/06_dsm/ii_xeira_clariah_gal_poster/pp8_mine/pp8_humor_repo/outputs/model_responses/gemini\"\n",
    "md_file = cf.metadata_file\n",
    "md_df = pd.read_csv(md_file, sep=\"\\t\")\n",
    "ana_dir = cf.error_analysis_dir\n",
    "\n",
    "# color scheme for confusion matrices based on model name \n",
    "clrmap_dict = {\"gpt-4o\": \"Greens\", \"gpt-35-turbo\": \"Blues\", \"gpt-4o-mini\": \"Purples\", \"claude-3-5-haiku-latest\": \"summer\",\n",
    "               \"deepseek-chat\": \"spring\", \"mistral-large-latest\": \"Reds\", \"mistral-small\": \"Greys\", \"gemini-20-flash\": \"BuGn\",\n",
    "              \"gemini-15-pro\": \"Purples\",}"
   ]
  },
  {
   "cell_type": "code",
   "execution_count": 4,
   "id": "7542b171be221454",
   "metadata": {
    "ExecuteTime": {
     "end_time": "2025-06-11T12:26:27.146315Z",
     "start_time": "2025-06-11T12:26:27.141805Z"
    }
   },
   "outputs": [],
   "source": [
    "def plot_confusion_matrix(y_preds, y_true, labels, color_key, normalize=None):\n",
    "  cm = confusion_matrix(y_true, y_preds, normalize=normalize)\n",
    "  fig, ax = plt.subplots(figsize=(6, 6))\n",
    "  plt.grid(False)\n",
    "  font = {'family' : 'Arial',\n",
    "    'weight' : 'bold',\n",
    "    'size'   : 16}\n",
    "  plt.rc('font', **font)\n",
    "  #labels_for_fig = [l[0:4]+'.' for l in labels]\n",
    "  labels_for_fig = labels\n",
    "  disp = ConfusionMatrixDisplay(confusion_matrix=cm,\n",
    "                                display_labels=labels_for_fig)\n",
    "  #disp.plot(cmap=\"Purples\", values_format=\".2f\", ax=ax, colorbar=False)\n",
    "  if normalize:\n",
    "    disp.plot(cmap=clrmap_dict[color_key], values_format=\".2f\", ax=ax, colorbar=False)\n",
    "    norm_prefix = \"Normalized \"\n",
    "    title_text = \"confusion matrix\"\n",
    "  else:\n",
    "    disp.plot(cmap=clrmap_dict[color_key], ax=ax, colorbar=False)\n",
    "    norm_prefix = \"\"\n",
    "    title_text = \"\"\n",
    "  #disp.plot(cmap=clrmap_dict[color_key], values_format=\".2f\", ax=ax, colorbar=False)\n",
    "  plt.title(f\"{norm_prefix}{title_text}\")\n",
    "  plt.show()\n"
   ]
  },
  {
   "cell_type": "markdown",
   "id": "f137d0514e440181",
   "metadata": {},
   "source": [
    "## Binary classification"
   ]
  },
  {
   "cell_type": "code",
   "execution_count": 5,
   "id": "48f575e7c7fa7881",
   "metadata": {
    "ExecuteTime": {
     "end_time": "2025-06-11T12:26:31.005328Z",
     "start_time": "2025-06-11T12:26:30.997779Z"
    }
   },
   "outputs": [],
   "source": [
    "def eval_res(res_dir, color_mode):\n",
    "  \"\"\"\n",
    "  Evaluate humor judgement results for a directory.\n",
    "\n",
    "  Return:\n",
    "      dict\n",
    "      With keys as follows:\n",
    "          \"sys_orig\": original system results before label postprocessing\n",
    "          \"sys_res\": system results after preprocessing\n",
    "          \"ref_res\": reference results\n",
    "          \"cm\": plain text confusion matrix\n",
    "  \"\"\"\n",
    "  assert color_mode in clrmap_dict\n",
    "  sys_jmt, sys_jmt_no_postpro = ut.get_judgement_info_for_dir(res_dir)\n",
    "  sys_jmt_orig = copy(sys_jmt)\n",
    "  sys_jmt = [\"other\" if kv[1] == 'no' else \"comic\" for kv in sorted(sys_jmt.items())]\n",
    "  ref_jmt = [\"other\" if va == 0 else \"comic\" for va in md_df['comic'].tolist()]\n",
    "  print(\"lensys\", len(sys_jmt), \"lenref\", len(ref_jmt))\n",
    "  labels = [\"comic\", \"other\"]\n",
    "  classif_report = classification_report(ref_jmt, sys_jmt, target_names=labels)\n",
    "  plot_confusion_matrix(sys_jmt, ref_jmt, labels, color_mode)\n",
    "  # note: 0, 1 in the plain text cm are class indices,\n",
    "  # NOT 0 no humor and 1 humor\n",
    "  plain_cm = confusion_matrix(ref_jmt, sys_jmt, normalize=\"true\")\n",
    "  return {\"sys_orig\": sys_jmt_orig, \"sys_res_no_postpro\": sys_jmt_no_postpro,\n",
    "          \"sys_res\": sys_jmt, \"ref_res\": ref_jmt, \"cm\": plain_cm, \"cr\": classif_report}"
   ]
  },
  {
   "cell_type": "code",
   "execution_count": 6,
   "id": "cda73f9b5124d0e8",
   "metadata": {
    "ExecuteTime": {
     "end_time": "2025-06-11T12:26:56.001001Z",
     "start_time": "2025-06-11T12:26:55.995605Z"
    }
   },
   "outputs": [
    {
     "name": "stdout",
     "output_type": "stream",
     "text": [
      "Automatic pdb calling has been turned ON\n"
     ]
    }
   ],
   "source": [
    "%pdb"
   ]
  },
  {
   "cell_type": "code",
   "execution_count": 32,
   "id": "28d129361fe2aabe",
   "metadata": {
    "ExecuteTime": {
     "end_time": "2025-06-10T20:36:25.035832Z",
     "start_time": "2025-06-10T20:36:24.967045Z"
    }
   },
   "outputs": [
    {
     "name": "stdout",
     "output_type": "stream",
     "text": [
      "lensys 100 lenref 100\n"
     ]
    },
    {
     "data": {
      "image/png": "[encoded data removed]",
      "text/plain": [
       "<Figure size 600x600 with 1 Axes>"
      ]
     },
     "metadata": {},
     "output_type": "display_data"
    },
    {
     "name": "stdout",
     "output_type": "stream",
     "text": [
      "              precision    recall  f1-score   support\n",
      "\n",
      "       comic       0.95      0.80      0.87        50\n",
      "       other       0.83      0.96      0.89        50\n",
      "\n",
      "    accuracy                           0.88       100\n",
      "   macro avg       0.89      0.88      0.88       100\n",
      "weighted avg       0.89      0.88      0.88       100\n",
      "\n"
     ]
    }
   ],
   "source": [
    "model_4o = \"gemini-15-pro\"\n",
    "model_4o_res_dir = os.path.join(cf.response_dir, f\"gemini/{model_4o}\")\n",
    "res_4o = eval_res(model_4o_res_dir, model_4o)\n",
    "print(res_4o[\"cr\"])"
   ]
  },
  {
   "cell_type": "code",
   "execution_count": 9,
   "id": "121eb8cdd411b4c2",
   "metadata": {
    "ExecuteTime": {
     "end_time": "2025-06-10T20:36:25.155734Z",
     "start_time": "2025-06-10T20:36:25.149861Z"
    }
   },
   "outputs": [
    {
     "data": {
      "text/plain": [
       "100"
      ]
     },
     "execution_count": 9,
     "metadata": {},
     "output_type": "execute_result"
    }
   ],
   "source": [
    "len(res_4o[\"sys_res\"])"
   ]
  },
  {
   "cell_type": "code",
   "execution_count": 22,
   "id": "8c54d6c4aa6d1202",
   "metadata": {
    "ExecuteTime": {
     "end_time": "2025-06-11T12:27:13.361958Z",
     "start_time": "2025-06-11T12:27:10.565796Z"
    }
   },
   "outputs": [
    {
     "name": "stdout",
     "output_type": "stream",
     "text": [
      "lensys 100 lenref 100\n"
     ]
    },
    {
     "data": {
      "image/png": "[encoded data removed]",
      "text/plain": [
       "<Figure size 600x600 with 1 Axes>"
      ]
     },
     "metadata": {},
     "output_type": "display_data"
    },
    {
     "name": "stdout",
     "output_type": "stream",
     "text": [
      "              precision    recall  f1-score   support\n",
      "\n",
      "       comic       0.85      0.94      0.90        50\n",
      "       other       0.93      0.84      0.88        50\n",
      "\n",
      "    accuracy                           0.89       100\n",
      "   macro avg       0.89      0.89      0.89       100\n",
      "weighted avg       0.89      0.89      0.89       100\n",
      "\n"
     ]
    }
   ],
   "source": [
    "from importlib import reload\n",
    "reload(ut)\n",
    "model_35 = \"gemini-20-flash\"\n",
    "model_35_res_dir = os.path.join(cf.response_dir, f\"gemini/{model_35}\")\n",
    "res_35 = eval_res(model_35_res_dir, model_35)\n",
    "print(res_35[\"cr\"])"
   ]
  },
  {
   "cell_type": "markdown",
   "id": "eb01bb8fda0c4736",
   "metadata": {},
   "source": [
    "### Look at errors"
   ]
  },
  {
   "cell_type": "code",
   "execution_count": 9,
   "id": "946137e58d3785b5",
   "metadata": {
    "ExecuteTime": {
     "end_time": "2025-06-10T20:36:25.536885Z",
     "start_time": "2025-06-10T20:36:25.531051Z"
    }
   },
   "outputs": [],
   "source": [
    "def get_error_case_idx_and_metadata(res, md_df):\n",
    "  \"\"\"\n",
    "  Get the indices of the bad results and metadata like author or century.\n",
    "  Args:\n",
    "    res (dict): The results to get error cases for; `dict` format produced by `eval_res()`.\n",
    "    md_df (DataFrame): Dataframe with metadata.\n",
    "\n",
    "  Returns:\n",
    "    tuple: Lists with the indices of the bad results, the centuries of the bad results, and the authors of the bad results.\n",
    "  \"\"\"\n",
    "  bad_centuries = []\n",
    "  bad_authors = []\n",
    "  bad_idx = []\n",
    "  print(\"\\t\".join(str(x) for x in (\"idx\", \"rr\", \"sr\", \"century\", \"author\", \"title\"))) \n",
    "  for idx, (sr, rr) in enumerate(zip(res[\"sys_res\"], res[\"ref_res\"])):\n",
    "    if rr != sr:\n",
    "      century = md_df.loc[md_df['id'] == idx + 1, 'centuryBirth'].iat[0]\n",
    "      author = md_df.loc[md_df['id'] == idx + 1, 'author'].iat[0]\n",
    "      title = md_df.loc[md_df['id'] == idx + 1, 'title'].iat[0]\n",
    "      bad_centuries.append(century)\n",
    "      bad_authors.append(author)\n",
    "      bad_idx.append(idx + 1)\n",
    "      print(\"\\t\".join(str(x) for x in (idx+1, rr, sr, century, author, title)))\n",
    "  return bad_idx, bad_centuries, bad_authors"
   ]
  },
  {
   "cell_type": "code",
   "execution_count": 23,
   "id": "b81c4b7263b7de7c",
   "metadata": {
    "ExecuteTime": {
     "end_time": "2025-06-10T20:36:25.596495Z",
     "start_time": "2025-06-10T20:36:25.581082Z"
    }
   },
   "outputs": [
    {
     "name": "stdout",
     "output_type": "stream",
     "text": [
      "idx\trr\tsr\tcentury\tauthor\ttitle\n",
      "3\tcomic\tother\t20\tJon Juaristi\tPatria mía\n",
      "28\tother\tcomic\t19\tEmilio Mora\tTempestades\n",
      "37\tother\tcomic\t19\tArturo Reyes\tSoneto\n",
      "42\tother\tcomic\t19\tJulio Herrera y Reissig\tEl granjero\n",
      "50\tother\tcomic\t19\tRubén Darío\tSONETO AUTUMNAL AL MARQUÉS DE BRADOMÍN\n",
      "54\tcomic\tother\t19\tManuel del Palacio\tEl mayor dolor\n",
      "60\tcomic\tother\t19\tManuel del Palacio\tTrabajo perdido\n",
      "78\tother\tcomic\t19\tManuel Bernabé\tA LAONG - LAAN\n",
      "80\tother\tcomic\t17\tFrancisco de Sigüenza\tSoneto\n",
      "89\tother\tcomic\t16\tLuis Martín de la Plaza\tSoneto\n",
      "94\tother\tcomic\t19\tManuel Reina\tLa perla\n"
     ]
    }
   ],
   "source": [
    "bad_idx, bad_centuries, bad_authors = get_error_case_idx_and_metadata(res_35, md_df)"
   ]
  },
  {
   "cell_type": "code",
   "execution_count": 24,
   "id": "b75a2bffb026b6c9",
   "metadata": {
    "ExecuteTime": {
     "end_time": "2025-06-10T20:36:25.871674Z",
     "start_time": "2025-06-10T20:36:25.866629Z"
    }
   },
   "outputs": [
    {
     "data": {
      "text/plain": [
       "Counter({19: 8, 20: 1, 17: 1, 16: 1})"
      ]
     },
     "execution_count": 24,
     "metadata": {},
     "output_type": "execute_result"
    }
   ],
   "source": [
    "Counter(bad_centuries)"
   ]
  },
  {
   "cell_type": "code",
   "execution_count": 25,
   "id": "15dc4ffcf505736e",
   "metadata": {
    "ExecuteTime": {
     "end_time": "2025-06-10T20:36:25.971139Z",
     "start_time": "2025-06-10T20:36:25.964121Z"
    }
   },
   "outputs": [
    {
     "data": {
      "text/plain": [
       "Counter({'Manuel del Palacio': 2,\n",
       "         'Jon Juaristi': 1,\n",
       "         'Emilio Mora': 1,\n",
       "         'Arturo Reyes': 1,\n",
       "         'Julio Herrera y Reissig': 1,\n",
       "         'Rubén Darío': 1,\n",
       "         'Manuel Bernabé': 1,\n",
       "         'Francisco de Sigüenza': 1,\n",
       "         'Luis Martín de la Plaza': 1,\n",
       "         'Manuel Reina': 1})"
      ]
     },
     "execution_count": 25,
     "metadata": {},
     "output_type": "execute_result"
    }
   ],
   "source": [
    "Counter(bad_authors)"
   ]
  },
  {
   "cell_type": "code",
   "execution_count": 13,
   "id": "f2e3dc64fd04ce4b",
   "metadata": {
    "ExecuteTime": {
     "end_time": "2025-06-10T20:36:26.116649Z",
     "start_time": "2025-06-10T20:36:26.111709Z"
    }
   },
   "outputs": [],
   "source": [
    "def label_rewriter(label):\n",
    "  \"\"\"\n",
    "  Should help only for labels in output directory;\n",
    "  labels from evaluation function are already\n",
    "  restricted to those allowed in `cf.orig_labels`\n",
    "  \"\"\"\n",
    "  if label.lower() == \"no\":\n",
    "    return \"other\"\n",
    "  elif label.lower() in (\"incierto\", \"incierta\"):\n",
    "    return \"other-incierto\"\n",
    "  elif label.lower() == \"sí\":\n",
    "    return \"comic\"\n",
    "  else:\n",
    "    return label.lower()"
   ]
  },
  {
   "cell_type": "code",
   "execution_count": 26,
   "id": "fba087a8d57babe0",
   "metadata": {
    "ExecuteTime": {
     "end_time": "2025-06-10T20:36:26.225238Z",
     "start_time": "2025-06-10T20:36:26.219155Z"
    }
   },
   "outputs": [],
   "source": [
    "def analyze_results(res, model_res_dir, ana_dir, bad_idx, md_df, model_name):\n",
    "  \"\"\"\n",
    "  Analyzes the results of a model.\n",
    "  \n",
    "  Args:\n",
    "      res (dict): The results assigned to the variable (e.g., `res_35` or `res_4o`).\n",
    "      model_res_dir (str): The directory where the model results are stored (e.g., `model_35_res_dir` or `model_4o_res_dir`).\n",
    "      ana_dir (str): The directory where the analysis results will be stored.\n",
    "      bad_idx (list): The indices of the bad results.\n",
    "      md_df (DataFrame): The metadata DataFrame.\n",
    "      model_name (str): The name of the model (e.g., `gpt-35-turbo` or `gpt-4o`).\n",
    "  Returns:\n",
    "    None\n",
    "  \"\"\"\n",
    "  fname_for_bad_jmts = os.path.join(ana_dir, f\"{model_name}_bads_all\")\n",
    "  fname_for_bad_jmts_fp = os.path.join(ana_dir, f\"{model_name}_bads_fp\")\n",
    "  fname_for_bad_jmts_fn = os.path.join(ana_dir, f\"{model_name}_bads_fn\")\n",
    "  bad_model_resps = [] #TODO why needed (if)?\n",
    "  dones_for_pfx = {}\n",
    "  poem_text = \"\"\n",
    "  # open output files\n",
    "  with open(fname_for_bad_jmts, mode=\"w\") as oufi_all, \\\n",
    "      open(fname_for_bad_jmts_fp, mode=\"w\") as oufi_fp, \\\n",
    "      open(fname_for_bad_jmts_fn, mode=\"w\") as oufi_fn:\n",
    "    for example_idx, bidx in enumerate(bad_idx):\n",
    "      # get model responses for error cases\n",
    "      model_resps_for_idx = sorted([fname for fname in sorted(os.listdir(model_res_dir))\n",
    "                                    if fname.startswith(\"humor\") and str.zfill(str(bidx), 4)\n",
    "                                    in fname])\n",
    "      #TODO This looks useless, why still here?\n",
    "      bad_model_resps.extend(model_resps_for_idx[0:cf.max_choices_for_textometry])\n",
    "      # iterate over error cases\n",
    "      for mrfi in model_resps_for_idx[0:cf.max_choices_for_textometry]:\n",
    "        mrfi_pfx = re.sub(r\"_\\d\\..*$\", \"\", mrfi)\n",
    "        if mrfi_pfx not in dones_for_pfx:\n",
    "          poem_text = ut.get_poem_text_by_id(bidx)\n",
    "        # write out error info for analysis\n",
    "        with open(os.path.join(model_res_dir, mrfi), mode=\"r\") as respfi:\n",
    "          author = md_df.loc[md_df['id'] == bidx, 'author'].iat[0]\n",
    "          title = md_df.loc[md_df['id'] == bidx, 'title'].iat[0]\n",
    "          century = md_df.loc[md_df['id'] == bidx, 'centuryBirth'].iat[0]\n",
    "          txt = respfi.read()\n",
    "          jso = json.loads(txt)\n",
    "          if type(jso) is list:\n",
    "              jso = jso[0]\n",
    "          # jmt_from_outdir (directly from output dir) is to compare with eval result\n",
    "          jmt_from_outdir, reason = jso[\"judgement\"], jso[\"reason\"]\n",
    "          jmt_from_eval = res[\"sys_res\"][bidx - 1]\n",
    "          ref_res = res[\"ref_res\"][bidx - 1]\n",
    "          # keep track of how many for prefix to only output as many choices as analyzed in textometry\n",
    "          dones_for_pfx.setdefault(mrfi_pfx, 1)\n",
    "          dones_for_pfx[mrfi_pfx] += 1\n",
    "          # makes outdir labels more homogeneous with labels output by eval\n",
    "          jmt_from_outdir_rw = label_rewriter(jmt_from_outdir)\n",
    "          jmt_from_eval_rw = label_rewriter(jmt_from_eval)\n",
    "          ref_res_rw = label_rewriter(ref_res)\n",
    "          # choose output file based on error type\n",
    "          #   this is based on assumption that all results are errors\n",
    "          #   and only the two errors below are possible\n",
    "          assert jmt_from_eval_rw in (\"comic\", \"other\") and \\\n",
    "                 ref_res_rw in (\"comic\", \"other\") and \\\n",
    "                 jmt_from_eval_rw != ref_res_rw, f\" MRFI: {mrfi} jmt_from_eval_rw: [{jmt_from_eval_rw}]; ref_res_rw: [{ref_res_rw}]\"\n",
    "          if jmt_from_eval_rw == \"comic\" and ref_res_rw == \"other\":\n",
    "            oufi_partial = oufi_fp\n",
    "          elif jmt_from_eval_rw == \"other\" and ref_res_rw == \"comic\":\n",
    "            oufi_partial = oufi_fn\n",
    "          # prepare output info\n",
    "          md_for_ana = f\" {author} ~ {title} ~ {century}\"\n",
    "          # total in len(bad_idx) no good for fp and fn total, not calculated\n",
    "          logsep = \"\\n\" + f\"{'*' * 20} IDX [{bidx}] ({example_idx + 1}/{len(bad_idx)})\" + md_for_ana + \"\\n\\n\" + poem_text + \"\\n\" if \\\n",
    "          dones_for_pfx[mrfi_pfx] == cf.max_choices_for_textometry - 1 else \"\"\n",
    "          for oufi in oufi_partial, oufi_all:\n",
    "            oufi.write(\n",
    "              f\"\\n{logsep}\\nBad result for [{bidx}]\\tSysRes Choice: [{jmt_from_outdir_rw}]; *SysRes Aggregated*: [{jmt_from_eval_rw}]; REFERENCE: [{ref_res_rw}]\\n\\t{reason}\")"
   ]
  },
  {
   "cell_type": "code",
   "execution_count": 27,
   "id": "afada7506590530",
   "metadata": {
    "ExecuteTime": {
     "end_time": "2025-06-10T20:36:55.766545Z",
     "start_time": "2025-06-10T20:36:55.747659Z"
    }
   },
   "outputs": [],
   "source": [
    "# analyze results for gemini-20-flash\n",
    "analyze_results(res_35, model_35_res_dir, ana_dir, bad_idx, md_df, \"gemini-20-flash\")"
   ]
  },
  {
   "cell_type": "code",
   "execution_count": 35,
   "id": "de60e73c13143b84",
   "metadata": {
    "ExecuteTime": {
     "end_time": "2025-06-10T20:36:31.591190Z",
     "start_time": "2025-06-10T20:36:31.564511Z"
    }
   },
   "outputs": [
    {
     "name": "stdout",
     "output_type": "stream",
     "text": [
      "idx\trr\tsr\tcentury\tauthor\ttitle\n",
      "3\tcomic\tother\t20\tJon Juaristi\tPatria mía\n",
      "10\tcomic\tother\t19\tMelchor Jufré del Águila\tSONETO\n",
      "11\tcomic\tother\t20\tJon Juaristi\tA Vinogrado, avinagrado\n",
      "23\tcomic\tother\t19\tMiguel Ramos Carrión\tEl botijo\n",
      "26\tother\tcomic\t16\tCamila Lucinda\tAl peregrino\n",
      "53\tcomic\tother\t19\tManuel del Palacio\tEl amor ideal\n",
      "54\tcomic\tother\t19\tManuel del Palacio\tEl mayor dolor\n",
      "63\tcomic\tother\t19\tManuel del Palacio\tA propósito de un bailarín\n",
      "64\tcomic\tother\t19\tManuel del Palacio\tUn amigo residente en Roma\n",
      "67\tcomic\tother\t19\tManuel del Palacio\tA un pobre rico\n",
      "74\tcomic\tother\t16\tJuan de Tassis y Peralta, Conde de Villamediana\tA Jorge de Tovar\n",
      "84\tother\tcomic\t19\tRosario («Crisantema») Sansores\tLa casada\n"
     ]
    }
   ],
   "source": [
    "# analyze results for gpt-4o\n",
    "bad_idx4, bad_centuries4, bad_authors4 = get_error_case_idx_and_metadata(res_4o, md_df)\n",
    "analyze_results(res_4o, model_4o_res_dir, ana_dir, bad_idx4, md_df, \"gemini-15-pro\")"
   ]
  },
  {
   "cell_type": "markdown",
   "id": "c542b96d445d9b05",
   "metadata": {},
   "source": [
    "## Author comparison"
   ]
  },
  {
   "cell_type": "code",
   "execution_count": 28,
   "id": "66c2a98005536e50",
   "metadata": {
    "ExecuteTime": {
     "end_time": "2025-06-10T22:00:20.585963Z",
     "start_time": "2025-06-10T22:00:20.579202Z"
    }
   },
   "outputs": [],
   "source": [
    "def analyze_author_info(model_res_dir, md_df):\n",
    "  \"\"\"\n",
    "  Analyzes author information for a given model results directory.\n",
    "\n",
    "  Args:\n",
    "    model_res_dir (str): The directory where the model results are stored.\n",
    "    md_df (DataFrame): The metadata DataFrame.\n",
    "\n",
    "  Returns:\n",
    "    None\n",
    "  \"\"\"\n",
    "  ainfo = ut.get_author_info_for_dir(model_res_dir)\n",
    "  au_matches = 0\n",
    "  century_matches = 0\n",
    "  century_diffs = []\n",
    "  for ke, va in ainfo.items():\n",
    "    poem_id = re.search(r\"_(\\d+)_\", ke).group(1)\n",
    "    assert poem_id is not None\n",
    "    poem_id = int(poem_id)\n",
    "    author_ref = md_df.loc[md_df['id'] == poem_id, 'author'].iat[0]\n",
    "    century_ref = md_df.loc[md_df['id'] == poem_id, 'centuryBirth'].iat[0]\n",
    "    au_match = 1 if va[0] == author_ref else 0\n",
    "    century_match = 1 if va[1] == century_ref else 0\n",
    "    au_matches += au_match\n",
    "    century_matches += century_match\n",
    "    century_diff = abs(va[1] - century_ref)\n",
    "    century_diffs.append(century_diff)\n",
    "    print(f\"{ke.replace(\"author_\", \"\")}\\t{va[0]}\\t{author_ref}\\t{au_match}\\t{va[1]}\\t{century_ref}\\t{century_match}\\t{century_diff}\")\n",
    "  print(f\"Total author matches: {au_matches} ({100*(au_matches/len(ainfo))}%)\")\n",
    "  print(f\"Total century matches: {century_matches} ({100*(century_matches/len(ainfo))}%)\")\n",
    "  print(f\"Mean century difference: {np.mean(century_diffs)} ({np.std(century_diffs)})\")\n",
    "\n",
    "  centuries_sys = [va[1] for va in ainfo.values()]\n",
    "  centuries_ref = [md_df.loc[md_df['id'] == int(re.search(r\"_(\\d+)_\", ke).group(1)), 'centuryBirth'].iat[0] for ke in ainfo.keys()]\n",
    "\n",
    "  print(\"Pearson r\", pearsonr(centuries_sys, centuries_ref))\n",
    "  print(\"Spearman r\", spearmanr(centuries_sys, centuries_ref))"
   ]
  },
  {
   "cell_type": "code",
   "execution_count": 29,
   "id": "9c1d1af9495d76c5",
   "metadata": {
    "ExecuteTime": {
     "end_time": "2025-06-10T22:00:23.081010Z",
     "start_time": "2025-06-10T22:00:23.039776Z"
    },
    "scrolled": true
   },
   "outputs": [
    {
     "name": "stdout",
     "output_type": "stream",
     "text": [
      "0001_gemini-20-flash.json\tRubén Darío\tAugusto E. Madan\t0\t19\t19\t1\t0\n",
      "0002_gemini-20-flash.json\tLuis de Góngora\tJuan de Arguijo\t0\t17\t19\t0\t2\n",
      "0003_gemini-20-flash.json\tBlas de Otero\tJon Juaristi\t0\t20\t20\t1\t0\n",
      "0004_gemini-20-flash.json\tFrancisco de Quevedo\tMiguel de Cervantes\t0\t17\t19\t0\t2\n",
      "0005_gemini-20-flash.json\tDesconocido\tAugusto E. Madan\t0\t21\t19\t0\t2\n",
      "0006_gemini-20-flash.json\tFrancisco de Quevedo\tFrancisco de Quevedo\t1\t17\t16\t0\t1\n",
      "0007_gemini-20-flash.json\tFrancisco de Quevedo\tMiguel de Cervantes\t0\t17\t16\t0\t1\n",
      "0008_gemini-20-flash.json\tJosé Javier Alfaro\tJon Juaristi\t0\t20\t20\t1\t0\n",
      "0009_gemini-20-flash.json\tJosé Asunción Silva\tManuel Bernabé\t0\t19\t19\t1\t0\n",
      "0010_gemini-20-flash.json\tSor Juana Inés de la Cruz\tMelchor Jufré del Águila\t0\t17\t19\t0\t2\n",
      "0011_gemini-20-flash.json\tÁlvaro Cunqueiro\tJon Juaristi\t0\t20\t20\t1\t0\n",
      "0012_gemini-20-flash.json\tSor Juana Inés de la Cruz\tMatías Frigola y Picón\t0\t17\t17\t1\t0\n",
      "0013_gemini-20-flash.json\tJosé María Álvarez de Sotomayor y Flores\tBlas Sirvent\t0\t20\t19\t0\t1\n",
      "0014_gemini-20-flash.json\tNicolás Fernández de Moratín\tBlas Sirvent\t0\t18\t19\t0\t1\n",
      "0015_gemini-20-flash.json\tCarlos Edmundo de Ory\tMariano Álvarez Robles\t0\t20\t19\t0\t1\n",
      "0016_gemini-20-flash.json\tManuel del Palacio\tManuel Bretón de los Herreros\t0\t19\t19\t1\t0\n",
      "0017_gemini-20-flash.json\tJuan Meléndez Valdés\tWenceslao Ayguals de Izco\t0\t18\t19\t0\t1\n",
      "0018_gemini-20-flash.json\tJuan de Tassis y Peralta, Conde de Villamediana\tMiguel Agustín Príncipe\t0\t17\t19\t0\t2\n",
      "0019_gemini-20-flash.json\tBartolomé José Gallardo\tAnónimo\t0\t19\t19\t1\t0\n",
      "0020_gemini-20-flash.json\tLeandro Fernández de Moratín\tJuan Martínez Villergas\t0\t18\t19\t0\t1\n",
      "0021_gemini-20-flash.json\tRamón de Campoamor\tManuel del Palacio\t0\t19\t19\t1\t0\n",
      "0022_gemini-20-flash.json\tLeopoldo Lugones\tEnrique Sierra Valenzuela\t0\t20\t19\t0\t1\n",
      "0023_gemini-20-flash.json\tFrancisco de Asís Izquierdo\tMiguel Ramos Carrión\t0\t20\t19\t0\t1\n",
      "0024_gemini-20-flash.json\tGloria Fuertes\tJosé Campo Moreno\t0\t20\t19\t0\t1\n",
      "0025_gemini-20-flash.json\tÁngel González\tJoaquín Sabina\t0\t20\t20\t1\t0\n",
      "0026_gemini-20-flash.json\tLope de Vega\tCamila Lucinda\t0\t17\t16\t0\t1\n",
      "0027_gemini-20-flash.json\tFray Francisco Lobón\tJosé Francisco de Isla, «Padre Isla»\t0\t18\t18\t1\t0\n",
      "0028_gemini-20-flash.json\tJosé María de Heredia\tEmilio Mora\t0\t19\t19\t1\t0\n",
      "0029_gemini-20-flash.json\tCarolina Coronado\tManuel del Palacio\t0\t19\t19\t1\t0\n",
      "0030_gemini-20-flash.json\tSor Juana Inés de la Cruz\tJuan Meléndez Valdés\t0\t17\t18\t0\t1\n",
      "0031_gemini-20-flash.json\tGutierre de Cetina\tJuan Meléndez Valdés\t0\t16\t18\t0\t2\n",
      "0032_gemini-20-flash.json\tRicardo Gil\tJulián del Casal\t0\t20\t19\t0\t1\n",
      "0033_gemini-20-flash.json\tJosé de Cañizares\tLuis Vélez de Guevara\t0\t17\t16\t0\t1\n",
      "0034_gemini-20-flash.json\tGutierre de Cetina\tFrancisco de Figueroa\t0\t16\t16\t1\t0\n",
      "0035_gemini-20-flash.json\tBartolomé Cairasco de Figueroa\tCarlos de la Coba Machicao\t0\t16\t16\t1\t0\n",
      "0036_gemini-20-flash.json\tFrancisco de Quevedo\tFrancisco de Terrazas\t0\t17\t16\t0\t1\n",
      "0037_gemini-20-flash.json\tManuel Reina\tArturo Reyes\t0\t19\t19\t1\t0\n",
      "0038_gemini-20-flash.json\tManuel Gutiérrez Nájera\tNicolás Arnao\t0\t19\t19\t1\t0\n",
      "0039_gemini-20-flash.json\tLope de Vega\tJuan Bautista de Mesa\t0\t17\t17\t1\t0\n",
      "0040_gemini-20-flash.json\tCarolina Coronado\tFrancisco Javier Ugarte y Pages\t0\t19\t19\t1\t0\n",
      "0041_gemini-20-flash.json\tManuel Reina\tMercedes Matamoros\t0\t19\t19\t1\t0\n",
      "0042_gemini-20-flash.json\tMiguel Hernández\tJulio Herrera y Reissig\t0\t20\t19\t0\t1\n",
      "0043_gemini-20-flash.json\tLope de Vega\tSimón Villalobos Benavides y Calatayud\t0\t17\t17\t1\t0\n",
      "0044_gemini-20-flash.json\tRicardo Güiraldes\tManuel José Othón\t0\t20\t19\t0\t1\n",
      "0045_gemini-20-flash.json\tRosalía de Castro\tManuel José Othón\t0\t19\t19\t1\t0\n",
      "0046_gemini-20-flash.json\tJosé María Eguren\tJosé Selgas y Carrasco\t0\t20\t19\t0\t1\n",
      "0047_gemini-20-flash.json\tRicardo Palma\tJacinto Verdaguer\t0\t19\t19\t1\t0\n",
      "0048_gemini-20-flash.json\tNicomedes Pastor Díaz\tJosé Gonzalo Roldán\t0\t19\t19\t1\t0\n",
      "0049_gemini-20-flash.json\tJulián del Casal\tRubén Darío\t0\t19\t19\t1\t0\n",
      "0050_gemini-20-flash.json\tRamón del Valle-Inclán\tRubén Darío\t0\t19\t19\t1\t0\n",
      "0051_gemini-20-flash.json\tManuel del Palacio\tManuel del Palacio\t1\t19\t19\t1\t0\n",
      "0052_gemini-20-flash.json\tManuel María Flores\tManuel del Palacio\t0\t19\t19\t1\t0\n",
      "0053_gemini-20-flash.json\tLuis de Góngora\tManuel del Palacio\t0\t17\t19\t0\t2\n",
      "0054_gemini-20-flash.json\tManuel del Palacio\tManuel del Palacio\t1\t19\t19\t1\t0\n",
      "0055_gemini-20-flash.json\tNicolás Fernández de Moratín\tManuel del Palacio\t0\t18\t19\t0\t1\n",
      "0056_gemini-20-flash.json\tGustavo Adolfo Bécquer\tManuel del Palacio\t0\t19\t19\t1\t0\n",
      "0057_gemini-20-flash.json\tRamón de Campoamor\tManuel del Palacio\t0\t19\t19\t1\t0\n",
      "0058_gemini-20-flash.json\tRamón de Campoamor\tManuel del Palacio\t0\t19\t19\t1\t0\n",
      "0059_gemini-20-flash.json\tRamón de Campoamor\tManuel del Palacio\t0\t19\t19\t1\t0\n",
      "0060_gemini-20-flash.json\tAntonio Machado\tManuel del Palacio\t0\t20\t19\t0\t1\n",
      "0061_gemini-20-flash.json\tLeopoldo María Panero\tManuel del Palacio\t0\t20\t19\t0\t1\n",
      "0062_gemini-20-flash.json\tLeopoldo Panero\tManuel del Palacio\t0\t20\t19\t0\t1\n",
      "0063_gemini-20-flash.json\tRamón de Campoamor\tManuel del Palacio\t0\t19\t19\t1\t0\n",
      "0064_gemini-20-flash.json\tRamón de Campoamor\tManuel del Palacio\t0\t19\t19\t1\t0\n",
      "0065_gemini-20-flash.json\tFrancisco de Quevedo\tManuel del Palacio\t0\t17\t19\t0\t2\n",
      "0066_gemini-20-flash.json\tLuis Alberto de Cuenca\tManuel del Palacio\t0\t20\t19\t0\t1\n",
      "0067_gemini-20-flash.json\tManuel del Palacio\tManuel del Palacio\t1\t19\t19\t1\t0\n",
      "0068_gemini-20-flash.json\tLeandro Fernández de Moratín\tManuel del Palacio\t0\t18\t19\t0\t1\n",
      "0069_gemini-20-flash.json\tFrancisco de Quevedo\tJuan de Tassis y Peralta, Conde de Villamediana\t0\t17\t16\t0\t1\n",
      "0070_gemini-20-flash.json\tSor Juana Inés de la Cruz\tJuan de Tassis y Peralta, Conde de Villamediana\t0\t17\t16\t0\t1\n",
      "0071_gemini-20-flash.json\tFrancisco de Quevedo\tJuan de Tassis y Peralta, Conde de Villamediana\t0\t17\t16\t0\t1\n",
      "0072_gemini-20-flash.json\tFrancisco de Quevedo\tJuan de Tassis y Peralta, Conde de Villamediana\t0\t17\t16\t0\t1\n",
      "0073_gemini-20-flash.json\tFrancisco de Quevedo\tJuan de Tassis y Peralta, Conde de Villamediana\t0\t17\t16\t0\t1\n",
      "0074_gemini-20-flash.json\tFrancisco de Quevedo\tJuan de Tassis y Peralta, Conde de Villamediana\t0\t17\t16\t0\t1\n",
      "0075_gemini-20-flash.json\tLuis de Góngora\tJuan de Tassis y Peralta, Conde de Villamediana\t0\t17\t16\t0\t1\n",
      "0076_gemini-20-flash.json\tFrancisco de Quevedo\tJuan de Tassis y Peralta, Conde de Villamediana\t0\t17\t16\t0\t1\n",
      "0077_gemini-20-flash.json\tSalvador Rueda\tManuel Bernabé\t0\t19\t19\t1\t0\n",
      "0078_gemini-20-flash.json\tJosé Rizal\tManuel Bernabé\t0\t19\t19\t1\t0\n",
      "0079_gemini-20-flash.json\tPedro Calderón de la Barca\tJuan Francisco Andrés\t0\t17\t17\t1\t0\n",
      "0080_gemini-20-flash.json\tSor Juana Inés de la Cruz\tFrancisco de Sigüenza\t0\t17\t17\t1\t0\n",
      "0081_gemini-20-flash.json\tLope de Vega\tJuan Francisco de Prado\t0\t17\t17\t1\t0\n",
      "0082_gemini-20-flash.json\tJosé Joaquín de Olmedo\tJosé Joaquín Olmedo\t0\t19\t18\t0\t1\n",
      "0083_gemini-20-flash.json\tSor Juana Inés de la Cruz\tAntonio Ros de Olano\t0\t17\t19\t0\t2\n",
      "0084_gemini-20-flash.json\tGustavo Adolfo Bécquer\tRosario («Crisantema») Sansores\t0\t19\t19\t1\t0\n",
      "0085_gemini-20-flash.json\tÍñigo López de Mendoza\tMarqués de Santillana\t0\t15\t14\t0\t1\n",
      "0086_gemini-20-flash.json\tGutierre de Cetina\tFrancisco de Terrazas\t0\t16\t16\t1\t0\n",
      "0087_gemini-20-flash.json\tSor Juana Inés de la Cruz\tPedro de Quirós\t0\t17\t16\t0\t1\n",
      "0088_gemini-20-flash.json\tJuan Meléndez Valdés\tMelchor Palau y Català\t0\t18\t19\t0\t1\n",
      "0089_gemini-20-flash.json\tFrancisco de Aldana\tLuis Martín de la Plaza\t0\t16\t16\t1\t0\n",
      "0090_gemini-20-flash.json\tJosé Asunción Silva\tManuel Gutiérrez Nájera\t0\t19\t19\t1\t0\n",
      "0091_gemini-20-flash.json\tFrancisco de Aldana\tJerónimo de Lomas Cantoral\t0\t16\t16\t1\t0\n",
      "0092_gemini-20-flash.json\tSor Juana Inés de la Cruz\tJuan de San Martín\t0\t17\t17\t1\t0\n",
      "0093_gemini-20-flash.json\tFrancisco de Aldana\tLuis Barahona de Soto\t0\t16\t16\t1\t0\n",
      "0094_gemini-20-flash.json\tGustavo Adolfo Bécquer\tManuel Reina\t0\t19\t19\t1\t0\n",
      "0095_gemini-20-flash.json\tJuana de Ibarbourou\tConcepción Robles\t0\t20\t19\t0\t1\n",
      "0096_gemini-20-flash.json\tJosé María Pemán\tNuma Pompilio Llona\t0\t20\t19\t0\t1\n",
      "0097_gemini-20-flash.json\tJosé Asunción Silva\tJulio Flores Roa\t0\t19\t19\t1\t0\n",
      "0098_gemini-20-flash.json\tManuel José Othón\tMercedes de Velilla Rodríguez\t0\t19\t19\t1\t0\n",
      "0099_gemini-20-flash.json\tJuan Meléndez Valdés\tFernando Maristany\t0\t18\t19\t0\t1\n",
      "0100_gemini-20-flash.json\tLuis Cernuda\tEsther Lucila Vázquez\t0\t20\t19\t0\t1\n",
      "Total author matches: 4 (4.0%)\n",
      "Total century matches: 51 (51.0%)\n",
      "Mean century difference: 0.58 (0.6508456038109192)\n",
      "Pearson r PearsonRResult(statistic=0.7904930628145049, pvalue=1.3776300872592126e-22)\n",
      "Spearman r SignificanceResult(statistic=0.777724579586946, pvalue=1.7891221880511335e-21)\n"
     ]
    }
   ],
   "source": [
    "reload(ut)\n",
    "analyze_author_info(model_35_res_dir, md_df)"
   ]
  },
  {
   "cell_type": "code",
   "execution_count": 34,
   "id": "3e2a0faa6eb215bc",
   "metadata": {
    "ExecuteTime": {
     "end_time": "2025-06-10T22:00:25.662617Z",
     "start_time": "2025-06-10T22:00:25.627573Z"
    }
   },
   "outputs": [
    {
     "name": "stdout",
     "output_type": "stream",
     "text": [
      "0001_gemini-15-pro.json\tJosé Juan Tablada\tAugusto E. Madan\t0\t20\t19\t0\t1\n",
      "0002_gemini-15-pro.json\tAnónimo\tJuan de Arguijo\t0\t16\t19\t0\t3\n",
      "0003_gemini-15-pro.json\tJosé María Gabriel y Galán\tJon Juaristi\t0\t19\t20\t0\t1\n",
      "0004_gemini-15-pro.json\tFrancisco de Quevedo\tMiguel de Cervantes\t0\t17\t19\t0\t2\n",
      "0005_gemini-15-pro.json\tFrancisco Javier Vázquez Fernández\tAugusto E. Madan\t0\t21\t19\t0\t2\n",
      "0006_gemini-15-pro.json\tFrancisco de Quevedo\tFrancisco de Quevedo\t1\t17\t16\t0\t1\n",
      "0007_gemini-15-pro.json\tLope de Vega\tMiguel de Cervantes\t0\t17\t16\t0\t1\n",
      "0008_gemini-15-pro.json\tLuis García Montero\tJon Juaristi\t0\t20\t20\t1\t0\n",
      "0009_gemini-15-pro.json\tRamón López Velarde\tManuel Bernabé\t0\t20\t19\t0\t1\n",
      "0010_gemini-15-pro.json\tFrancisco de Quevedo\tMelchor Jufré del Águila\t0\t17\t19\t0\t2\n",
      "0011_gemini-15-pro.json\tFelipe Benítez Reyes\tJon Juaristi\t0\t20\t20\t1\t0\n",
      "0012_gemini-15-pro.json\tSor Juana Inés de la Cruz\tMatías Frigola y Picón\t0\t17\t17\t1\t0\n",
      "0013_gemini-15-pro.json\tFrancisco Villaespesa Martín\tBlas Sirvent\t0\t19\t19\t1\t0\n",
      "0014_gemini-15-pro.json\tLuis de Góngora\tBlas Sirvent\t0\t17\t19\t0\t2\n",
      "0015_gemini-15-pro.json\tFrancisco de Quevedo\tMariano Álvarez Robles\t0\t17\t19\t0\t2\n",
      "0016_gemini-15-pro.json\tJosé Martí\tManuel Bretón de los Herreros\t0\t19\t19\t1\t0\n",
      "0017_gemini-15-pro.json\tLuis de Góngora\tWenceslao Ayguals de Izco\t0\t17\t19\t0\t2\n",
      "0018_gemini-15-pro.json\tLuis de Góngora\tMiguel Agustín Príncipe\t0\t17\t19\t0\t2\n",
      "0019_gemini-15-pro.json\tRamón de Campoamor\tAnónimo\t0\t19\t19\t1\t0\n",
      "0020_gemini-15-pro.json\tRicardo Alcázar\tJuan Martínez Villergas\t0\t19\t19\t1\t0\n",
      "0021_gemini-15-pro.json\tManuel Reina Montilla\tManuel del Palacio\t0\t19\t19\t1\t0\n",
      "0022_gemini-15-pro.json\tLuis de Góngora\tEnrique Sierra Valenzuela\t0\t16\t19\t0\t3\n",
      "0023_gemini-15-pro.json\tFrancisco Villaespesa Martín\tMiguel Ramos Carrión\t0\t19\t19\t1\t0\n",
      "0024_gemini-15-pro.json\tFélix María de Samaniego\tJosé Campo Moreno\t0\t18\t19\t0\t1\n",
      "0025_gemini-15-pro.json\tLuis Alberto de Cuenca\tJoaquín Sabina\t0\t20\t20\t1\t0\n",
      "0026_gemini-15-pro.json\tSor Juana Inés de la Cruz\tCamila Lucinda\t0\t17\t16\t0\t1\n",
      "0027_gemini-15-pro.json\tJosé Cadalso\tJosé Francisco de Isla, «Padre Isla»\t0\t18\t18\t1\t0\n",
      "0028_gemini-15-pro.json\tGabriela Mistral\tEmilio Mora\t0\t20\t19\t0\t1\n",
      "0029_gemini-15-pro.json\tCarolina Coronado\tManuel del Palacio\t0\t19\t19\t1\t0\n",
      "0030_gemini-15-pro.json\tGaspar de Barrionuevo\tJuan Meléndez Valdés\t0\t17\t18\t0\t1\n",
      "0031_gemini-15-pro.json\tGarcilaso de la Vega\tJuan Meléndez Valdés\t0\t16\t18\t0\t2\n",
      "0032_gemini-15-pro.json\tJosé María Gabriel y Galán\tJulián del Casal\t0\t19\t19\t1\t0\n",
      "0033_gemini-15-pro.json\tPedro Calderón de la Barca\tLuis Vélez de Guevara\t0\t17\t16\t0\t1\n",
      "0034_gemini-15-pro.json\tGarcilaso de la Vega\tFrancisco de Figueroa\t0\t16\t16\t1\t0\n",
      "0035_gemini-15-pro.json\tBartolomé Cairasco de Figueroa\tCarlos de la Coba Machicao\t0\t16\t16\t1\t0\n",
      "0036_gemini-15-pro.json\tGarcilaso de la Vega\tFrancisco de Terrazas\t0\t16\t16\t1\t0\n",
      "0037_gemini-15-pro.json\tManuel Machado Ruiz\tArturo Reyes\t0\t19\t19\t1\t0\n",
      "0038_gemini-15-pro.json\tManuel Gutiérrez Nájera\tNicolás Arnao\t0\t19\t19\t1\t0\n",
      "0039_gemini-15-pro.json\tSor Juana Inés de la Cruz\tJuan Bautista de Mesa\t0\t17\t17\t1\t0\n",
      "0040_gemini-15-pro.json\tFrancisco Luis Bernárdez\tFrancisco Javier Ugarte y Pages\t0\t20\t19\t0\t1\n",
      "0041_gemini-15-pro.json\tManuel Gutiérrez Nájera\tMercedes Matamoros\t0\t19\t19\t1\t0\n",
      "0042_gemini-15-pro.json\tMiguel de Unamuno\tJulio Herrera y Reissig\t0\t20\t19\t0\t1\n",
      "0043_gemini-15-pro.json\tSor Juana Inés de la Cruz\tSimón Villalobos Benavides y Calatayud\t0\t17\t17\t1\t0\n",
      "0044_gemini-15-pro.json\tLeopoldo Lugones\tManuel José Othón\t0\t19\t19\t1\t0\n",
      "0045_gemini-15-pro.json\tManuel Machado Ruiz\tManuel José Othón\t0\t19\t19\t1\t0\n",
      "0046_gemini-15-pro.json\tJosé María Gabriel y Galán\tJosé Selgas y Carrasco\t0\t19\t19\t1\t0\n",
      "0047_gemini-15-pro.json\tManuel Gutiérrez Nájera\tJacinto Verdaguer\t0\t19\t19\t1\t0\n",
      "0048_gemini-15-pro.json\tJosé Zorrilla\tJosé Gonzalo Roldán\t0\t19\t19\t1\t0\n",
      "0049_gemini-15-pro.json\tJosé Asunción Silva\tRubén Darío\t0\t19\t19\t1\t0\n",
      "0050_gemini-15-pro.json\tRamón María del Valle-Inclán\tRubén Darío\t0\t20\t19\t0\t1\n",
      "0051_gemini-15-pro.json\tLope de Vega\tManuel del Palacio\t0\t17\t19\t0\t2\n",
      "0052_gemini-15-pro.json\tAntonio Machado\tManuel del Palacio\t0\t20\t19\t0\t1\n",
      "0053_gemini-15-pro.json\tLuis de Góngora\tManuel del Palacio\t0\t17\t19\t0\t2\n",
      "0054_gemini-15-pro.json\tSor Juana Inés de la Cruz\tManuel del Palacio\t0\t17\t19\t0\t2\n",
      "0055_gemini-15-pro.json\tLuis de Góngora\tManuel del Palacio\t0\t16\t19\t0\t3\n",
      "0056_gemini-15-pro.json\tCarlos Pezoa Véliz\tManuel del Palacio\t0\t20\t19\t0\t1\n",
      "0057_gemini-15-pro.json\tManuel Gutiérrez Nájera\tManuel del Palacio\t0\t19\t19\t1\t0\n",
      "0058_gemini-15-pro.json\tGaspar Núñez de Arce\tManuel del Palacio\t0\t19\t19\t1\t0\n",
      "0059_gemini-15-pro.json\tLuis de Góngora\tManuel del Palacio\t0\t17\t19\t0\t2\n",
      "0060_gemini-15-pro.json\tJuan Ramón Jiménez\tManuel del Palacio\t0\t20\t19\t0\t1\n",
      "0061_gemini-15-pro.json\tManuel Gutiérrez Nájera\tManuel del Palacio\t0\t19\t19\t1\t0\n",
      "0062_gemini-15-pro.json\tJosé Zorrilla\tManuel del Palacio\t0\t19\t19\t1\t0\n",
      "0063_gemini-15-pro.json\tJosé Santos Chocano\tManuel del Palacio\t0\t20\t19\t0\t1\n",
      "0064_gemini-15-pro.json\tManuel Bretón de los Herreros\tManuel del Palacio\t0\t19\t19\t1\t0\n",
      "0065_gemini-15-pro.json\tSor Juana Inés de la Cruz\tManuel del Palacio\t0\t17\t19\t0\t2\n",
      "0066_gemini-15-pro.json\tAlfonsina Storni\tManuel del Palacio\t0\t20\t19\t0\t1\n",
      "0067_gemini-15-pro.json\tManuel Gutiérrez Nájera\tManuel del Palacio\t0\t19\t19\t1\t0\n",
      "0068_gemini-15-pro.json\tJuan Meléndez Valdés\tManuel del Palacio\t0\t18\t19\t0\t1\n",
      "0069_gemini-15-pro.json\tBaltasar del Alcázar\tJuan de Tassis y Peralta, Conde de Villamediana\t0\t17\t16\t0\t1\n",
      "0070_gemini-15-pro.json\tSor Juana Inés de la Cruz\tJuan de Tassis y Peralta, Conde de Villamediana\t0\t17\t16\t0\t1\n",
      "0071_gemini-15-pro.json\tLope de Vega\tJuan de Tassis y Peralta, Conde de Villamediana\t0\t17\t16\t0\t1\n",
      "0072_gemini-15-pro.json\tFrancisco de Quevedo\tJuan de Tassis y Peralta, Conde de Villamediana\t0\t17\t16\t0\t1\n",
      "0073_gemini-15-pro.json\tFrancisco de Quevedo\tJuan de Tassis y Peralta, Conde de Villamediana\t0\t17\t16\t0\t1\n",
      "0074_gemini-15-pro.json\tFrancisco de Quevedo\tJuan de Tassis y Peralta, Conde de Villamediana\t0\t17\t16\t0\t1\n",
      "0075_gemini-15-pro.json\tLope de Vega\tJuan de Tassis y Peralta, Conde de Villamediana\t0\t17\t16\t0\t1\n",
      "0076_gemini-15-pro.json\tFrancisco de Quevedo\tJuan de Tassis y Peralta, Conde de Villamediana\t0\t17\t16\t0\t1\n",
      "0077_gemini-15-pro.json\tAmado Nervo\tManuel Bernabé\t0\t19\t19\t1\t0\n",
      "0078_gemini-15-pro.json\tJosé Rizal\tManuel Bernabé\t0\t19\t19\t1\t0\n",
      "0079_gemini-15-pro.json\tLope de Vega\tJuan Francisco Andrés\t0\t16\t17\t0\t1\n",
      "0080_gemini-15-pro.json\tSor Juana Inés de la Cruz\tFrancisco de Sigüenza\t0\t17\t17\t1\t0\n",
      "0081_gemini-15-pro.json\tLope de Vega\tJuan Francisco de Prado\t0\t17\t17\t1\t0\n",
      "0082_gemini-15-pro.json\tJosé Joaquín Olmedo\tJosé Joaquín Olmedo\t1\t19\t18\t0\t1\n",
      "0083_gemini-15-pro.json\tSor Juana Inés de la Cruz\tAntonio Ros de Olano\t0\t17\t19\t0\t2\n",
      "0084_gemini-15-pro.json\tManuel Gutiérrez Nájera\tRosario («Crisantema») Sansores\t0\t19\t19\t1\t0\n",
      "0085_gemini-15-pro.json\tÍñigo López de Mendoza, Marqués de Santillana\tMarqués de Santillana\t0\t15\t14\t0\t1\n",
      "0086_gemini-15-pro.json\tGarcilaso de la Vega\tFrancisco de Terrazas\t0\t16\t16\t1\t0\n",
      "0087_gemini-15-pro.json\tSor Juana Inés de la Cruz\tPedro de Quirós\t0\t17\t16\t0\t1\n",
      "0088_gemini-15-pro.json\tPedro Espinosa\tMelchor Palau y Català\t0\t16\t19\t0\t3\n",
      "0089_gemini-15-pro.json\tSor Juana Inés de la Cruz\tLuis Martín de la Plaza\t0\t17\t16\t0\t1\n",
      "0090_gemini-15-pro.json\tAlfonsina Storni\tManuel Gutiérrez Nájera\t0\t20\t19\t0\t1\n",
      "0091_gemini-15-pro.json\tSor Juana Inés de la Cruz\tJerónimo de Lomas Cantoral\t0\t17\t16\t0\t1\n",
      "0092_gemini-15-pro.json\tSor Juana Inés de la Cruz\tJuan de San Martín\t0\t17\t17\t1\t0\n",
      "0093_gemini-15-pro.json\tGarcilaso de la Vega\tLuis Barahona de Soto\t0\t16\t16\t1\t0\n",
      "0094_gemini-15-pro.json\tAmado Nervo\tManuel Reina\t0\t19\t19\t1\t0\n",
      "0095_gemini-15-pro.json\tAlfonsina Storni\tConcepción Robles\t0\t20\t19\t0\t1\n",
      "0096_gemini-15-pro.json\tGaspar Núñez de Arce\tNuma Pompilio Llona\t0\t19\t19\t1\t0\n",
      "0097_gemini-15-pro.json\tJosé Santos Chocano\tJulio Flores Roa\t0\t20\t19\t0\t1\n",
      "0098_gemini-15-pro.json\tVentura Ruiz Aguilera\tMercedes de Velilla Rodríguez\t0\t19\t19\t1\t0\n",
      "0099_gemini-15-pro.json\tGarcilaso de la Vega\tFernando Maristany\t0\t16\t19\t0\t3\n",
      "0100_gemini-15-pro.json\tJosé Santos Chocano\tEsther Lucila Vázquez\t0\t20\t19\t0\t1\n",
      "Total author matches: 2 (2.0%)\n",
      "Total century matches: 44 (44.0%)\n",
      "Mean century difference: 0.8 (0.8602325267042628)\n",
      "Pearson r PearsonRResult(statistic=0.6426031150361116, pvalue=5.712024558809336e-13)\n",
      "Spearman r SignificanceResult(statistic=0.6309664001217118, pvalue=1.972009628899293e-12)\n"
     ]
    }
   ],
   "source": [
    "analyze_author_info(model_4o_res_dir, md_df)"
   ]
  }
 ],
 "metadata": {
  "kernelspec": {
   "display_name": "Python 3 (ipykernel)",
   "language": "python",
   "name": "python3"
  },
  "language_info": {
   "codemirror_mode": {
    "name": "ipython",
    "version": 3
   },
   "file_extension": ".py",
   "mimetype": "text/x-python",
   "name": "python",
   "nbconvert_exporter": "python",
   "pygments_lexer": "ipython3",
   "version": "3.12.3"
  }
 },
 "nbformat": 4,
 "nbformat_minor": 5
}
